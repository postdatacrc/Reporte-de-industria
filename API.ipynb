{
 "cells": [
  {
   "cell_type": "code",
   "execution_count": 1,
   "id": "79078070",
   "metadata": {
    "ExecuteTime": {
     "end_time": "2023-04-21T15:25:13.770794Z",
     "start_time": "2023-04-21T15:25:12.862119Z"
    }
   },
   "outputs": [],
   "source": [
    "import pandas as pd\n",
    "import numpy as np\n",
    "import glob\n",
    "import os\n",
    "from urllib.request import urlopen\n",
    "import json\n",
    "import plotly.express as px\n",
    "import plotly.graph_objects as go\n",
    "from plotly.subplots import make_subplots"
   ]
  },
  {
   "cell_type": "code",
   "execution_count": 3,
   "id": "818a9aac",
   "metadata": {
    "ExecuteTime": {
     "end_time": "2023-04-21T15:25:55.238144Z",
     "start_time": "2023-04-21T15:25:54.440112Z"
    }
   },
   "outputs": [],
   "source": [
    "def ReadApiTelMovilTraficoCodigosCortos():\n",
    "    resourceid = '7c2910ca-29d4-4ee3-99ae-4fc2f09eeb86'\n",
    "    consulta='https://www.postdata.gov.co/api/action/datastore/search.json?resource_id=' + resourceid + ''\\\n",
    "              '&filters[anno]=' + '2018,2019,2020,2021' + ''\\\n",
    "              '&fields[]=anno&fields[]=trimestre&fields[]=id_empresa&fields[]=empresa'\\\n",
    "              '&group_by=anno,trimestre,id_empresa,empresa'\\\n",
    "              '&sum[]=trafico_terminado&sum[]=trafico_originado' \n",
    "    response_base = urlopen(consulta + '&limit=10000000') \n",
    "    json_base = json.loads(response_base.read())\n",
    "    VOZ_TRAF = pd.DataFrame(json_base['result']['records'])\n",
    "    VOZ_TRAF.sum_trafico_terminado = VOZ_TRAF.sum_trafico_terminado.astype('int64')\n",
    "    VOZ_TRAF.sum_trafico_originado = VOZ_TRAF.sum_trafico_originado.astype('int64')\n",
    "    VOZ_TRAF = VOZ_TRAF.rename(columns={'sum_trafico_terminado':'trafico terminado','sum_trafico_originado':'trafico originado'})\n",
    "    VOZ_TRAF['periodo']=VOZ_TRAF['anno']+'-T'+VOZ_TRAF['trimestre']\n",
    "    return VOZ_TRAF\n",
    "TraficoSMSCodigosCortos=ReadApiTelMovilTraficoCodigosCortos()"
   ]
  },
  {
   "cell_type": "code",
   "execution_count": null,
   "id": "620bf14d",
   "metadata": {
    "ExecuteTime": {
     "end_time": "2023-04-17T17:07:01.058393Z",
     "start_time": "2023-04-17T17:07:01.026752Z"
    }
   },
   "outputs": [],
   "source": [
    "consulta_anno = '2017,2018,2019,2020,2021,2022,2023,2024,2025'"
   ]
  },
  {
   "cell_type": "code",
   "execution_count": null,
   "id": "98c81ab4",
   "metadata": {
    "ExecuteTime": {
     "end_time": "2023-04-17T17:09:30.554142Z",
     "start_time": "2023-04-17T17:08:33.606875Z"
    }
   },
   "outputs": [],
   "source": [
    "def ReadApiTVSUSSus():\n",
    "    resourceid = '0c4b69a7-734d-432c-9d9b-9dc600d50391'\n",
    "    consulta='https://www.postdata.gov.co/api/action/datastore/search.json?resource_id=' + resourceid + ''\\\n",
    "             '&filters[mes_del_trimestre]=3,6,9,12&filters[anno]=' + consulta_anno + ''\\\n",
    "             '&fields[]=anno&fields[]=trimestre&fields[]=id_empresa&fields[]=empresa&fields[]=id_departamento&fields[]=departamento&fields[]=id_municipio&fields[]=municipio'\\\n",
    "             '&group_by=anno,trimestre,id_empresa,empresa,id_departamento,departamento,id_municipio,municipio'\\\n",
    "             '&sum=suscriptores' \n",
    "    response_base = urlopen(consulta + '&limit=10000000') \n",
    "    json_base = json.loads(response_base.read())\n",
    "    TV_SUS = pd.DataFrame(json_base['result']['records'])\n",
    "    TV_SUS.sum_suscriptores = TV_SUS.sum_suscriptores.astype('int64')\n",
    "    TV_SUS = TV_SUS.rename(columns={'id_operador':'id_empresa','operador':'empresa','sum_suscriptores':'suscriptores'})\n",
    "    return TV_SUS  \n",
    "ReadApiTVSUSSus()"
   ]
  },
  {
   "cell_type": "code",
   "execution_count": null,
   "id": "2ffa82ce",
   "metadata": {
    "ExecuteTime": {
     "end_time": "2022-08-25T16:15:39.917753Z",
     "start_time": "2022-08-25T16:15:21.077489Z"
    }
   },
   "outputs": [],
   "source": [
    "import APIs as api"
   ]
  },
  {
   "cell_type": "code",
   "execution_count": null,
   "id": "a4e6aa3a",
   "metadata": {
    "ExecuteTime": {
     "end_time": "2022-07-30T02:39:43.937502Z",
     "start_time": "2022-07-30T02:39:43.929505Z"
    }
   },
   "outputs": [],
   "source": [
    "def APIsIntFijo():\n",
    "    from APIs import AccesosCorpIntFijo\n",
    "    return AccesosCorpIntFijo"
   ]
  },
  {
   "cell_type": "code",
   "execution_count": null,
   "id": "aeda9b71",
   "metadata": {
    "ExecuteTime": {
     "end_time": "2022-07-30T02:41:25.433859Z",
     "start_time": "2022-07-30T02:41:25.417886Z"
    }
   },
   "outputs": [],
   "source": [
    "AccesosCorpIntFijo=APIsIntFijo()\n",
    "AccesosCorpIntFijo"
   ]
  },
  {
   "cell_type": "code",
   "execution_count": null,
   "id": "094577ac",
   "metadata": {
    "ExecuteTime": {
     "end_time": "2022-07-30T02:37:38.328077Z",
     "start_time": "2022-07-30T02:37:38.300094Z"
    }
   },
   "outputs": [],
   "source": [
    "api.AccesosCorpIntFijo"
   ]
  },
  {
   "cell_type": "code",
   "execution_count": null,
   "id": "8d75d683",
   "metadata": {
    "ExecuteTime": {
     "end_time": "2022-07-30T02:17:05.778333Z",
     "start_time": "2022-07-30T02:17:05.764343Z"
    }
   },
   "outputs": [],
   "source": [
    "def libreriasAPIS():\n",
    "    from APIs import AbonadosTelMovil,TraficoTelMovil\n",
    "    return AbonadosTelMovil,TraficoTelMovil"
   ]
  },
  {
   "cell_type": "code",
   "execution_count": null,
   "id": "c9d2cc1f",
   "metadata": {
    "ExecuteTime": {
     "end_time": "2022-07-30T02:20:50.425234Z",
     "start_time": "2022-07-30T02:20:50.415225Z"
    }
   },
   "outputs": [],
   "source": [
    "def APISTelMovil():\n",
    "    from APIs import AbonadosTelMovil,TraficoTelMovil,IngresosTelMovil,TraficoSMSTelMovil,IngresosSMSTelMovil\n",
    "    return AbonadosTelMovil,TraficoTelMovil,IngresosTelMovil,TraficoSMSTelMovil,IngresosSMSTelMovil"
   ]
  },
  {
   "cell_type": "markdown",
   "id": "dcecdfb9",
   "metadata": {},
   "source": [
    "# Telefonía móvil"
   ]
  },
  {
   "cell_type": "markdown",
   "id": "9971bccf",
   "metadata": {},
   "source": [
    "## Abonados"
   ]
  },
  {
   "cell_type": "code",
   "execution_count": null,
   "id": "2342f614",
   "metadata": {
    "ExecuteTime": {
     "end_time": "2023-01-25T14:19:06.850260Z",
     "start_time": "2023-01-25T14:19:05.813722Z"
    }
   },
   "outputs": [],
   "source": [
    "def ReadApiTelMovilAbonados():\n",
    "    resourceid = '3a9c0304-3795-4c55-a78e-079362373b4d'\n",
    "    consulta='https://www.postdata.gov.co/api/action/datastore/search.json?resource_id=' + resourceid + ''\\\n",
    "             '&filters[anno]=' + '2018,2019,2020,2021' + ''\\\n",
    "             '&fields[]=anno&fields[]=trimestre&fields[]=id_proveedor&fields[]=proveedor&fields[]=modalidad'\\\n",
    "             '&group_by=anno,trimestre,modalidad,id_proveedor,proveedor'\\\n",
    "             '&sum=abonados' \n",
    "    response_base = urlopen(consulta + '&limit=10000000') \n",
    "    json_base = json.loads(response_base.read())\n",
    "    VOZ_ABO = pd.DataFrame(json_base['result']['records'])\n",
    "    VOZ_ABO.sum_abonados = VOZ_ABO.sum_abonados.astype('int64')\n",
    "    VOZ_ABO = VOZ_ABO.rename(columns={'id_proveedor':'id_empresa','proveedor':'empresa','sum_abonados':'abonados'})\n",
    "    return VOZ_ABO\n",
    "AbonadosTelMovil=ReadApiTelMovilAbonados()"
   ]
  },
  {
   "cell_type": "code",
   "execution_count": null,
   "id": "9ebb8a9d",
   "metadata": {
    "ExecuteTime": {
     "end_time": "2022-07-26T14:17:09.909597Z",
     "start_time": "2022-07-26T14:17:09.885616Z"
    }
   },
   "outputs": [],
   "source": [
    "'modalidad' in AbonadosTelMovil.columns.tolist()"
   ]
  },
  {
   "cell_type": "code",
   "execution_count": null,
   "id": "fe55977a",
   "metadata": {
    "ExecuteTime": {
     "end_time": "2022-07-26T15:36:08.661651Z",
     "start_time": "2022-07-26T15:36:08.654636Z"
    }
   },
   "outputs": [],
   "source": [
    "def periodoformato(x):\n",
    "    return \"{0}-{1}\".format(*x.split('-')).replace('-','<br>')"
   ]
  },
  {
   "cell_type": "code",
   "execution_count": null,
   "id": "4641bb0f",
   "metadata": {
    "ExecuteTime": {
     "end_time": "2022-07-25T21:23:49.283924Z",
     "start_time": "2022-07-25T21:23:49.253945Z"
    }
   },
   "outputs": [],
   "source": [
    "periodoformato('2022-T2')"
   ]
  },
  {
   "cell_type": "code",
   "execution_count": null,
   "id": "5a348c92",
   "metadata": {
    "ExecuteTime": {
     "end_time": "2022-07-25T22:07:37.942403Z",
     "start_time": "2022-07-25T22:07:37.931393Z"
    }
   },
   "outputs": [],
   "source": [
    "nombresComerciales={'ALMACENES EXITO INVERSIONES S.A.S.':'Móvil Éxito',\n",
    " 'AVANTEL S.A.S.':'Avantel',\n",
    " 'COLOMBIA MOVIL S.A. E.S.P.':'Tigo',\n",
    " 'COLOMBIA TELECOMUNICACIONES S.A. ESP':'Telefónica',\n",
    " 'COMUNICACION CELULAR S A COMCEL S A':'Claro',\n",
    " 'EMPRESA DE TELECOMUNICACIONES DE BOGOTÁ S.A. ESP.':'ETB',\n",
    " 'LOGISTICA FLASH COLOMBIA S.A.S':'Flash',\n",
    " 'PARTNERS TELECOM COLOMBIA SAS':'WOM',\n",
    " 'SETROC MOBILE GROUP SAS':'Setroc',\n",
    " 'SUMA MOVIL SAS':'Suma',\n",
    " 'VIRGIN MOBILE COLOMBIA S.A.S.':'Virgin'}"
   ]
  },
  {
   "cell_type": "code",
   "execution_count": null,
   "id": "13474845",
   "metadata": {
    "ExecuteTime": {
     "end_time": "2022-08-25T16:21:30.422077Z",
     "start_time": "2022-08-25T16:21:30.404093Z"
    }
   },
   "outputs": [],
   "source": [
    "AbonadosTelMovil.groupby(['anno','trimestre'])['abonados'].sum().reset_index()  "
   ]
  },
  {
   "cell_type": "code",
   "execution_count": null,
   "id": "60291979",
   "metadata": {
    "ExecuteTime": {
     "end_time": "2022-07-25T22:18:44.382762Z",
     "start_time": "2022-07-25T22:18:44.350782Z"
    }
   },
   "outputs": [],
   "source": [
    "AboAnualTelMovl=AbonadosTelMovil.groupby(['anno','empresa','id_empresa'])['abonados'].sum().reset_index()  \n",
    "AboAnualTelMovl=AboAnualTelMovl[(AboAnualTelMovl['anno']=='2021')&(AboAnualTelMovl['abonados']>0)]\n",
    "AboAnualTelMovl['empresa']=AboAnualTelMovl['empresa'].replace(nombresComerciales)\n",
    "AboAnualTelMovl['participacion']=round(100*AboAnualTelMovl['abonados']/AboAnualTelMovl['abonados'].sum(),1)\n",
    "AboAnualTelMovl"
   ]
  },
  {
   "cell_type": "code",
   "execution_count": null,
   "id": "c5e590d1",
   "metadata": {
    "ExecuteTime": {
     "end_time": "2022-07-25T22:11:19.406272Z",
     "start_time": "2022-07-25T22:11:19.394300Z"
    }
   },
   "outputs": [],
   "source": [
    "Colores_pie={'Claro':'red','Telefónica':'rgb(154,205,50)','Tigo':'rgb(100,149,237)','Virgin':'rgb(153,50,204)',\n",
    "         'Móvil Éxito':'rgb(241, 196, 15)','WOM':'rgb(74, 35, 90)',\n",
    "        'Avantel':'rgb(240, 128, 128)','ETB':'rgb(26, 82, 118)','Flash':'black','Setroc':'black','Suma':'black'}"
   ]
  },
  {
   "cell_type": "code",
   "execution_count": null,
   "id": "cff2910e",
   "metadata": {
    "ExecuteTime": {
     "end_time": "2022-07-25T22:21:12.160981Z",
     "start_time": "2022-07-25T22:21:12.075032Z"
    }
   },
   "outputs": [],
   "source": [
    "df = px.data.tips()\n",
    "fig = px.pie(AboAnualTelMovl, values='abonados', names='empresa', color='empresa',\n",
    "             color_discrete_map=Colores_pie)\n",
    "fig.update_traces(textposition='inside',textinfo='percent+label',hoverinfo='label+percent')\n",
    "fig.update_layout(uniformtext_minsize=25,uniformtext_mode='hide',showlegend=True,legend=dict(x=0.1,y=0.3))\n",
    "fig.show()"
   ]
  },
  {
   "cell_type": "code",
   "execution_count": null,
   "id": "49810f98",
   "metadata": {
    "ExecuteTime": {
     "end_time": "2022-07-25T21:23:49.708555Z",
     "start_time": "2022-07-25T21:23:49.639427Z"
    }
   },
   "outputs": [],
   "source": [
    "bla=AbonadosTelMovil.groupby(['anno','trimestre','modalidad'])['abonados'].sum().reset_index()\n",
    "bla2=AbonadosTelMovil.groupby(['anno','trimestre'])['abonados'].sum().reset_index()\n",
    "bla2['modalidad']='TOTAL'\n",
    "total=pd.concat([bla,bla2]).sort_values(by=['anno','trimestre'])\n",
    "total['periodo']=total['trimestre']+'T-'+total['anno']\n",
    "qs=total['periodo']\n",
    "total['date'] = pd.PeriodIndex(qs, freq='Q').to_timestamp()\n",
    "total['periodo_formato']=total['periodo'].apply(periodoformato)"
   ]
  },
  {
   "cell_type": "code",
   "execution_count": null,
   "id": "ae921abe",
   "metadata": {
    "ExecuteTime": {
     "end_time": "2022-07-25T21:23:51.627562Z",
     "start_time": "2022-07-25T21:23:51.618570Z"
    }
   },
   "outputs": [],
   "source": [
    "\"{1}-{0}\".format(*total['periodo'].iloc[0].split('-')).replace('-','<br>')"
   ]
  },
  {
   "cell_type": "code",
   "execution_count": null,
   "id": "f49fae2b",
   "metadata": {
    "ExecuteTime": {
     "end_time": "2022-07-25T21:23:52.204189Z",
     "start_time": "2022-07-25T21:23:52.189201Z"
    }
   },
   "outputs": [],
   "source": [
    "df = pd.DataFrame({'Quarter':['2021-Q1','2021-Q2','2021-Q3','2021-Q4','2022-Q1','2022-Q2'],'Values':[10,11,12,9,8,7]})"
   ]
  },
  {
   "cell_type": "code",
   "execution_count": null,
   "id": "119cff1e",
   "metadata": {
    "ExecuteTime": {
     "end_time": "2022-07-25T21:23:52.995916Z",
     "start_time": "2022-07-25T21:23:52.718056Z"
    }
   },
   "outputs": [],
   "source": [
    "fig = go.Figure(go.Scatter(\n",
    "    x = df['Quarter'],\n",
    "    y = df['Values']))\n",
    "fig.update_xaxes(\n",
    "    tickformat=\"%q\\n%Y\")\n",
    "fig.show()"
   ]
  },
  {
   "cell_type": "code",
   "execution_count": null,
   "id": "db1ee9fd",
   "metadata": {
    "ExecuteTime": {
     "end_time": "2022-07-26T14:20:54.590421Z",
     "start_time": "2022-07-26T14:20:54.566423Z"
    }
   },
   "outputs": [],
   "source": [
    "def Plotlylineatiempo(df,column,unidad,escalamiento,colores):\n",
    "    maxdf=df[column].max()/escalamiento+10\n",
    "    fig = make_subplots(rows=1, cols=1)\n",
    "    if 'modalidad' in df.columns.tolist():\n",
    "        modalidad=df['modalidad'].unique().tolist()\n",
    "        for i,elem in enumerate(modalidad):\n",
    "            fig.add_trace(go.Scatter(x=df[df['modalidad']==elem]['periodo_formato'],\n",
    "            y=df[df['modalidad']==elem][column]/escalamiento,text=df[df['modalidad']=='elem']['modalidad'],line=dict(color=colores[i]),\n",
    "            mode='lines+markers',name=elem,marker=dict(size=7),hovertemplate =\n",
    "            '<br><b>Modalidad</b>:<br><extra></extra>'+elem+\n",
    "            '<br><b>Periodo</b>: %{x}<br>'+                         \n",
    "            column.capitalize()+' '+unidad+': %{y:.2f}<br>'))\n",
    "    else:\n",
    "        fig.add_trace(go.Scatter(x=df['periodo_formato'],\n",
    "                                y=df[column]/escalamiento,line=dict(color='rgb(102,204,0)'),mode='lines+markers',name=column,\n",
    "                                ))\n",
    "    fig.update_xaxes(tickangle=0, tickfont=dict(family='Boston', color='black', size=14),title_text=None,row=1, col=1\n",
    "    ,zeroline=True,linecolor = 'rgba(192, 192, 192, 0.8)',zerolinewidth=2)\n",
    "    fig.update_yaxes(range=[0,maxdf],tickfont=dict(family='Boton', color='black', size=16),titlefont_size=16, title_text=column+' '+unidad, row=1, col=1)\n",
    "    fig.update_layout(height=550,legend_title=None)\n",
    "    fig.update_layout(font_color=\"Black\",title_font_family=\"NexaBlack\",title_font_color=\"Black\",titlefont_size=20,\n",
    "    title={\n",
    "    'text':column.capitalize() +\" por periodo\",\n",
    "    'y':0.95,\n",
    "    'x':0.5,\n",
    "    'xanchor': 'center',\n",
    "    'yanchor': 'top'})        \n",
    "    fig.update_layout(legend=dict(orientation=\"h\",xanchor='center',y=1.1,x=0.5),showlegend=True)\n",
    "    fig.update_layout(paper_bgcolor='rgba(0,0,0,0)',plot_bgcolor='rgba(0,0,0,0)')\n",
    "    #fig.update_xaxes(showgrid=True, gridwidth=1, gridcolor='rgba(192, 192, 192, 0.4)')\n",
    "    fig.update_yaxes(showgrid=True, gridwidth=1, gridcolor='rgba(192, 192, 192, 0.8)')\n",
    "    fig.update_layout(yaxis_tickformat ='d')\n",
    "    return fig"
   ]
  },
  {
   "cell_type": "code",
   "execution_count": null,
   "id": "b1e69f79",
   "metadata": {
    "ExecuteTime": {
     "end_time": "2022-07-26T14:20:56.525144Z",
     "start_time": "2022-07-26T14:20:56.053576Z"
    },
    "scrolled": false
   },
   "outputs": [],
   "source": [
    "Plotlylineatiempo(total,'abonados','(Millones)',1e6,['rgb(122, 68, 242)','rgb(0, 128, 255)','rgb(102,204,0)'])"
   ]
  },
  {
   "cell_type": "code",
   "execution_count": null,
   "id": "6c791326",
   "metadata": {
    "ExecuteTime": {
     "end_time": "2022-07-25T21:44:53.555876Z",
     "start_time": "2022-07-25T21:44:53.544865Z"
    }
   },
   "outputs": [],
   "source": [
    "def Participacion(df,column):\n",
    "    part=df[column]/df[column].sum()\n",
    "    return part"
   ]
  },
  {
   "cell_type": "code",
   "execution_count": null,
   "id": "5dece8d8",
   "metadata": {
    "ExecuteTime": {
     "end_time": "2022-07-22T20:02:27.959719Z",
     "start_time": "2022-07-22T20:02:27.933753Z"
    }
   },
   "outputs": [],
   "source": [
    "dfAbonados=[]\n",
    "blaa=AbonadosTelMovil.copy()\n",
    "blaa['periodo']=blaa['anno']+'-T'+blaa['trimestre']\n",
    "blaaAgg=blaa.groupby(['anno','empresa'])['abonados'].sum().reset_index()\n",
    "for periodo in blaaAgg['anno'].unique().tolist():\n",
    "    prAbo=blaaAgg[blaaAgg['anno']==periodo]\n",
    "    prAbo.insert(3,'participacion',Participacion(prAbo,'abonados'))\n",
    "    dfAbonados.append(prAbo.sort_values(by='participacion',ascending=False)) "
   ]
  },
  {
   "cell_type": "code",
   "execution_count": null,
   "id": "ac0a2944",
   "metadata": {
    "ExecuteTime": {
     "end_time": "2022-07-22T20:19:37.891177Z",
     "start_time": "2022-07-22T20:19:37.863172Z"
    }
   },
   "outputs": [],
   "source": [
    "blaa2=blaa.groupby(['periodo','empresa'])['abonados'].sum().reset_index()\n",
    "blaa2[blaa2['periodo']=='2021-T1']"
   ]
  },
  {
   "cell_type": "code",
   "execution_count": null,
   "id": "356e3896",
   "metadata": {
    "ExecuteTime": {
     "end_time": "2022-07-22T20:04:25.864385Z",
     "start_time": "2022-07-22T20:04:25.848756Z"
    }
   },
   "outputs": [],
   "source": [
    "blaaAgg[(blaaAgg['empresa']=='COMUNICACION CELULAR S A COMCEL S A')&(blaaAgg['anno']=='2020')]['abonados']/(blaaAgg[blaaAgg['anno']=='2020']['abonados'].sum())"
   ]
  },
  {
   "cell_type": "code",
   "execution_count": null,
   "id": "14bc4218",
   "metadata": {
    "ExecuteTime": {
     "end_time": "2022-07-22T20:05:32.301639Z",
     "start_time": "2022-07-22T20:05:32.262658Z"
    }
   },
   "outputs": [],
   "source": [
    "AbogroupPart=pd.concat(dfAbonados)\n",
    "AbogroupPart"
   ]
  },
  {
   "cell_type": "code",
   "execution_count": null,
   "id": "a9f62f76",
   "metadata": {
    "ExecuteTime": {
     "end_time": "2022-07-22T14:50:57.989391Z",
     "start_time": "2022-07-22T14:50:57.977388Z"
    }
   },
   "outputs": [],
   "source": [
    "#'899999115'"
   ]
  },
  {
   "cell_type": "code",
   "execution_count": null,
   "id": "a41566a4",
   "metadata": {
    "ExecuteTime": {
     "end_time": "2022-07-22T20:06:21.557155Z",
     "start_time": "2022-07-22T20:06:21.546161Z"
    }
   },
   "outputs": [],
   "source": [
    "import plotly.express as px"
   ]
  },
  {
   "cell_type": "code",
   "execution_count": null,
   "id": "0a5126af",
   "metadata": {
    "ExecuteTime": {
     "end_time": "2022-07-22T20:06:21.851868Z",
     "start_time": "2022-07-22T20:06:21.831862Z"
    }
   },
   "outputs": [],
   "source": [
    "fig = px.histogram(AboAnualTelMovl2, x=\"anno\", y=\"abonados\",\n",
    "             color='empresa', barmode='group',\n",
    "             height=600)\n",
    "fig.show()"
   ]
  },
  {
   "cell_type": "code",
   "execution_count": null,
   "id": "c9e0809a",
   "metadata": {
    "ExecuteTime": {
     "end_time": "2022-07-22T20:06:23.810026Z",
     "start_time": "2022-07-22T20:06:23.786022Z"
    }
   },
   "outputs": [],
   "source": [
    "AboAnualTelMovl2['empresa'].unique()"
   ]
  },
  {
   "cell_type": "code",
   "execution_count": null,
   "id": "965f1ea0",
   "metadata": {
    "ExecuteTime": {
     "end_time": "2022-07-21T00:00:47.846943Z",
     "start_time": "2022-07-21T00:00:47.831950Z"
    }
   },
   "outputs": [],
   "source": [
    "import plotly.graph_objects as go"
   ]
  },
  {
   "cell_type": "code",
   "execution_count": null,
   "id": "66182348",
   "metadata": {
    "ExecuteTime": {
     "end_time": "2022-07-21T00:03:59.545213Z",
     "start_time": "2022-07-21T00:03:59.525225Z"
    }
   },
   "outputs": [],
   "source": [
    "def PColoresEmpINTMovil(id_empresa):\n",
    "    if id_empresa == '800153993':\n",
    "        return 'red'\n",
    "    elif id_empresa == '830114921':\n",
    "        return 'rgb(0,102,204)'\n",
    "    elif id_empresa == '830122566':\n",
    "        return 'rgb(102,204,0)'\n",
    "    elif id_empresa=='899999115':\n",
    "        return 'rgb(0,204,204)'\n",
    "    else:\n",
    "        pass   "
   ]
  },
  {
   "cell_type": "code",
   "execution_count": null,
   "id": "79c586a6",
   "metadata": {
    "ExecuteTime": {
     "end_time": "2022-07-21T00:02:27.077224Z",
     "start_time": "2022-07-21T00:02:27.072245Z"
    }
   },
   "outputs": [],
   "source": [
    "from plotly.subplots import make_subplots"
   ]
  },
  {
   "cell_type": "code",
   "execution_count": null,
   "id": "7e94f9ac",
   "metadata": {
    "ExecuteTime": {
     "end_time": "2022-07-21T00:03:13.479427Z",
     "start_time": "2022-07-21T00:03:13.470432Z"
    }
   },
   "outputs": [],
   "source": [
    "AboAnualTelMovl2['empresa'].unique().tolist()"
   ]
  },
  {
   "cell_type": "code",
   "execution_count": null,
   "id": "336fbe08",
   "metadata": {},
   "outputs": [],
   "source": []
  },
  {
   "cell_type": "code",
   "execution_count": null,
   "id": "eab48531",
   "metadata": {
    "ExecuteTime": {
     "end_time": "2022-07-21T01:23:09.841788Z",
     "start_time": "2022-07-21T01:23:09.803811Z"
    }
   },
   "outputs": [],
   "source": [
    "años=['2020','2021']\n",
    "EmpresasTelMovil=['830122566','800153993','830114921']\n",
    "AboAnualTelMovl=AbonadosTelMovil.groupby(['anno','empresa','id_empresa'])['abonados'].sum().reset_index()\n",
    "AboAnualTelMovl=AboAnualTelMovl[(AboAnualTelMovl['id_empresa'].isin(EmpresasTelMovil))&(AboAnualTelMovl['anno'].isin(años))]\n",
    "AboAnualTelMovl=AboAnualTelMovl[AboAnualTelMovl['anno'].isin(años)]\n",
    "AboAnualTelMovl=AboAnualTelMovl.sort_values(by=['empresa','anno'])\n",
    "AboAnualTelMovlPiv=AboAnualTelMovl.pivot(index='empresa',columns='anno',values='abonados').reset_index()\n",
    "AboAnualTelMovlPiv['Rel_growth']=round(100*(AboAnualTelMovlPiv['2021']-AboAnualTelMovlPiv['2020'])/(AboAnualTelMovlPiv['2020']),1)\n",
    "AboAnualTelMovlPiv['Rel_growth']='+'+AboAnualTelMovlPiv['Rel_growth'].astype('str')+'%'\n",
    "RelGrowth=AboAnualTelMovlPiv.set_index('empresa').to_dict()['Rel_growth']"
   ]
  },
  {
   "cell_type": "code",
   "execution_count": null,
   "id": "4dd77337",
   "metadata": {
    "ExecuteTime": {
     "end_time": "2022-07-21T02:21:32.512806Z",
     "start_time": "2022-07-21T02:21:32.504811Z"
    }
   },
   "outputs": [],
   "source": [
    "[None]*3+list(RelGrowth.values())"
   ]
  },
  {
   "cell_type": "code",
   "execution_count": null,
   "id": "93fb2aac",
   "metadata": {
    "ExecuteTime": {
     "end_time": "2022-07-21T02:26:03.402864Z",
     "start_time": "2022-07-21T02:26:03.386876Z"
    }
   },
   "outputs": [],
   "source": [
    "for empresa in AboAnualTelMovl['empresa'].unique().tolist():\n",
    "    print(AboAnualTelMovl[AboAnualTelMovl['empresa']==empresa]['anno'].values.tolist())"
   ]
  },
  {
   "cell_type": "code",
   "execution_count": null,
   "id": "d1606197",
   "metadata": {
    "ExecuteTime": {
     "end_time": "2022-07-21T02:27:05.392710Z",
     "start_time": "2022-07-21T02:27:05.351753Z"
    }
   },
   "outputs": [],
   "source": [
    "fig=make_subplots(rows=1,cols=1)\n",
    "def PlotlyBarras(df,column):   \n",
    "    fig = make_subplots(rows=1, cols=1) \n",
    "    for empresa in df['empresa'].unique().tolist():\n",
    "        fig.add_trace(go.Bar(x=df[df['empresa']==empresa]['anno'].values.tolist(),y=df[df['empresa']==empresa][column].values.tolist()\n",
    "                             ,marker_color=PColoresEmpINTMovil(df[df['empresa']==empresa]['id_empresa'].unique()[0]),\n",
    "                            name=empresa,hovertemplate='<br><b>Empresa</b>:<br><extra></extra>'+empresa+'<br>'+                       \n",
    "        column+': %{y:.0f}<br>'))\n",
    "    fig.update_layout(barmode='group')\n",
    "    fig.update_xaxes(tickangle=0, tickfont=dict(family='Boston', color='black', size=16),title_text=None,row=1, col=1,ticks=\"outside\", tickwidth=1, tickcolor='black', ticklen=5,\n",
    "    zeroline=True,linecolor = \"#000000\",zerolinewidth=2,  # Sets color of X-axis line\n",
    "    showgrid = True, \n",
    "    showline = True,\n",
    "    gridwidth=1,       \n",
    "    gridcolor='lightpink',\n",
    "    showticklabels=True)\n",
    "    fig.update_yaxes(tickfont=dict(family='Boston', color='black', size=16),titlefont_size=18, title_text=column, row=1, col=1,ticks=\"outside\", tickwidth=1, tickcolor='black', ticklen=5,\n",
    "    zeroline=True,linecolor = \"#000000\",zerolinewidth=2,  # Sets color of X-axis line\n",
    "    showgrid = True, \n",
    "    showline = True,\n",
    "    gridwidth=1,       \n",
    "    gridcolor='lightpink',\n",
    "    showticklabels=True)\n",
    "    fig.update_layout(height=550,legend_title=None)\n",
    "    fig.update_layout(font_color=\"Black\",title_font_family=\"NexaBlack\",title_font_color=\"Black\",titlefont_size=20,\n",
    "    title={\n",
    "    'text': column.capitalize() +\" anuales por empresa\",\n",
    "    'y':0.95,\n",
    "    'x':0.5,\n",
    "    'xanchor': 'center',\n",
    "    'yanchor': 'top'})        \n",
    "    fig.update_layout(legend=dict(orientation=\"h\",y=1.1,x=0.02),showlegend=True)\n",
    "    fig.update_layout(paper_bgcolor='rgba(0,0,0,0)',plot_bgcolor='rgba(0,0,0,0)')\n",
    "    fig.update_xaxes(showgrid=True, gridwidth=1, gridcolor='rgba(192, 192, 192, 0.4)')\n",
    "    fig.update_yaxes(showgrid=True, gridwidth=1, gridcolor='rgba(192, 192, 192, 0.4)')\n",
    "    \n",
    "    return fig"
   ]
  },
  {
   "cell_type": "code",
   "execution_count": null,
   "id": "554f8b36",
   "metadata": {},
   "outputs": [],
   "source": [
    "def PlotlyBarras2(df,column):\n",
    "    empresas=df['empresas'].unique().tolist(),\n",
    "    df20=df[df['anno']=='2020'],\n",
    "    df21=df[df['anno']=='2021'],\n",
    "    fig = go.Figure(data=[\n",
    "        go.Bar()\n",
    "\n",
    "    ])\n",
    "    fig.add_trace(go.Bar(x=df[df['empresa']==empresa]['anno'].values.tolist(),y=df[df['empresa']==empresa][column].values.tolist()\n",
    "                         ,marker_color=PColoresEmpINTMovil(df[df['empresa']==empresa]['id_empresa'].unique()[0]),\n",
    "                        name=empresa,hovertemplate='<br><b>Empresa</b>:<br><extra></extra>'+empresa+'<br>'+                       \n",
    "    column+': %{y:.0f}<br>'))\n",
    "    fig.update_layout(barmode='group')\n",
    "    fig.update_xaxes(tickangle=0, tickfont=dict(family='Boston', color='black', size=16),title_text=None,row=1, col=1,ticks=\"outside\", tickwidth=1, tickcolor='black', ticklen=5,\n",
    "    zeroline=True,linecolor = \"#000000\",zerolinewidth=2,  # Sets color of X-axis line\n",
    "    showgrid = True, \n",
    "    showline = True,\n",
    "    gridwidth=1,       \n",
    "    gridcolor='lightpink',\n",
    "    showticklabels=True)\n",
    "    fig.update_yaxes(tickfont=dict(family='Boston', color='black', size=16),titlefont_size=18, title_text=column, row=1, col=1,ticks=\"outside\", tickwidth=1, tickcolor='black', ticklen=5,\n",
    "    zeroline=True,linecolor = \"#000000\",zerolinewidth=2,  # Sets color of X-axis line\n",
    "    showgrid = True, \n",
    "    showline = True,\n",
    "    gridwidth=1,       \n",
    "    gridcolor='lightpink',\n",
    "    showticklabels=True)\n",
    "    fig.update_layout(height=550,legend_title=None)\n",
    "    fig.update_layout(font_color=\"Black\",title_font_family=\"NexaBlack\",title_font_color=\"Black\",titlefont_size=20,\n",
    "    title={\n",
    "    'text': column.capitalize() +\" anuales por empresa\",\n",
    "    'y':0.95,\n",
    "    'x':0.5,\n",
    "    'xanchor': 'center',\n",
    "    'yanchor': 'top'})        \n",
    "    fig.update_layout(legend=dict(orientation=\"h\",y=1.1,x=0.02),showlegend=True)\n",
    "    fig.update_layout(paper_bgcolor='rgba(0,0,0,0)',plot_bgcolor='rgba(0,0,0,0)')\n",
    "    fig.update_xaxes(showgrid=True, gridwidth=1, gridcolor='rgba(192, 192, 192, 0.4)')\n",
    "    fig.update_yaxes(showgrid=True, gridwidth=1, gridcolor='rgba(192, 192, 192, 0.4)')\n",
    "    \n",
    "    return fig"
   ]
  },
  {
   "cell_type": "code",
   "execution_count": null,
   "id": "4c5d25fe",
   "metadata": {
    "ExecuteTime": {
     "end_time": "2022-07-21T02:27:09.593846Z",
     "start_time": "2022-07-21T02:27:09.501900Z"
    }
   },
   "outputs": [],
   "source": [
    "PlotlyBarras(AboAnualTelMovl,'abonados')"
   ]
  },
  {
   "cell_type": "markdown",
   "id": "b70cae65",
   "metadata": {},
   "source": [
    "## Tráfico voz"
   ]
  },
  {
   "cell_type": "code",
   "execution_count": null,
   "id": "b707a5fd",
   "metadata": {
    "ExecuteTime": {
     "end_time": "2022-08-25T16:51:23.733992Z",
     "start_time": "2022-08-25T16:51:22.854583Z"
    }
   },
   "outputs": [],
   "source": [
    "def ReadApiTelMovilTrafico():\n",
    "    resourceid = '1384a4d4-42d7-4930-b43c-bf9768c47ccb'\n",
    "    consulta='https://www.postdata.gov.co/api/action/datastore/search.json?resource_id=' + resourceid + ''\\\n",
    "             '&filters[anno]=' + '2018,2019,2020,2021' + ''\\\n",
    "             '&fields[]=anno&fields[]=trimestre&fields[]=id_empresa&fields[]=empresa&fields[]=tipo_trafico'\\\n",
    "             '&group_by=anno,trimestre,tipo_trafico,id_empresa,empresa'\\\n",
    "             '&sum=trafico' \n",
    "    response_base = urlopen(consulta + '&limit=10000000') \n",
    "    json_base = json.loads(response_base.read())\n",
    "    VOZ_TRAF = pd.DataFrame(json_base['result']['records'])\n",
    "    VOZ_TRAF.sum_trafico = VOZ_TRAF.sum_trafico.astype('int64')\n",
    "    VOZ_TRAF = VOZ_TRAF.rename(columns={'sum_trafico':'trafico'})\n",
    "    return VOZ_TRAF\n",
    "TraficoTelMovil=ReadApiTelMovilTrafico()\n",
    "TraficoTelMovil=TraficoTelMovil[TraficoTelMovil['trafico']>0]\n",
    "TraficoTelMovil.insert(0,'periodo',TraficoTelMovil['anno']+'-T'+TraficoTelMovil['trimestre'])  "
   ]
  },
  {
   "cell_type": "code",
   "execution_count": null,
   "id": "b1802b27",
   "metadata": {
    "ExecuteTime": {
     "end_time": "2022-08-25T16:51:35.812982Z",
     "start_time": "2022-08-25T16:51:35.786014Z"
    }
   },
   "outputs": [],
   "source": [
    "TraficoTelMovil.groupby(['anno'])['trafico'].sum().reset_index()"
   ]
  },
  {
   "cell_type": "markdown",
   "id": "e76e542e",
   "metadata": {},
   "source": [
    "## Ingresos Voz"
   ]
  },
  {
   "cell_type": "code",
   "execution_count": null,
   "id": "ffde4dc1",
   "metadata": {
    "ExecuteTime": {
     "end_time": "2022-08-25T21:44:08.916686Z",
     "start_time": "2022-08-25T21:44:08.217303Z"
    }
   },
   "outputs": [],
   "source": [
    "def ReadApiTelMovilIngresos():\n",
    "    resourceid = '43f0d3a9-cd5c-4f22-a996-74eae6cba9a3'\n",
    "    consulta='https://www.postdata.gov.co/api/action/datastore/search.json?resource_id=' + resourceid + ''\\\n",
    "             '&filters[anno]=' + '2018,2019,2020,2021' + ''\\\n",
    "             '&fields[]=anno&fields[]=trimestre&fields[]=id_empresa&fields[]=empresa'\\\n",
    "             '&group_by=anno,trimestre,id_empresa,empresa'\\\n",
    "             '&sum[]=ingresos_totales&sum[]=ingresos_prepago&sum[]=ingresos_pospago'\n",
    "    response_base = urlopen(consulta + '&limit=10000000') \n",
    "    json_base = json.loads(response_base.read())\n",
    "    VOZ_ING = pd.DataFrame(json_base['result']['records'])\n",
    "    VOZ_ING.sum_ingresos_totales = VOZ_ING.sum_ingresos_totales.astype('int64')\n",
    "    VOZ_ING = VOZ_ING.rename(columns={'sum_ingresos_totales':'ingresos_totales','sum_ingresos_pospago':'ingresos_pospago','sum_ingresos_prepago':'ingresos_prepago'})\n",
    "    return VOZ_ING\n",
    "IngresosTelMovil=ReadApiTelMovilIngresos()\n",
    "IngresosTelMovil=IngresosTelMovil[IngresosTelMovil['ingresos_totales']>0]\n",
    "IngresosTelMovil.insert(0,'periodo',IngresosTelMovil['anno']+'-T'+IngresosTelMovil['trimestre'])\n",
    "IngresosTelMovil=IngresosTelMovil.astype({'ingresos_totales':'int64','ingresos_prepago':'int64','ingresos_pospago':'int64'})"
   ]
  },
  {
   "cell_type": "code",
   "execution_count": null,
   "id": "addc4ca9",
   "metadata": {
    "ExecuteTime": {
     "end_time": "2022-08-25T21:44:33.546061Z",
     "start_time": "2022-08-25T21:44:33.535068Z"
    }
   },
   "outputs": [],
   "source": [
    "IngresosTelMovil.groupby(['periodo'])['ingresos_totales'].sum().reset_index().to_csv('bla1.csv',index=False)"
   ]
  },
  {
   "cell_type": "code",
   "execution_count": null,
   "id": "e7d3adbc",
   "metadata": {
    "ExecuteTime": {
     "end_time": "2022-08-19T15:20:48.161783Z",
     "start_time": "2022-08-19T15:20:48.081791Z"
    }
   },
   "outputs": [],
   "source": [
    "IngresosTelMovil2=pd.melt(IngresosTelMovil,id_vars=['periodo','id_empresa','empresa'],value_vars=['ingresos_totales','ingresos_prepago',\n",
    "                                                                                        'ingresos_pospago'],var_name='modalidad', value_name='ingresos')\n",
    "IngresosTelMovil2['modalidad']=IngresosTelMovil2['modalidad'].replace({'ingresos_totales':'TOTAL','ingresos_prepago':'PREPAGO','ingresos_pospago':'POSPAGO'})\n",
    "IngresosTelMovil2Agg=IngresosTelMovil2.groupby(['periodo','modalidad'])['ingresos'].sum().reset_index()\n",
    "IngresosTelMovil2Agg"
   ]
  },
  {
   "cell_type": "code",
   "execution_count": null,
   "id": "80c84cd8",
   "metadata": {
    "ExecuteTime": {
     "end_time": "2022-08-19T15:28:48.547847Z",
     "start_time": "2022-08-19T15:28:48.395862Z"
    }
   },
   "outputs": [],
   "source": [
    "fig = px.line(IngresosTelMovil2Agg, x=\"periodo\", y=\"ingresos\", color='modalidad')\n",
    "fig.update_xaxes(tickangle=0, tickfont=dict(family='serif', color='black', size=14))\n",
    "fig.show()"
   ]
  },
  {
   "cell_type": "code",
   "execution_count": null,
   "id": "7beb71f7",
   "metadata": {
    "ExecuteTime": {
     "end_time": "2022-07-26T15:33:42.354807Z",
     "start_time": "2022-07-26T15:33:42.315848Z"
    }
   },
   "outputs": [],
   "source": [
    "AbonadosTelMovil=AbonadosTelMovil[AbonadosTelMovil['abonados']>0]\n",
    "#AbonadosTelMovil.insert(0,'periodo',AbonadosTelMovil['anno']+'-T'+AbonadosTelMovil['trimestre'])\n",
    "AbonadosTelMovilB=AbonadosTelMovil.groupby(['periodo','anno','trimestre','empresa','id_empresa'])['abonados'].sum().reset_index()\n",
    "AbonadosTelMovilB['modalidad']='TOTAL'\n",
    "AbonadosTelMovilTOTAL=pd.concat([AbonadosTelMovil,AbonadosTelMovilB])\n",
    "AbonadosTelMovilTOTAL"
   ]
  },
  {
   "cell_type": "code",
   "execution_count": null,
   "id": "7de4c3a6",
   "metadata": {
    "ExecuteTime": {
     "end_time": "2022-07-26T15:33:48.487678Z",
     "start_time": "2022-07-26T15:33:48.325826Z"
    }
   },
   "outputs": [],
   "source": [
    "fig = px.line(AbonadosTelMovilTOTAL[AbonadosTelMovilTOTAL['modalidad']=='TOTAL'], x=\"periodo\", y=\"abonados\", color='empresa')\n",
    "fig.show()"
   ]
  },
  {
   "cell_type": "code",
   "execution_count": null,
   "id": "6c1ef00a",
   "metadata": {
    "ExecuteTime": {
     "end_time": "2022-07-26T16:20:26.223431Z",
     "start_time": "2022-07-26T16:20:26.167464Z"
    }
   },
   "outputs": [],
   "source": [
    "IngresosPorAbonadoTelMovil=IngresosTelMovil2.merge(AbonadosTelMovilTOTAL,left_on=['periodo','id_empresa','modalidad'],right_on=['periodo','id_empresa','modalidad'])\n",
    "#IngresosPorAbonadoTelMovil.dtypes\n",
    "IngresosPorAbonadoTelMovil=IngresosPorAbonadoTelMovil.groupby(['periodo','modalidad']).agg({'ingresos':'sum','abonados':'sum'}).reset_index()\n",
    "IngresosPorAbonadoTelMovil['IngresosxAbonado']=round(IngresosPorAbonadoTelMovil['ingresos']/IngresosPorAbonadoTelMovil['abonados'],1)\n",
    "IngresosPorAbonadoTelMovil"
   ]
  },
  {
   "cell_type": "code",
   "execution_count": null,
   "id": "489bb814",
   "metadata": {
    "ExecuteTime": {
     "end_time": "2022-07-26T15:34:52.453239Z",
     "start_time": "2022-07-26T15:34:52.354535Z"
    }
   },
   "outputs": [],
   "source": [
    "fig = px.line(IngresosPorAbonadoTelMovil2, x=\"periodo\", y=\"IngresosxAbonado\", color='modalidad')\n",
    "fig.show()"
   ]
  },
  {
   "cell_type": "code",
   "execution_count": null,
   "id": "0b790074",
   "metadata": {
    "ExecuteTime": {
     "end_time": "2022-07-26T15:48:06.344385Z",
     "start_time": "2022-07-26T15:48:06.320400Z"
    }
   },
   "outputs": [],
   "source": [
    "IngresosTelMovil2AggPrueb=IngresosTelMovil2.groupby(['periodo','modalidad'])['ingresos'].sum().reset_index()"
   ]
  },
  {
   "cell_type": "code",
   "execution_count": null,
   "id": "4f56cbf9",
   "metadata": {
    "ExecuteTime": {
     "end_time": "2022-07-26T15:35:36.620821Z",
     "start_time": "2022-07-26T15:35:36.577846Z"
    }
   },
   "outputs": [],
   "source": [
    "TraficoTelMovil=TraficoTelMovil.rename(columns={'tipo_trafico':'modalidad'})\n",
    "TraficoTelMovilB=TraficoTelMovil.groupby(['periodo','anno','trimestre','empresa','id_empresa'])['trafico'].sum().reset_index()\n",
    "TraficoTelMovilB['modalidad']='TOTAL'\n",
    "TraficoTelMovilTOTAL=pd.concat([TraficoTelMovil,TraficoTelMovilB])\n",
    "TraficoTelMovilTOTAL"
   ]
  },
  {
   "cell_type": "code",
   "execution_count": null,
   "id": "33534864",
   "metadata": {
    "ExecuteTime": {
     "end_time": "2022-07-26T15:47:49.110599Z",
     "start_time": "2022-07-26T15:47:49.080599Z"
    }
   },
   "outputs": [],
   "source": [
    "TraficoTelMovilTOTALPrueb=TraficoTelMovilTOTAL.groupby(['periodo','modalidad'])['trafico'].sum().reset_index()\n",
    "TraficoTelMovilTOTALPrueb['modalidad']=TraficoTelMovilTOTALPrueb['modalidad'].replace({'Tráfico pospago':'POSPAGO','Tráfico prepago':'PREPAGO'})\n",
    "TraficoTelMovilTOTALPrueb"
   ]
  },
  {
   "cell_type": "code",
   "execution_count": null,
   "id": "15dd3062",
   "metadata": {
    "ExecuteTime": {
     "end_time": "2022-07-26T15:49:55.349630Z",
     "start_time": "2022-07-26T15:49:55.320647Z"
    }
   },
   "outputs": [],
   "source": [
    "IngTrafPrueb=IngresosTelMovil2AggPrueb.merge(TraficoTelMovilTOTALPrueb,left_on=['periodo','modalidad'],right_on=['periodo','modalidad'])\n",
    "IngTrafPrueb['Ing/Traf']=round(IngTrafPrueb['ingresos']/IngTrafPrueb['trafico'],2)\n",
    "IngTrafPrueb"
   ]
  },
  {
   "cell_type": "code",
   "execution_count": null,
   "id": "63f08e81",
   "metadata": {
    "ExecuteTime": {
     "end_time": "2022-07-26T16:02:48.369867Z",
     "start_time": "2022-07-26T16:02:48.270925Z"
    }
   },
   "outputs": [],
   "source": [
    "fig = px.line(IngTrafPrueb, x=\"periodo\", y=\"Ing/Traf\", color='modalidad')\n",
    "fig.show()"
   ]
  },
  {
   "cell_type": "code",
   "execution_count": null,
   "id": "29da5e0c",
   "metadata": {
    "ExecuteTime": {
     "end_time": "2022-07-26T16:14:22.843210Z",
     "start_time": "2022-07-26T16:14:22.812209Z"
    }
   },
   "outputs": [],
   "source": [
    "IngresosPorTraficoTelMovil=IngresosTelMovil2.merge(TraficoTelMovilTOTAL,left_on=['periodo','id_empresa','modalidad'],right_on=['periodo','id_empresa','modalidad'])\n",
    "\n",
    "#IngresosPorTraficoTelMovil['Ingresos/Trafico']=round(IngresosPorTraficoTelMovil['ingresos']/IngresosPorTraficoTelMovil['trafico'],1)\n",
    "#IngresosPorTraficoTelMovil2=IngresosPorTraficoTelMovil.groupby(['periodo','modalidad'])['Ingresos/Trafico'].sum().reset_index()\n",
    "#IngresosPorTraficoTelMovil2['periodo_formato']=IngresosPorTraficoTelMovil2['periodo'].apply(periodoformato)\n",
    "IngresosPorTraficoTelMovil\n",
    "#IngresosPorTraficoTelMovil.groupby(['periodo','modalidad']).agg({'ingresos':'sum','trafico':'sum'}).reset_index()"
   ]
  },
  {
   "cell_type": "code",
   "execution_count": null,
   "id": "1119321c",
   "metadata": {
    "ExecuteTime": {
     "end_time": "2022-07-26T15:36:28.126755Z",
     "start_time": "2022-07-26T15:36:27.996172Z"
    }
   },
   "outputs": [],
   "source": [
    "Plotlylineatiempo(IngresosPorTraficoTelMovil2,'Ingresos/Trafico','',1,['rgb(122, 68, 242)','rgb(0, 128, 255)','rgb(102,204,0)'])"
   ]
  },
  {
   "cell_type": "markdown",
   "id": "467142e1",
   "metadata": {},
   "source": [
    "# Mensajería móvil"
   ]
  },
  {
   "cell_type": "markdown",
   "id": "5ff80db1",
   "metadata": {},
   "source": [
    "## Tráfico SMS"
   ]
  },
  {
   "cell_type": "code",
   "execution_count": null,
   "id": "a33f632b",
   "metadata": {
    "ExecuteTime": {
     "end_time": "2022-08-11T14:30:14.132663Z",
     "start_time": "2022-08-11T14:30:13.356879Z"
    }
   },
   "outputs": [],
   "source": [
    "def ReadApiTelMovilTraficoSMS():\n",
    "    resourceid = '8a0fcc94-a241-47ce-8245-569e54a22fd4'\n",
    "    consulta='https://www.postdata.gov.co/api/action/datastore/search.json?resource_id=' + resourceid + ''\\\n",
    "             '&filters[anno]=' + '2018,2019,2020,2021' + ''\\\n",
    "             '&fields[]=anno&fields[]=trimestre&fields[]=id_empresa&fields[]=empresa'\\\n",
    "             '&group_by=anno,trimestre,id_empresa,empresa'\\\n",
    "             '&sum=cantidad' \n",
    "    response_base = urlopen(consulta + '&limit=10000000') \n",
    "    json_base = json.loads(response_base.read())\n",
    "    VOZ_TRAF = pd.DataFrame(json_base['result']['records'])\n",
    "    VOZ_TRAF.sum_cantidad = VOZ_TRAF.sum_cantidad.astype('int64')\n",
    "    VOZ_TRAF = VOZ_TRAF.rename(columns={'sum_cantidad':'cantidad'})\n",
    "    return VOZ_TRAF\n",
    "TraficoSMSTelMovil=ReadApiTelMovilTraficoSMS()"
   ]
  },
  {
   "cell_type": "code",
   "execution_count": null,
   "id": "619a15ca",
   "metadata": {
    "ExecuteTime": {
     "end_time": "2022-07-14T19:42:42.061770Z",
     "start_time": "2022-07-14T19:42:42.021734Z"
    }
   },
   "outputs": [],
   "source": [
    "TraficoSMSTelMovil"
   ]
  },
  {
   "cell_type": "markdown",
   "id": "9407cbd2",
   "metadata": {},
   "source": [
    "## Ingresos SMS"
   ]
  },
  {
   "cell_type": "code",
   "execution_count": null,
   "id": "3680489a",
   "metadata": {
    "ExecuteTime": {
     "end_time": "2022-07-26T15:32:43.231520Z",
     "start_time": "2022-07-26T15:32:42.572365Z"
    }
   },
   "outputs": [],
   "source": [
    "def ReadApiTelMovilIngresosSMS():\n",
    "    resourceid = 'aff5be3b-9a52-4777-956b-14094a265df2'\n",
    "    consulta='https://www.postdata.gov.co/api/action/datastore/search.json?resource_id=' + resourceid + ''\\\n",
    "             '&filters[anno]=' + '2018,2019,2020,2021' + ''\\\n",
    "             '&fields[]=anno&fields[]=trimestre&fields[]=id_empresa&fields[]=empresa'\\\n",
    "             '&group_by=anno,trimestre,id_empresa,empresa'\\\n",
    "             '&sum=ingresos' \n",
    "    response_base = urlopen(consulta + '&limit=10000000') \n",
    "    json_base = json.loads(response_base.read())\n",
    "    VOZ_TRAF = pd.DataFrame(json_base['result']['records'])\n",
    "    VOZ_TRAF.sum_ingresos = VOZ_TRAF.sum_ingresos.astype('int64')\n",
    "    VOZ_TRAF = VOZ_TRAF.rename(columns={'sum_ingresos':'ingresos'})\n",
    "    return VOZ_TRAF\n",
    "IngresosSMSTelMovil=ReadApiTelMovilIngresosSMS()"
   ]
  },
  {
   "cell_type": "code",
   "execution_count": null,
   "id": "32d76ad5",
   "metadata": {
    "ExecuteTime": {
     "end_time": "2022-07-14T19:42:32.582424Z",
     "start_time": "2022-07-14T19:42:32.558427Z"
    }
   },
   "outputs": [],
   "source": [
    "IngresosSMSTelMovil"
   ]
  },
  {
   "cell_type": "markdown",
   "id": "7124c308",
   "metadata": {},
   "source": [
    "## Tráfico códigos cortos"
   ]
  },
  {
   "cell_type": "code",
   "execution_count": null,
   "id": "395ec923",
   "metadata": {
    "ExecuteTime": {
     "end_time": "2023-04-21T15:24:34.272473Z",
     "start_time": "2023-04-21T15:24:33.485348Z"
    }
   },
   "outputs": [],
   "source": [
    "def ReadApiTelMovilTraficoCodigosCortos():\n",
    "    resourceid = '7c2910ca-29d4-4ee3-99ae-4fc2f09eeb86'\n",
    "    consulta='https://www.postdata.gov.co/api/action/datastore/search.json?resource_id=' + resourceid + ''\\\n",
    "             '&filters[anno]=' + '2018,2019,2020,2021' + ''\\\n",
    "             '&fields[]=anno&fields[]=trimestre&fields[]=id_empresa&fields[]=empresa'\\\n",
    "             '&group_by=anno,trimestre,id_empresa,empresa'\\\n",
    "             '&sum[]=trafico_terminado&sum[]=trafico_originado' \n",
    "    response_base = urlopen(consulta + '&limit=10000000') \n",
    "    json_base = json.loads(response_base.read())\n",
    "    VOZ_TRAF = pd.DataFrame(json_base['result']['records'])\n",
    "    VOZ_TRAF.sum_trafico_terminado = VOZ_TRAF.sum_trafico_terminado.astype('int64')\n",
    "    VOZ_TRAF.sum_trafico_originado = VOZ_TRAF.sum_trafico_originado.astype('int64')\n",
    "    VOZ_TRAF = VOZ_TRAF.rename(columns={'sum_trafico_terminado':'trafico terminado','sum_trafico_originado':'trafico originado'})\n",
    "    VOZ_TRAF['periodo']=VOZ_TRAF['anno']+'-T'+VOZ_TRAF['trimestre']\n",
    "    return VOZ_TRAF\n",
    "TraficoSMSCodigosCortos=ReadApiTelMovilTraficoCodigosCortos()"
   ]
  },
  {
   "cell_type": "code",
   "execution_count": null,
   "id": "ba475761",
   "metadata": {
    "ExecuteTime": {
     "end_time": "2022-08-11T14:44:55.330220Z",
     "start_time": "2022-08-11T14:44:55.210211Z"
    }
   },
   "outputs": [],
   "source": [
    "TraficoSMSCodigosCortosAgg=TraficoSMSCodigosCortos.groupby(['periodo']).agg({'trafico terminado':'sum','trafico originado':'sum'}).reset_index()\n",
    "fig = px.line(TraficoSMSCodigosCortosAgg, x=\"periodo\", y=\"trafico originado\")\n",
    "fig.show()"
   ]
  },
  {
   "cell_type": "code",
   "execution_count": null,
   "id": "e49187dc",
   "metadata": {
    "ExecuteTime": {
     "end_time": "2022-08-11T19:56:49.425743Z",
     "start_time": "2022-08-11T19:56:49.161750Z"
    }
   },
   "outputs": [],
   "source": [
    "fig = px.line(TraficoSMSCodigosCortos, x=\"periodo\", y=\"trafico terminado\",color='empresa')\n",
    "fig.show()"
   ]
  },
  {
   "cell_type": "markdown",
   "id": "d7d2dff8",
   "metadata": {},
   "source": [
    "## Ingresos códigos cortos"
   ]
  },
  {
   "cell_type": "code",
   "execution_count": null,
   "id": "cd995f24",
   "metadata": {
    "ExecuteTime": {
     "end_time": "2022-08-12T14:47:37.199555Z",
     "start_time": "2022-08-12T14:47:36.469438Z"
    }
   },
   "outputs": [],
   "source": [
    "def ReadApiTelMovilIngresosCodigosCortos():\n",
    "    resourceid = '2c9bba15-a735-41c0-9068-7bb8d280ee99'\n",
    "    consulta='https://www.postdata.gov.co/api/action/datastore/search.json?resource_id=' + resourceid + ''\\\n",
    "             '&filters[anno]=' + '2018,2019,2020,2021' + ''\\\n",
    "             '&fields[]=anno&fields[]=trimestre&fields[]=id_empresa&fields[]=empresa'\\\n",
    "             '&group_by=anno,trimestre,id_empresa,empresa'\\\n",
    "             '&sum[]=ingresos_sms' \n",
    "    response_base = urlopen(consulta + '&limit=10000000') \n",
    "    json_base = json.loads(response_base.read())\n",
    "    VOZ_ING = pd.DataFrame(json_base['result']['records'])\n",
    "    VOZ_ING.sum_ingresos_sms = VOZ_ING.sum_ingresos_sms.astype('int64')\n",
    "    VOZ_ING = VOZ_ING.rename(columns={'sum_ingresos_sms':'ingresos'})\n",
    "    VOZ_ING['periodo']=VOZ_ING['anno']+'-T'+VOZ_ING['trimestre']\n",
    "    return VOZ_ING\n",
    "IngresosSMSCodigosCortos=ReadApiTelMovilIngresosCodigosCortos()"
   ]
  },
  {
   "cell_type": "code",
   "execution_count": null,
   "id": "7c52e2d6",
   "metadata": {
    "ExecuteTime": {
     "end_time": "2022-08-12T14:50:23.765833Z",
     "start_time": "2022-08-12T14:50:21.852767Z"
    }
   },
   "outputs": [],
   "source": [
    "IngresosSMSCodigosCortosAgg=IngresosSMSCodigosCortos.groupby(['periodo'])['ingresos'].sum().reset_index()\n",
    "fig = px.line(IngresosSMSCodigosCortosAgg, x=\"periodo\", y=\"ingresos\")\n",
    "fig.show()"
   ]
  },
  {
   "cell_type": "markdown",
   "id": "b7806494",
   "metadata": {},
   "source": [
    "# Internet móvil"
   ]
  },
  {
   "cell_type": "markdown",
   "id": "b41d31da",
   "metadata": {},
   "source": [
    "## Accesos"
   ]
  },
  {
   "cell_type": "code",
   "execution_count": null,
   "id": "737cf780",
   "metadata": {
    "ExecuteTime": {
     "end_time": "2022-08-03T03:17:54.884736Z",
     "start_time": "2022-08-03T03:17:53.623851Z"
    }
   },
   "outputs": [],
   "source": [
    "def ReadApiIMAccesosCF():\n",
    "    resourceid_cf = '47d07e20-b257-4aaf-9309-1501c75a826c'\n",
    "    consulta_cf='https://www.postdata.gov.co/api/action/datastore/search.json?resource_id=' + resourceid_cf + ''\\\n",
    "                '&filters[anno]=' + '2018,2019,2020,2021'\\\n",
    "                '&fields[]=anno&fields[]=trimestre&fields[]=mes_del_trimestre&fields[]=id_empresa&fields[]=empresa'\\\n",
    "                '&group_by=anno,trimestre,mes_del_trimestre,id_empresa,empresa'\\\n",
    "                '&sum=cantidad_suscriptores' \n",
    "    response_base_cf = urlopen(consulta_cf + '&limit=10000000') \n",
    "    json_base_cf = json.loads(response_base_cf.read())\n",
    "    IMCF_SUS = pd.DataFrame(json_base_cf['result']['records'])\n",
    "    IMCF_SUS.sum_cantidad_suscriptores = IMCF_SUS.sum_cantidad_suscriptores.astype('float')\n",
    "    #IM_ACCESOS.drop(columns=['sum_cantidad_suscriptores','sum_cantidad_abonados'], inplace=True)\n",
    "    return IMCF_SUS\n",
    "CargoFijoIntMovil=ReadApiIMAccesosCF()"
   ]
  },
  {
   "cell_type": "code",
   "execution_count": null,
   "id": "f4f4d81f",
   "metadata": {
    "ExecuteTime": {
     "end_time": "2022-08-02T19:31:38.881851Z",
     "start_time": "2022-08-02T19:31:38.856847Z"
    }
   },
   "outputs": [],
   "source": [
    "CargoFijoIntMovil=CargoFijoIntMovil[CargoFijoIntMovil['mes_del_trimestre']=='3']\n",
    "CargoFijoIntMovil"
   ]
  },
  {
   "cell_type": "code",
   "execution_count": null,
   "id": "32b0eef4",
   "metadata": {
    "ExecuteTime": {
     "end_time": "2022-07-27T15:41:31.061940Z",
     "start_time": "2022-07-27T15:41:30.148660Z"
    }
   },
   "outputs": [],
   "source": [
    "def ReadApiIMAccesosABO():\n",
    "    resourceid_dda = '3df620f6-deec-42a0-a6af-44ca23c2b73c'\n",
    "    consulta_dda='https://www.postdata.gov.co/api/action/datastore/search.json?resource_id=' + resourceid_dda + ''\\\n",
    "                '&filters[anno]=' + '2018,2019,2020,2021' + ''+'filters[mes_del_trimestre]=3'\\\n",
    "                '&fields[]=anno&fields[]=trimestre&fields[]=mes_del_trimestre&fields[]=id_empresa&fields[]=empresa'\\\n",
    "                '&group_by=anno,trimestre,mes_del_trimestre,id_empresa,empresa'\\\n",
    "                '&sum=cantidad_abonados' \n",
    "    response_base_dda = urlopen(consulta_dda + '&limit=10000000') \n",
    "    json_base_dda = json.loads(response_base_dda.read())\n",
    "    IMDDA_ABO = pd.DataFrame(json_base_dda['result']['records'])\n",
    "    IMDDA_ABO.sum_cantidad_abonados = IMDDA_ABO.sum_cantidad_abonados.astype('int64')\n",
    "    return IMDDA_ABO\n",
    "AbonadosIntMovil=ReadApiIMAccesosABO()"
   ]
  },
  {
   "cell_type": "code",
   "execution_count": null,
   "id": "aa05f4a6",
   "metadata": {
    "ExecuteTime": {
     "end_time": "2022-07-27T15:44:04.147406Z",
     "start_time": "2022-07-27T15:44:04.136411Z"
    }
   },
   "outputs": [],
   "source": [
    "AbonadosIntMovil=AbonadosIntMovil[AbonadosIntMovil['mes_del_trimestre']=='3']"
   ]
  },
  {
   "cell_type": "code",
   "execution_count": null,
   "id": "b1fc4e96",
   "metadata": {
    "ExecuteTime": {
     "end_time": "2022-07-27T15:44:44.326398Z",
     "start_time": "2022-07-27T15:44:44.290422Z"
    }
   },
   "outputs": [],
   "source": [
    "AccesosIntMovil=CargoFijoIntMovil.merge(AbonadosIntMovil,left_on=['anno','trimestre','id_empresa','empresa'],right_on=['anno','trimestre','id_empresa','empresa'])\n",
    "AccesosIntMovil['accesos']=AccesosIntMovil['sum_cantidad_suscriptores']+AccesosIntMovil['sum_cantidad_abonados']\n",
    "AccesosIntMovil"
   ]
  },
  {
   "cell_type": "code",
   "execution_count": null,
   "id": "099d284f",
   "metadata": {
    "ExecuteTime": {
     "end_time": "2022-08-25T16:20:49.962416Z",
     "start_time": "2022-08-25T16:20:48.607972Z"
    }
   },
   "outputs": [],
   "source": [
    "def ReadApiIMAccesos():\n",
    "    resourceid_cf = '47d07e20-b257-4aaf-9309-1501c75a826c'\n",
    "    consulta_cf='https://www.postdata.gov.co/api/action/datastore/search.json?resource_id=' + resourceid_cf + ''\\\n",
    "                '&filters[anno]=' + '2017,2018,2019,2020,2021,2022,2023,2024,2025' + ''+'&filters[mes_del_trimestre]=3'\\\n",
    "                '&fields[]=anno&fields[]=trimestre&fields[]=id_empresa&fields[]=empresa'\\\n",
    "                '&group_by=anno,trimestre,id_empresa,empresa'\\\n",
    "                '&sum=cantidad_suscriptores' \n",
    "    response_base_cf = urlopen(consulta_cf + '&limit=10000000') \n",
    "    json_base_cf = json.loads(response_base_cf.read())\n",
    "    IMCF_SUS = pd.DataFrame(json_base_cf['result']['records'])\n",
    "    IMCF_SUS['modalidad']='Cargo Fijo'\n",
    "    IMCF_SUS.sum_cantidad_suscriptores = IMCF_SUS.sum_cantidad_suscriptores.astype('int64')\n",
    "    IMCF_SUS=IMCF_SUS.rename(columns={'sum_cantidad_suscriptores':'Accesos'})\n",
    "    resourceid_dda = '3df620f6-deec-42a0-a6af-44ca23c2b73c'\n",
    "    consulta_dda='https://www.postdata.gov.co/api/action/datastore/search.json?resource_id=' + resourceid_dda + ''\\\n",
    "                '&filters[anno]=' + '2017,2018,2019,2020,2021,2022,2023,2024,2025' + ''+'&filters[mes_del_trimestre]=3'\\\n",
    "                '&fields[]=anno&fields[]=trimestre&fields[]=id_empresa&fields[]=empresa'\\\n",
    "                '&group_by=anno,trimestre,id_empresa,empresa'\\\n",
    "                '&sum=cantidad_abonados' \n",
    "    response_base_dda = urlopen(consulta_dda + '&limit=10000000') \n",
    "    json_base_dda = json.loads(response_base_dda.read())\n",
    "    IMDDA_ABO = pd.DataFrame(json_base_dda['result']['records'])\n",
    "    IMDDA_ABO.sum_cantidad_abonados = IMDDA_ABO.sum_cantidad_abonados.astype('int64')\n",
    "    IMDDA_ABO['modalidad']='Demanda'\n",
    "    IMDDA_ABO=IMDDA_ABO.rename(columns={'sum_cantidad_abonados':'Accesos'})\n",
    "    IM_ACCESOS=pd.concat([IMDDA_ABO,IMCF_SUS])\n",
    "    IM_ACCESOS['periodo']=IM_ACCESOS['anno']+'-T'+IM_ACCESOS['trimestre']\n",
    "    return IM_ACCESOS\n",
    "AccesosInternetmovil=ReadApiIMAccesos()"
   ]
  },
  {
   "cell_type": "code",
   "execution_count": null,
   "id": "be8eef59",
   "metadata": {
    "ExecuteTime": {
     "end_time": "2022-08-25T16:20:53.621839Z",
     "start_time": "2022-08-25T16:20:53.600855Z"
    }
   },
   "outputs": [],
   "source": [
    "AccesosInternetmovilAgg=AccesosInternetmovil.groupby(['periodo'])['Accesos'].sum().reset_index()\n",
    "AccesosInternetmovilAgg"
   ]
  },
  {
   "cell_type": "code",
   "execution_count": null,
   "id": "1ba5e9b7",
   "metadata": {
    "ExecuteTime": {
     "end_time": "2022-08-03T04:46:22.309057Z",
     "start_time": "2022-08-03T04:46:21.849718Z"
    },
    "scrolled": false
   },
   "outputs": [],
   "source": [
    "fig = px.line(AccesosInternetmovilAgg, x=\"periodo\", y=\"Accesos\",color='empresa')\n",
    "fig.show()"
   ]
  },
  {
   "cell_type": "markdown",
   "id": "d9a984d5",
   "metadata": {},
   "source": [
    "## Ingresos"
   ]
  },
  {
   "cell_type": "code",
   "execution_count": null,
   "id": "067e7791",
   "metadata": {
    "ExecuteTime": {
     "end_time": "2022-08-25T21:42:04.632258Z",
     "start_time": "2022-08-25T21:42:04.020486Z"
    }
   },
   "outputs": [],
   "source": [
    "def ReadApiIMIngCF():\n",
    "    resourceid_cf = '8366e39c-6a14-483a-80f4-7278ceb39f88'\n",
    "    consulta_cf='https://www.postdata.gov.co/api/action/datastore/search.json?resource_id=' + resourceid_cf + ''\\\n",
    "                '&filters[anno]=' + '2018,2019,2020,2021' + ''\\\n",
    "                '&fields[]=anno&fields[]=trimestre&fields[]=id_empresa&fields[]=empresa'\\\n",
    "                '&group_by=anno,trimestre,id_empresa,empresa'\\\n",
    "                '&sum=ingresos' \n",
    "    response_base_cf = urlopen(consulta_cf + '&limit=10000000') \n",
    "    json_base_cf = json.loads(response_base_cf.read())\n",
    "    IMCF_ING = pd.DataFrame(json_base_cf['result']['records'])\n",
    "    IMCF_ING.sum_ingresos = IMCF_ING.sum_ingresos.astype('int64')\n",
    "    IMCF_ING['periodo']=IMCF_ING['anno']+'-T'+IMCF_ING['trimestre']\n",
    "    IMCF_ING['modalidad']='Cargo Fijo'\n",
    "    return IMCF_ING\n",
    "IngresosInternetmovilCF=ReadApiIMIngCF()"
   ]
  },
  {
   "cell_type": "code",
   "execution_count": null,
   "id": "a146d691",
   "metadata": {
    "ExecuteTime": {
     "end_time": "2022-08-03T04:27:33.360307Z",
     "start_time": "2022-08-03T04:27:32.665185Z"
    }
   },
   "outputs": [],
   "source": [
    "def ReadApiIMIngDDA():\n",
    "    resourceid_dda = '60a55889-ba71-45ff-b68f-33b503da36f2'\n",
    "    consulta_dda='https://www.postdata.gov.co/api/action/datastore/search.json?resource_id=' + resourceid_dda + ''\\\n",
    "                '&filters[anno]=' + '2018,2019,2020,2021' + ''\\\n",
    "                '&fields[]=anno&fields[]=trimestre&fields[]=id_empresa&fields[]=empresa'\\\n",
    "                '&group_by=anno,trimestre,id_empresa,empresa'\\\n",
    "                '&sum=ingresos' \n",
    "    response_base_dda = urlopen(consulta_dda + '&limit=10000000') \n",
    "    json_base_dda = json.loads(response_base_dda.read())\n",
    "    IMDDA_ING = pd.DataFrame(json_base_dda['result']['records'])\n",
    "    IMDDA_ING.sum_ingresos = IMDDA_ING.sum_ingresos.astype('int64')\n",
    "    IMDDA_ING['periodo']=IMDDA_ING['anno']+'-T'+IMDDA_ING['trimestre']\n",
    "    IMDDA_ING['modalidad']='Demanda'\n",
    "    return IMDDA_ING\n",
    "IngresosInternetmovilDDA=ReadApiIMIngDDA()"
   ]
  },
  {
   "cell_type": "code",
   "execution_count": null,
   "id": "df073fb8",
   "metadata": {
    "ExecuteTime": {
     "end_time": "2022-08-03T04:30:41.884357Z",
     "start_time": "2022-08-03T04:30:41.844358Z"
    }
   },
   "outputs": [],
   "source": [
    "blaaIntMov"
   ]
  },
  {
   "cell_type": "code",
   "execution_count": null,
   "id": "bc0deea3",
   "metadata": {
    "ExecuteTime": {
     "end_time": "2022-08-03T04:32:37.083196Z",
     "start_time": "2022-08-03T04:32:37.059197Z"
    }
   },
   "outputs": [],
   "source": [
    "blaaIntMov=pd.concat([IngresosInternetmovilDDA,IngresosInternetmovilCF])\n",
    "blaaIntMovAgg=blaaIntMov.groupby(['periodo','empresa','modalidad'])['sum_ingresos'].sum().reset_index()"
   ]
  },
  {
   "cell_type": "code",
   "execution_count": null,
   "id": "8dcd5472",
   "metadata": {
    "ExecuteTime": {
     "end_time": "2022-08-03T04:33:33.998695Z",
     "start_time": "2022-08-03T04:33:33.798702Z"
    }
   },
   "outputs": [],
   "source": [
    "fig = px.line(blaaIntMovAgg[blaaIntMovAgg['modalidad']=='Demanda'], x=\"periodo\", y=\"sum_ingresos\",color='empresa')\n",
    "fig.show()"
   ]
  },
  {
   "cell_type": "code",
   "execution_count": null,
   "id": "3faf8696",
   "metadata": {
    "ExecuteTime": {
     "end_time": "2022-08-25T21:42:09.650314Z",
     "start_time": "2022-08-25T21:42:08.363169Z"
    }
   },
   "outputs": [],
   "source": [
    "def ReadApiIMIng():\n",
    "    resourceid_cf = '8366e39c-6a14-483a-80f4-7278ceb39f88'\n",
    "    consulta_cf='https://www.postdata.gov.co/api/action/datastore/search.json?resource_id=' + resourceid_cf + ''\\\n",
    "                '&filters[anno]=' + '2018,2019,2020,2021' + ''\\\n",
    "                '&fields[]=anno&fields[]=trimestre&fields[]=id_empresa&fields[]=empresa'\\\n",
    "                '&group_by=anno,trimestre,id_empresa,empresa'\\\n",
    "                '&sum=ingresos' \n",
    "    response_base_cf = urlopen(consulta_cf + '&limit=10000000000') \n",
    "    json_base_cf = json.loads(response_base_cf.read())\n",
    "    IMCF_ING = pd.DataFrame(json_base_cf['result']['records'])\n",
    "    IMCF_ING.sum_ingresos = IMCF_ING.sum_ingresos.astype('int64')\n",
    "    IMCF_ING['modalidad']='Cargo Fijo'\n",
    "    resourceid_dda = '60a55889-ba71-45ff-b68f-33b503da36f2'\n",
    "    consulta_dda='https://www.postdata.gov.co/api/action/datastore/search.json?resource_id=' + resourceid_dda + ''\\\n",
    "                '&filters[anno]=' + '2018,2019,2020,2021' + ''\\\n",
    "                '&fields[]=anno&fields[]=trimestre&fields[]=id_empresa&fields[]=empresa'\\\n",
    "                '&group_by=anno,trimestre,id_empresa,empresa'\\\n",
    "                '&sum=ingresos' \n",
    "    response_base_dda = urlopen(consulta_dda + '&limit=1000000000') \n",
    "    json_base_dda = json.loads(response_base_dda.read())\n",
    "    IMDDA_ING = pd.DataFrame(json_base_dda['result']['records'])\n",
    "    IMDDA_ING.sum_ingresos = IMDDA_ING.sum_ingresos.astype('int64')\n",
    "    IMDDA_ING['modalidad']='Demanda'\n",
    "    IM_ING=pd.concat([IMDDA_ING,IMCF_ING])\n",
    "    IM_ING=IM_ING.rename(columns={'sum_ingresos':'ingresos'})\n",
    "    IM_ING['periodo']=IM_ING['anno']+'-T'+IM_ING['trimestre']\n",
    "    return IM_ING\n",
    "IngresosInternetmovil=ReadApiIMIng()"
   ]
  },
  {
   "cell_type": "code",
   "execution_count": null,
   "id": "cc1e4b66",
   "metadata": {
    "ExecuteTime": {
     "end_time": "2022-08-03T04:38:32.949034Z",
     "start_time": "2022-08-03T04:38:32.837041Z"
    }
   },
   "outputs": [],
   "source": [
    "IngresosInternetmovilAgg=IngresosInternetmovil.groupby(['periodo'])['ingresos'].sum().reset_index()\n",
    "fig = px.line(IngresosInternetmovilAgg, x=\"periodo\", y=\"ingresos\")\n",
    "fig.show()"
   ]
  },
  {
   "cell_type": "code",
   "execution_count": null,
   "id": "3498206d",
   "metadata": {
    "ExecuteTime": {
     "end_time": "2022-08-03T03:29:49.901493Z",
     "start_time": "2022-08-03T03:29:49.693511Z"
    }
   },
   "outputs": [],
   "source": [
    "fig = px.line(IngresosInternetmovilCF, x=\"periodo\", y=\"sum_ingresos\",color='empresa')\n",
    "fig.show()"
   ]
  },
  {
   "cell_type": "code",
   "execution_count": null,
   "id": "3e52d2c0",
   "metadata": {
    "ExecuteTime": {
     "end_time": "2022-08-03T04:25:00.777616Z",
     "start_time": "2022-08-03T04:25:00.737602Z"
    }
   },
   "outputs": [],
   "source": [
    "PruebaIngIntMovCF=pd.read_csv('INTERNET_MOVIL_CARGO_FIJO_INGRESOS_9.csv',delimiter=';')\n",
    "PruebaIngIntMovCF['INGRESOS']=PruebaIngIntMovCF['INGRESOS'].str.replace(',','.').astype('float')\n",
    "PruebaIngIntMovCF['EMPRESA'].unique()"
   ]
  },
  {
   "cell_type": "code",
   "execution_count": null,
   "id": "8b1ebb15",
   "metadata": {
    "ExecuteTime": {
     "end_time": "2022-08-03T03:29:51.063414Z",
     "start_time": "2022-08-03T03:29:50.863726Z"
    }
   },
   "outputs": [],
   "source": [
    "fig = px.line(IngresosInternetmovilDDA, x=\"periodo\", y=\"sum_ingresos\",color='empresa')\n",
    "fig.show()"
   ]
  },
  {
   "cell_type": "markdown",
   "id": "9513e956",
   "metadata": {},
   "source": [
    "## Tráfico"
   ]
  },
  {
   "cell_type": "code",
   "execution_count": null,
   "id": "fb31717c",
   "metadata": {
    "ExecuteTime": {
     "end_time": "2022-08-25T18:56:11.990072Z",
     "start_time": "2022-08-25T18:56:10.576460Z"
    }
   },
   "outputs": [],
   "source": [
    "def ReadApiIMTraf():\n",
    "    resourceid_cf = 'd40c5e75-db56-4ec1-a441-0314c47bd71d'\n",
    "    consulta_cf='https://www.postdata.gov.co/api/action/datastore/search.json?resource_id=' + resourceid_cf + ''\\\n",
    "                '&filters[anno]=' + '2018,2019,2020,2021' + ''\\\n",
    "                '&fields[]=anno&fields[]=trimestre&fields[]=id_empresa&fields[]=empresa'\\\n",
    "                '&group_by=anno,trimestre,id_empresa,empresa'\\\n",
    "                '&sum=trafico' \n",
    "    response_base_cf = urlopen(consulta_cf + '&limit=10000000') \n",
    "    json_base_cf = json.loads(response_base_cf.read())\n",
    "    IMCF_TRAF = pd.DataFrame(json_base_cf['result']['records'])\n",
    "    IMCF_TRAF['modalidad']='Carfo Fijo'\n",
    "    IMCF_TRAF.sum_trafico = IMCF_TRAF.sum_trafico.astype('int64')\n",
    "    resourceid_dda = 'c0be7034-29f8-4400-be54-c4aafe5df606'\n",
    "    consulta_dda='https://www.postdata.gov.co/api/action/datastore/search.json?resource_id=' + resourceid_dda + ''\\\n",
    "                '&filters[anno]=' + '2018,2019,2020,2021' + ''\\\n",
    "                '&fields[]=anno&fields[]=trimestre&fields[]=id_empresa&fields[]=empresa'\\\n",
    "                '&group_by=anno,trimestre,id_empresa,empresa'\\\n",
    "                '&sum=trafico' \n",
    "    response_base_dda = urlopen(consulta_dda + '&limit=10000000') \n",
    "    json_base_dda = json.loads(response_base_dda.read())\n",
    "    IMDDA_TRAF = pd.DataFrame(json_base_dda['result']['records'])\n",
    "    IMDDA_TRAF['modalidad']='Demanda'\n",
    "    IMDDA_TRAF.sum_trafico = IMDDA_TRAF.sum_trafico.astype('int64')\n",
    "    IM_TRAF=pd.concat([IMDDA_TRAF,IMCF_TRAF])\n",
    "    IM_TRAF['periodo']=IM_TRAF['anno']+'-T'+IM_TRAF['trimestre']\n",
    "    IM_TRAF=IM_TRAF.rename(columns={'sum_trafico':'trafico'})\n",
    "    return IM_TRAF\n",
    "TraficoInternetMovil=ReadApiIMTraf()"
   ]
  },
  {
   "cell_type": "code",
   "execution_count": null,
   "id": "9a667336",
   "metadata": {
    "ExecuteTime": {
     "end_time": "2022-08-25T18:57:29.487518Z",
     "start_time": "2022-08-25T18:57:29.481522Z"
    }
   },
   "outputs": [],
   "source": [
    "float(1.894893e+09)"
   ]
  },
  {
   "cell_type": "code",
   "execution_count": null,
   "id": "957ce105",
   "metadata": {
    "ExecuteTime": {
     "end_time": "2022-08-25T18:56:27.935815Z",
     "start_time": "2022-08-25T18:56:27.917806Z"
    }
   },
   "outputs": [],
   "source": [
    "TraficoInternetMovil.groupby(['anno'])['trafico'].sum().reset_index()"
   ]
  },
  {
   "cell_type": "code",
   "execution_count": null,
   "id": "0d6e1b93",
   "metadata": {
    "ExecuteTime": {
     "end_time": "2022-08-25T18:56:18.325670Z",
     "start_time": "2022-08-25T18:56:18.232722Z"
    }
   },
   "outputs": [],
   "source": [
    "TraficoInternetMovil['trafico']=TraficoInternetMovil['trafico']/1024\n",
    "TraficoInternetMovilAgg=TraficoInternetMovil.groupby(['periodo'])['trafico'].sum().reset_index()\n",
    "fig = px.line(TraficoInternetMovilAgg, x=\"periodo\", y=\"trafico\")\n",
    "fig.show()"
   ]
  },
  {
   "cell_type": "code",
   "execution_count": null,
   "id": "a6db2ac1",
   "metadata": {
    "ExecuteTime": {
     "end_time": "2022-08-03T04:01:36.661472Z",
     "start_time": "2022-08-03T04:01:36.629783Z"
    }
   },
   "outputs": [],
   "source": [
    "TraficoInternetMovil['mes']=((TraficoInternetMovil['trimestre'].astype('int64'))*3-2)+(TraficoInternetMovil['mes_del_trimestre'].astype('int64')-1)\n",
    "TraficoInternetMovil['periodo']=TraficoInternetMovil['anno']+'-'+TraficoInternetMovil['mes'].astype('str').str.zfill(2)\n",
    "TraficoInternetMovil['trafico']=TraficoInternetMovil['trafico']/1000"
   ]
  },
  {
   "cell_type": "code",
   "execution_count": null,
   "id": "f8b0dfa1",
   "metadata": {
    "ExecuteTime": {
     "end_time": "2022-08-03T03:57:56.060780Z",
     "start_time": "2022-08-03T03:57:55.892793Z"
    },
    "scrolled": false
   },
   "outputs": [],
   "source": [
    "fig = px.line(TraficoInternetMovil, x=\"periodo\", y=\"trafico\",color='empresa')\n",
    "fig.show()"
   ]
  },
  {
   "cell_type": "code",
   "execution_count": null,
   "id": "55bd52f6",
   "metadata": {
    "ExecuteTime": {
     "end_time": "2022-08-03T04:01:29.661308Z",
     "start_time": "2022-08-03T04:01:28.824554Z"
    }
   },
   "outputs": [],
   "source": [
    "def ReadApiIMTrafCF():\n",
    "    resourceid_cf = 'd40c5e75-db56-4ec1-a441-0314c47bd71d'\n",
    "    consulta_cf='https://www.postdata.gov.co/api/action/datastore/search.json?resource_id=' + resourceid_cf + ''\\\n",
    "                '&filters[anno]=' + '2018,2019,2020,2021' + ''\\\n",
    "                '&fields[]=anno&fields[]=trimestre&fields[]=mes_del_trimestre&fields[]=id_empresa&fields[]=empresa'\\\n",
    "                '&group_by=anno,trimestre,mes_del_trimestre,id_empresa,empresa'\\\n",
    "                '&sum=trafico' \n",
    "    response_base_cf = urlopen(consulta_cf + '&limit=10000000') \n",
    "    json_base_cf = json.loads(response_base_cf.read())\n",
    "    IMCF_TRAF = pd.DataFrame(json_base_cf['result']['records'])\n",
    "    IMCF_TRAF.sum_trafico = IMCF_TRAF.sum_trafico.astype('int64')\n",
    "    IMCF_TRAF=IMCF_TRAF.rename(columns={'sum_trafico':'trafico cargo fijo'})\n",
    "    return IMCF_TRAF\n",
    "TrafIntMovilCF=ReadApiIMTrafCF()\n",
    "TrafIntMovilCF['mes']=((TrafIntMovilCF['trimestre'].astype('int64'))*3-2)+(TrafIntMovilCF['mes_del_trimestre'].astype('int64')-1)\n",
    "TrafIntMovilCF['periodo']=TrafIntMovilCF['anno']+'-'+TrafIntMovilCF['mes'].astype('str').str.zfill(2)\n",
    "TrafIntMovilCF['trafico cargo fijo']=TrafIntMovilCF['trafico cargo fijo']/1000"
   ]
  },
  {
   "cell_type": "code",
   "execution_count": null,
   "id": "68c1851b",
   "metadata": {
    "ExecuteTime": {
     "end_time": "2022-08-03T04:01:56.814961Z",
     "start_time": "2022-08-03T04:01:56.638975Z"
    }
   },
   "outputs": [],
   "source": [
    "fig = px.line(TrafIntMovilCF, x=\"periodo\", y=\"trafico cargo fijo\",color='empresa')\n",
    "fig.show()"
   ]
  },
  {
   "cell_type": "code",
   "execution_count": null,
   "id": "e5ef36c2",
   "metadata": {
    "ExecuteTime": {
     "end_time": "2022-08-03T04:04:56.909143Z",
     "start_time": "2022-08-03T04:04:56.026726Z"
    }
   },
   "outputs": [],
   "source": [
    "def ReadApiIMTrafDDA():\n",
    "    resourceid_dda = 'c0be7034-29f8-4400-be54-c4aafe5df606'\n",
    "    consulta_dda='https://www.postdata.gov.co/api/action/datastore/search.json?resource_id=' + resourceid_dda + ''\\\n",
    "                '&filters[anno]=' + '2018,2019,2020,2021' + ''\\\n",
    "                '&fields[]=anno&fields[]=trimestre&fields[]=mes_del_trimestre&fields[]=id_empresa&fields[]=empresa'\\\n",
    "                '&group_by=anno,trimestre,mes_del_trimestre,id_empresa,empresa'\\\n",
    "                '&sum=trafico' \n",
    "    response_base_dda = urlopen(consulta_dda + '&limit=10000000') \n",
    "    json_base_dda = json.loads(response_base_dda.read())\n",
    "    IMDDA_TRAF = pd.DataFrame(json_base_dda['result']['records'])\n",
    "    IMDDA_TRAF.sum_trafico = IMDDA_TRAF.sum_trafico.astype('int64')\n",
    "    IMDDA_TRAF=IMDDA_TRAF.rename(columns={'sum_trafico':'trafico demanda'})\n",
    "    return IMDDA_TRAF\n",
    "TrafIntMovilDDA=ReadApiIMTrafDDA()\n",
    "TrafIntMovilDDA['mes']=((TrafIntMovilDDA['trimestre'].astype('int64'))*3-2)+(TrafIntMovilDDA['mes_del_trimestre'].astype('int64')-1)\n",
    "TrafIntMovilDDA['periodo']=TrafIntMovilDDA['anno']+'-'+TrafIntMovilDDA['mes'].astype('str').str.zfill(2)\n",
    "TrafIntMovilDDA['trafico demanda']=TrafIntMovilDDA['trafico demanda']/1000"
   ]
  },
  {
   "cell_type": "code",
   "execution_count": null,
   "id": "a5c88bd2",
   "metadata": {
    "ExecuteTime": {
     "end_time": "2022-08-03T04:05:12.153531Z",
     "start_time": "2022-08-03T04:05:11.954225Z"
    }
   },
   "outputs": [],
   "source": [
    "fig = px.line(TrafIntMovilDDA, x=\"periodo\", y=\"trafico demanda\",color='empresa')\n",
    "fig.show()"
   ]
  },
  {
   "cell_type": "code",
   "execution_count": null,
   "id": "d19d98f4",
   "metadata": {
    "ExecuteTime": {
     "end_time": "2022-08-03T04:15:10.258459Z",
     "start_time": "2022-08-03T04:15:10.218444Z"
    }
   },
   "outputs": [],
   "source": [
    "PruebTrafIntMovil=pd.read_csv('INTERNET_MOVIL_CARGO_FIJO_TRAFICO_8.csv',delimiter=';')\n",
    "PruebTrafIntMovil['MES']=((PruebTrafIntMovil['TRIMESTRE'])*3-2)+(PruebTrafIntMovil['MES_DEL_TRIMESTRE']-1)\n",
    "PruebTrafIntMovil['PERIODO']=PruebTrafIntMovil['ANNO'].astype('str')+'-'+PruebTrafIntMovil['MES'].astype('str').str.zfill(2)\n",
    "PruebTrafIntMovil['TRAFICO']=PruebTrafIntMovil['TRAFICO'].str.replace(',','.').astype('float')\n",
    "PruebTrafIntMovil=PruebTrafIntMovil[PruebTrafIntMovil['PERIODO']>'2017-12']"
   ]
  },
  {
   "cell_type": "code",
   "execution_count": null,
   "id": "9ab6ec6b",
   "metadata": {
    "ExecuteTime": {
     "end_time": "2022-08-03T04:15:10.936776Z",
     "start_time": "2022-08-03T04:15:10.752808Z"
    }
   },
   "outputs": [],
   "source": [
    "fig = px.line(PruebTrafIntMovil, x=\"PERIODO\", y=\"TRAFICO\",color='EMPRESA')\n",
    "fig.show()"
   ]
  },
  {
   "cell_type": "markdown",
   "id": "a990bdb9",
   "metadata": {},
   "source": [
    "# Internet fijo"
   ]
  },
  {
   "cell_type": "markdown",
   "id": "a411178a",
   "metadata": {},
   "source": [
    "## Accesos"
   ]
  },
  {
   "cell_type": "code",
   "execution_count": null,
   "id": "6545492c",
   "metadata": {
    "ExecuteTime": {
     "end_time": "2022-08-25T16:18:02.544879Z",
     "start_time": "2022-08-25T16:17:39.287909Z"
    }
   },
   "outputs": [],
   "source": [
    "def ReadApiINTFAccesosCorp():\n",
    "    consulta_anno='2018','2019','2020','2021'\n",
    "    resourceid = '540ea080-bf16-4d63-911f-3b4814e8e4f1'\n",
    "    INTF_ACCESOS = pd.DataFrame()\n",
    "    for anno in consulta_anno:\n",
    "        consulta='https://www.postdata.gov.co/api/action/datastore/search.json?resource_id=' + resourceid + ''\\\n",
    "                 '&filters[id_segmento]=107,108&filters[anno]=' + anno + ''\\\n",
    "                 '&fields[]=anno&fields[]=trimestre&fields[]=id_empresa&fields[]=empresa&fields[]=id_tecnologia&fields[]=tecnologia'\\\n",
    "                 '&group_by=anno,trimestre,id_empresa,empresa,id_tecnologia,tecnologia'\\\n",
    "                 '&sum=accesos' \n",
    "        response_base = urlopen(consulta + '&limit=10000000') \n",
    "        json_base = json.loads(response_base.read())\n",
    "        ACCESOS = pd.DataFrame(json_base['result']['records'])\n",
    "        INTF_ACCESOS = INTF_ACCESOS.append(ACCESOS)\n",
    "    INTF_ACCESOS.sum_accesos = INTF_ACCESOS.sum_accesos.astype('int64')\n",
    "    INTF_ACCESOS = INTF_ACCESOS.rename(columns={'sum_accesos':'accesos'})\n",
    "    return INTF_ACCESOS\n",
    "AccesosCorpIntFijo=ReadApiINTFAccesosCorp()"
   ]
  },
  {
   "cell_type": "code",
   "execution_count": null,
   "id": "c8733500",
   "metadata": {
    "ExecuteTime": {
     "end_time": "2022-08-25T16:18:15.327840Z",
     "start_time": "2022-08-25T16:18:15.305853Z"
    },
    "scrolled": true
   },
   "outputs": [],
   "source": [
    "AccesosCorpIntFijo.groupby(['anno','trimestre'])['accesos'].sum().reset_index()"
   ]
  },
  {
   "cell_type": "code",
   "execution_count": null,
   "id": "b32532f0",
   "metadata": {
    "ExecuteTime": {
     "end_time": "2022-08-25T16:18:20.781160Z",
     "start_time": "2022-08-25T16:18:20.767171Z"
    }
   },
   "outputs": [],
   "source": [
    "def ReadApiINTFAccesosRes():\n",
    "    consulta_anno='2018','2019','2020','2021'\n",
    "    resourceid = '540ea080-bf16-4d63-911f-3b4814e8e4f1'\n",
    "    INTF_ACCESOS = pd.DataFrame()\n",
    "    for anno in consulta_anno:\n",
    "        consulta='https://www.postdata.gov.co/api/action/datastore/search.json?resource_id=' + resourceid + ''\\\n",
    "                 '&filters[id_segmento]=101,102,103,104,105,106&filters[anno]=' + anno + ''\\\n",
    "                 '&fields[]=anno&fields[]=trimestre&fields[]=id_empresa&fields[]=empresa&fields[]=id_tecnologia&fields[]=tecnologia'\\\n",
    "                 '&group_by=anno,trimestre,id_empresa,empresa'\\\n",
    "                 '&sum=accesos' \n",
    "        response_base = urlopen(consulta + '&limit=10000000') \n",
    "        json_base = json.loads(response_base.read())\n",
    "        ACCESOS = pd.DataFrame(json_base['result']['records'])\n",
    "        INTF_ACCESOS = INTF_ACCESOS.append(ACCESOS)\n",
    "    INTF_ACCESOS.sum_accesos = INTF_ACCESOS.sum_accesos.astype('int64')\n",
    "    INTF_ACCESOS = INTF_ACCESOS.rename(columns={'sum_accesos':'accesos'})\n",
    "    return INTF_ACCESOS"
   ]
  },
  {
   "cell_type": "code",
   "execution_count": null,
   "id": "0ea0b127",
   "metadata": {
    "ExecuteTime": {
     "end_time": "2022-08-25T16:18:46.252858Z",
     "start_time": "2022-08-25T16:18:22.383992Z"
    }
   },
   "outputs": [],
   "source": [
    "AccesosResIntFijo=ReadApiINTFAccesosRes()"
   ]
  },
  {
   "cell_type": "code",
   "execution_count": null,
   "id": "ea1dcb95",
   "metadata": {
    "ExecuteTime": {
     "end_time": "2022-08-25T16:18:49.846908Z",
     "start_time": "2022-08-25T16:18:49.817927Z"
    }
   },
   "outputs": [],
   "source": [
    "AccesosResIntFijo.groupby(['anno','trimestre'])['accesos'].sum().reset_index()"
   ]
  },
  {
   "cell_type": "markdown",
   "id": "1350e94d",
   "metadata": {},
   "source": [
    "## Ingresos"
   ]
  },
  {
   "cell_type": "code",
   "execution_count": null,
   "id": "f1b36089",
   "metadata": {
    "ExecuteTime": {
     "end_time": "2022-08-25T21:38:36.846388Z",
     "start_time": "2022-08-25T21:38:36.836394Z"
    }
   },
   "outputs": [],
   "source": [
    "def ReadApiINTFIng():\n",
    "    resourceid = 'd917a68d-9cb9-4257-82f1-74115a4cf629'\n",
    "    consulta_anno='2018,2019,2020,2021'\n",
    "    consulta='https://www.postdata.gov.co/api/action/datastore/search.json?resource_id=' + resourceid + ''\\\n",
    "             '&filters[anno]=' + consulta_anno + ''\\\n",
    "             '&fields[]=anno&fields[]=trimestre&fields[]=id_empresa&fields[]=empresa'\\\n",
    "             '&group_by=anno,trimestre,id_empresa,empresa'\\\n",
    "             '&sum=ingresos' \n",
    "    response_base = urlopen(consulta + '&limit=10000000') \n",
    "    json_base = json.loads(response_base.read())\n",
    "    INTF_ING = pd.DataFrame(json_base['result']['records'])\n",
    "    INTF_ING.sum_ingresos = INTF_ING.sum_ingresos.astype('int64')\n",
    "    INTF_ING = INTF_ING.rename(columns={'sum_ingresos':'ingresos'})\n",
    "    return INTF_ING"
   ]
  },
  {
   "cell_type": "code",
   "execution_count": null,
   "id": "47e1026f",
   "metadata": {
    "ExecuteTime": {
     "end_time": "2022-08-25T21:38:38.321568Z",
     "start_time": "2022-08-25T21:38:36.849386Z"
    }
   },
   "outputs": [],
   "source": [
    "IngresosInternetFijo=ReadApiINTFIng()"
   ]
  },
  {
   "cell_type": "code",
   "execution_count": null,
   "id": "8bab438e",
   "metadata": {
    "ExecuteTime": {
     "end_time": "2022-08-25T21:39:07.398350Z",
     "start_time": "2022-08-25T21:39:07.387340Z"
    }
   },
   "outputs": [],
   "source": [
    "IngresosInternetFijo['periodo']=IngresosInternetFijo['anno']+'-T'+IngresosInternetFijo['trimestre']"
   ]
  },
  {
   "cell_type": "code",
   "execution_count": null,
   "id": "b358ef20",
   "metadata": {
    "ExecuteTime": {
     "end_time": "2022-08-25T21:39:36.856043Z",
     "start_time": "2022-08-25T21:39:36.837036Z"
    }
   },
   "outputs": [],
   "source": [
    "IngresosInternetFijo.groupby(['periodo'])['ingresos'].sum().reset_index().to_csv('bla1.csv',index=False)"
   ]
  },
  {
   "cell_type": "code",
   "execution_count": null,
   "id": "bb141811",
   "metadata": {
    "ExecuteTime": {
     "end_time": "2022-08-04T20:34:51.131377Z",
     "start_time": "2022-08-04T20:34:51.105375Z"
    }
   },
   "outputs": [],
   "source": [
    "IngresosInternetFijoAgg=IngresosInternetFijo[IngresosInternetFijo['anno']=='2021'].groupby(['trimestre','empresa'])['ingresos'].sum().reset_index()\n",
    "IngresosInternetFijoAgg[IngresosInternetFijoAgg['empresa']=='COMUNICACION CELULAR S A COMCEL S A']"
   ]
  },
  {
   "cell_type": "markdown",
   "id": "7d215fdb",
   "metadata": {},
   "source": [
    "## Velocidades"
   ]
  },
  {
   "cell_type": "code",
   "execution_count": null,
   "id": "a6838389",
   "metadata": {
    "ExecuteTime": {
     "end_time": "2022-08-10T19:26:03.801358Z",
     "start_time": "2022-08-10T19:25:23.576369Z"
    }
   },
   "outputs": [],
   "source": [
    "def ReadApiINTFVelocidad2():\n",
    "    consulta_anno='2018','2019','2020','2021'\n",
    "    resourceid = '540ea080-bf16-4d63-911f-3b4814e8e4f1'\n",
    "    INTF_VEL = pd.DataFrame()\n",
    "    for anno in consulta_anno:\n",
    "        consulta='https://www.postdata.gov.co/api/action/datastore/search.json?resource_id=' + resourceid + ''\\\n",
    "                 '&filters[anno]=' + anno + ''\\\n",
    "                 '&fields[]=anno&fields[]=trimestre&fields[]=id_empresa&fields[]=empresa&fields[]=id_tecnologia&fields[]=tecnologia&fields[]=velocidad_efectiva_downstream'\n",
    "        response_base = urlopen(consulta + '&limit=10000000') \n",
    "        json_base = json.loads(response_base.read())\n",
    "        VEL = pd.DataFrame(json_base['result']['records'])\n",
    "        VEL=VEL.rename(columns={'velocidad_efectiva_downstream':'Velocidad de descarga'})\n",
    "        VEL['periodo']=VEL['anno']+'-T'+VEL['trimestre']\n",
    "        INTF_VEL = INTF_VEL.append(VEL)\n",
    "        INTF_VEL['Velocidad de descarga'] = INTF_VEL['Velocidad de descarga'].str.replace(',','.').astype('float')\n",
    "    return INTF_VEL\n",
    "VelocidadCorpIntFijo2=ReadApiINTFVelocidad2()"
   ]
  },
  {
   "cell_type": "code",
   "execution_count": null,
   "id": "49256d7f",
   "metadata": {
    "ExecuteTime": {
     "end_time": "2022-08-10T15:47:04.473789Z",
     "start_time": "2022-08-10T15:46:29.774570Z"
    }
   },
   "outputs": [],
   "source": [
    "def ReadApiINTFVelocidadCorp():\n",
    "    consulta_anno='2018','2019','2020','2021'\n",
    "    resourceid = '540ea080-bf16-4d63-911f-3b4814e8e4f1'\n",
    "    INTF_VEL = pd.DataFrame()\n",
    "    for anno in consulta_anno:\n",
    "        consulta='https://www.postdata.gov.co/api/action/datastore/search.json?resource_id=' + resourceid + ''\\\n",
    "                 '&filters[anno]=' + anno + ''\\\n",
    "                 '&fields[]=anno&fields[]=trimestre&fields[]=id_empresa&fields[]=empresa&fields[]=id_tecnologia&fields[]=tecnologia'\\\n",
    "                 '&group_by=anno,trimestre,id_empresa,empresa,id_tecnologia,tecnologia'\\\n",
    "                 '&avg=VELOCIDAD_EFECTIVA_DOWNSTREAM' \n",
    "        response_base = urlopen(consulta + '&limit=10000000') \n",
    "        json_base = json.loads(response_base.read())\n",
    "        VEL = pd.DataFrame(json_base['result']['records'])\n",
    "        VEL=VEL.rename(columns={'avg_VELOCIDAD_EFECTIVA_DOWNSTREAM':'Velocidad de descarga'})\n",
    "        VEL['periodo']=VEL['anno']+'-T'+VEL['trimestre']\n",
    "        INTF_VEL = INTF_VEL.append(VEL)\n",
    "        INTF_VEL['Velocidad de descarga'] = INTF_VEL['Velocidad de descarga'].astype('float')\n",
    "    return INTF_VEL\n",
    "VelocidadCorpIntFijo=ReadApiINTFVelocidadCorp()"
   ]
  },
  {
   "cell_type": "code",
   "execution_count": null,
   "id": "58585044",
   "metadata": {
    "ExecuteTime": {
     "end_time": "2022-08-10T15:47:08.166491Z",
     "start_time": "2022-08-10T15:47:08.118976Z"
    }
   },
   "outputs": [],
   "source": [
    "VelocidadCorpIntFijo['id_tecnologia']=VelocidadCorpIntFijo['id_tecnologia'].astype('int64')\n",
    "VelocidadCorpIntFijo['CodTec']=None\n",
    "VelocidadCorpIntFijo['CodTec']=np.where(VelocidadCorpIntFijo.id_tecnologia.isin([1,4,7,9,114,105,104]),'Inalambrico',VelocidadCorpIntFijo['CodTec'])\n",
    "VelocidadCorpIntFijo['CodTec']=np.where(VelocidadCorpIntFijo.id_tecnologia.isin([5,102,106]),'Cable',VelocidadCorpIntFijo['CodTec'])\n",
    "VelocidadCorpIntFijo['CodTec']=np.where(VelocidadCorpIntFijo.id_tecnologia.isin([6,103]),'Satelital',VelocidadCorpIntFijo['CodTec'])\n",
    "VelocidadCorpIntFijo['CodTec']=np.where(VelocidadCorpIntFijo.id_tecnologia.isin([8,41,42,107,108,109,110,111,112,113]),'Fibra Óptica',VelocidadCorpIntFijo['CodTec'])\n",
    "VelocidadCorpIntFijo['CodTec']=np.where(VelocidadCorpIntFijo.id_tecnologia.isin([2,101]),'xDSL',VelocidadCorpIntFijo['CodTec'])\n",
    "VelocidadCorpIntFijo['CodTec']=np.where(VelocidadCorpIntFijo.id_tecnologia.isin([3,10,31,115]),'Otras',VelocidadCorpIntFijo['CodTec'])"
   ]
  },
  {
   "cell_type": "code",
   "execution_count": null,
   "id": "615366f7",
   "metadata": {
    "ExecuteTime": {
     "end_time": "2022-08-10T15:48:23.496837Z",
     "start_time": "2022-08-10T15:48:23.289998Z"
    }
   },
   "outputs": [],
   "source": [
    "#Limpieza valores velocidad\n",
    "VelocidadCorpIntFijo['Velocidad de descarga'] = VelocidadCorpIntFijo['Velocidad de descarga'].apply(lambda x: x/1000 if x>= 2000 else x)\n",
    "VelocidadCorpIntFijo['Velocidad de descarga']=VelocidadCorpIntFijo[['Velocidad de descarga','CodTec']].apply(lambda x: x['Velocidad de descarga']/1000 if x['CodTec']!='Fibra Óptica' and x['Velocidad de descarga']>400 else x['Velocidad de descarga'], axis=1)"
   ]
  },
  {
   "cell_type": "code",
   "execution_count": null,
   "id": "3eb7d4b4",
   "metadata": {
    "ExecuteTime": {
     "end_time": "2022-08-10T15:48:26.626566Z",
     "start_time": "2022-08-10T15:48:26.592586Z"
    }
   },
   "outputs": [],
   "source": [
    "VelocidadCorpIntFijo"
   ]
  },
  {
   "cell_type": "code",
   "execution_count": null,
   "id": "3f2e9045",
   "metadata": {
    "ExecuteTime": {
     "end_time": "2022-08-10T15:48:29.860364Z",
     "start_time": "2022-08-10T15:48:29.832368Z"
    }
   },
   "outputs": [],
   "source": [
    "VelocidadCorpIntFijoAgg=VelocidadCorpIntFijo.groupby(['periodo'])['Velocidad de descarga'].mean().reset_index()\n",
    "VelocidadCorpIntFijoAgg"
   ]
  },
  {
   "cell_type": "code",
   "execution_count": null,
   "id": "7a01dbdc",
   "metadata": {
    "ExecuteTime": {
     "end_time": "2022-11-21T03:09:58.307609Z",
     "start_time": "2022-11-21T03:09:21.523682Z"
    }
   },
   "outputs": [],
   "source": [
    "IntFijoAccVel=pd.read_csv('ACCESOS_INTERNET_FIJO_2_8.csv',delimiter=';')\n",
    "IntFijoAccVel['VELOCIDAD_EFECTIVA_DOWNSTREAM']=IntFijoAccVel['VELOCIDAD_EFECTIVA_DOWNSTREAM'].str.replace(',','.').astype('float')\n",
    "IntFijoAccVel['PERIODO']=IntFijoAccVel['ANNO'].astype('str')+'-T'+IntFijoAccVel['TRIMESTRE'].astype('str')\n",
    "IntFijoAccVel['ID_TECNOLOGIA']=IntFijoAccVel['ID_TECNOLOGIA'].astype('int64')\n",
    "IntFijoAccVel['CodTec']=None\n",
    "IntFijoAccVel['CodTec']=np.where(IntFijoAccVel.ID_TECNOLOGIA.isin([1,4,7,9,114,105,104]),'Inalambrico',IntFijoAccVel['CodTec'])\n",
    "IntFijoAccVel['CodTec']=np.where(IntFijoAccVel.ID_TECNOLOGIA.isin([5,102,106]),'Cable',IntFijoAccVel['CodTec'])\n",
    "IntFijoAccVel['CodTec']=np.where(IntFijoAccVel.ID_TECNOLOGIA.isin([6,103]),'Satelital',IntFijoAccVel['CodTec'])\n",
    "IntFijoAccVel['CodTec']=np.where(IntFijoAccVel.ID_TECNOLOGIA.isin([8,41,42,107,108,109,110,111,112,113]),'Fibra Óptica',IntFijoAccVel['CodTec'])\n",
    "IntFijoAccVel['CodTec']=np.where(IntFijoAccVel.ID_TECNOLOGIA.isin([2,101]),'xDSL',IntFijoAccVel['CodTec'])\n",
    "IntFijoAccVel['CodTec']=np.where(IntFijoAccVel.ID_TECNOLOGIA.isin([3,10,31,115]),'Otras',IntFijoAccVel['CodTec'])\n",
    "IntFijoAccVel['VELOCIDAD_EFECTIVA_DOWNSTREAM'] = IntFijoAccVel['VELOCIDAD_EFECTIVA_DOWNSTREAM'].apply(lambda x: x/1000 if x>= 2000 else x)\n",
    "IntFijoAccVel['VELOCIDAD_EFECTIVA_DOWNSTREAM']=IntFijoAccVel[['VELOCIDAD_EFECTIVA_DOWNSTREAM','CodTec']].apply(lambda x: x['VELOCIDAD_EFECTIVA_DOWNSTREAM']/1000 if x['CodTec']!='Fibra Óptica' and x['VELOCIDAD_EFECTIVA_DOWNSTREAM']>400 else x['VELOCIDAD_EFECTIVA_DOWNSTREAM'], axis=1)\n",
    "IntFijoAccVel['modalidad']=None\n",
    "IntFijoAccVel['modalidad']=np.where(IntFijoAccVel.ID_SEGMENTO.isin([101,102,103,104,105,106]),'Residenciales',IntFijoAccVel['modalidad'])\n",
    "IntFijoAccVel['modalidad']=np.where(IntFijoAccVel.ID_SEGMENTO.isin([107,108]),'Corporativo',IntFijoAccVel['modalidad'])\n",
    "IntFijoAccVel.columns=IntFijoAccVel.columns.str.lower()\n",
    "IntFijoAccVel=IntFijoAccVel[(IntFijoAccVel['anno']>2017)&(IntFijoAccVel['anno']<2022)]"
   ]
  },
  {
   "cell_type": "code",
   "execution_count": null,
   "id": "a56dda82",
   "metadata": {
    "ExecuteTime": {
     "end_time": "2022-11-21T03:15:48.960430Z",
     "start_time": "2022-11-21T03:15:47.618314Z"
    }
   },
   "outputs": [],
   "source": [
    "IntFijoAccVelTec=IntFijoAccVel.groupby(['periodo','codtec']).apply(lambda x:np.average(x[\"velocidad_efectiva_downstream\"], weights=x[\"accesos\"])).reset_index()\n",
    "IntFijoAccVelMod=IntFijoAccVel.groupby(['periodo','modalidad']).apply(lambda x:np.average(x[\"velocidad_efectiva_downstream\"], weights=x[\"accesos\"])).reset_index()\n",
    "IntFijoAccVelTec=IntFijoAccVelTec.rename(columns={0:'Velocidad descarga promedio'})\n",
    "IntFijoAccVelMod=IntFijoAccVelMod.rename(columns={0:'Velocidad descarga promedio'})\n",
    "#IntFijoAccVelTec.to_csv('Vel_IntFijoTec.csv',sep=';')\n",
    "#IntFijoAccVelMod.to_csv('Vel_IntFijoMod.csv',sep=';')"
   ]
  },
  {
   "cell_type": "code",
   "execution_count": null,
   "id": "49a99b5f",
   "metadata": {
    "ExecuteTime": {
     "end_time": "2022-08-10T21:36:39.213624Z",
     "start_time": "2022-08-10T21:36:39.106530Z"
    },
    "scrolled": false
   },
   "outputs": [],
   "source": [
    "fig = px.line(IntFijoAccVelTec, x=\"periodo\", y=\"Velocidad descarga promedio\", color='codtec')\n",
    "fig.show()\n",
    "#IntFijoAccVelAgg.groupby(['PERIODO'])['VELOCIDAD_EFECTIVA_DOWNSTREAM'].mean().reset_index()"
   ]
  },
  {
   "cell_type": "code",
   "execution_count": null,
   "id": "25c9d0b7",
   "metadata": {
    "ExecuteTime": {
     "end_time": "2022-08-10T21:36:44.905580Z",
     "start_time": "2022-08-10T21:36:44.815615Z"
    }
   },
   "outputs": [],
   "source": [
    "fig = px.line(IntFijoAccVelMod, x=\"periodo\", y=\"Velocidad descarga promedio\", color='modalidad')\n",
    "fig.show()"
   ]
  },
  {
   "cell_type": "markdown",
   "id": "00af604f",
   "metadata": {},
   "source": [
    "# Telefonía Local"
   ]
  },
  {
   "cell_type": "markdown",
   "id": "581c6d84",
   "metadata": {},
   "source": [
    "## Líneas"
   ]
  },
  {
   "cell_type": "code",
   "execution_count": null,
   "id": "cc1edf54",
   "metadata": {
    "ExecuteTime": {
     "end_time": "2023-02-14T20:31:35.507616Z",
     "start_time": "2023-02-14T20:31:33.379809Z"
    }
   },
   "outputs": [],
   "source": [
    "def ReadAPILinTL():\n",
    "    resourceid_tl_lineas = '967fbbd1-1c10-42b8-a6af-88b2376d43e7'\n",
    "    consulta_anno='2018,2019,2020,2021'\n",
    "    consulta_tl_lineas = 'https://www.postdata.gov.co/api/action/datastore/search.json?resource_id=' + resourceid_tl_lineas + ''\\\n",
    "                        '&filters[anno]=' + consulta_anno + ''\\\n",
    "                        '&fields[]=anno&fields[]=trimestre&fields[]=id_empresa&fields[]=empresa&fields[]=empresa&fields[]=id_segmento'\\\n",
    "                        '&group_by=anno,trimestre,id_empresa,empresa,id_segmento'\\\n",
    "                        '&sum=lineas' \n",
    "    response_tl_lineas = urlopen(consulta_tl_lineas + '&limit=10000000') # Se obtiene solo un registro para obtener el total de registros en la respuesta\n",
    "    json_tl_lineas = json.loads(response_tl_lineas.read())\n",
    "    TL_LINEAS = pd.DataFrame(json_tl_lineas['result']['records'])\n",
    "    TL_LINEAS.sum_lineas = TL_LINEAS.sum_lineas.astype('int64')\n",
    "    TL_LINEAS['periodo']=TL_LINEAS['anno']+'-T'+TL_LINEAS['trimestre']\n",
    "    TL_LINEAS = TL_LINEAS.rename(columns={'sum_lineas':'lineas'})\n",
    "    return TL_LINEAS  \n",
    "LineasTelefoníaLocal=ReadAPILinTL()"
   ]
  },
  {
   "cell_type": "code",
   "execution_count": null,
   "id": "8cbafe5f",
   "metadata": {
    "ExecuteTime": {
     "end_time": "2023-02-14T20:31:40.339191Z",
     "start_time": "2023-02-14T20:31:40.259178Z"
    }
   },
   "outputs": [],
   "source": [
    "LineasTelefoníaLocal['Segmento']=None\n",
    "LineasTelefoníaLocal['Segmento']=np.where(LineasTelefoníaLocal.id_segmento.isin(['101','102','103','104','105','106','108']),'Residenciales',LineasTelefoníaLocal['Segmento'])\n",
    "LineasTelefoníaLocal['Segmento']=np.where(LineasTelefoníaLocal.id_segmento.isin(['107','109']),'Corporativo',LineasTelefoníaLocal['Segmento'])\n",
    "LineasTelefoníaLocal"
   ]
  },
  {
   "cell_type": "code",
   "execution_count": null,
   "id": "efb94174",
   "metadata": {
    "ExecuteTime": {
     "end_time": "2022-08-25T16:16:13.866793Z",
     "start_time": "2022-08-25T16:16:13.843790Z"
    }
   },
   "outputs": [],
   "source": [
    "LineasTelefoníaLocal.groupby(['periodo'])['lineas'].sum().reset_index()"
   ]
  },
  {
   "cell_type": "code",
   "execution_count": null,
   "id": "937dab0d",
   "metadata": {
    "ExecuteTime": {
     "end_time": "2022-08-25T16:15:59.858681Z",
     "start_time": "2022-08-25T16:15:58.303700Z"
    }
   },
   "outputs": [],
   "source": [
    "LineasTelefoníaLocalAgg=LineasTelefoníaLocal.groupby(['periodo','Segmento'])['lineas'].sum().reset_index()\n",
    "fig = px.line(LineasTelefoníaLocalAgg, x=\"periodo\", y=\"lineas\", color='Segmento')\n",
    "fig.show()"
   ]
  },
  {
   "cell_type": "markdown",
   "id": "2713511d",
   "metadata": {},
   "source": [
    "## Tráfico"
   ]
  },
  {
   "cell_type": "code",
   "execution_count": null,
   "id": "07f647eb",
   "metadata": {
    "ExecuteTime": {
     "end_time": "2023-02-14T20:31:44.474796Z",
     "start_time": "2023-02-14T20:31:43.666868Z"
    }
   },
   "outputs": [],
   "source": [
    "def ReadAPITrafTelefoniaLocal2():\n",
    "    resourceid_tl_traf = 'bb2b4afe-f098-4c5d-819a-cba76337c3a9'\n",
    "    consulta_anno='2018,2019,2020,2021'\n",
    "    consulta_tl_traf='https://postdata.gov.co/api/action/datastore/search.json?resource_id=' + resourceid_tl_traf + ''\\\n",
    "                        '&filters[anno]=' + consulta_anno + ''\\\n",
    "                        '&fields[]=anno&fields[]=trimestre&fields[]=id_empresa&fields[]=empresa&fields[]=empresa&fields[]=id_segmento'\\\n",
    "                        '&group_by=anno,trimestre,id_empresa,empresa,id_segmento'\\\n",
    "                        '&sum=trafico' \n",
    "    response_tl_traf = urlopen(consulta_tl_traf + '&limit=10000000') # Se obtiene solo un registro para obtener el total de registros en la respuesta\n",
    "    json_tl_traf = json.loads(response_tl_traf.read())\n",
    "    TL_TRAF = pd.DataFrame(json_tl_traf['result']['records'])\n",
    "    TL_TRAF.sum_trafico = TL_TRAF.sum_trafico.astype('int64')\n",
    "    TL_TRAF['modalidad']='Local'\n",
    "    TL_TRAF['periodo']=TL_TRAF['anno']+'-T'+TL_TRAF['trimestre']\n",
    "    TL_TRAF = TL_TRAF.rename(columns={'sum_trafico':'trafico'})\n",
    "    return TL_TRAF\n",
    "TrafTelLocal=ReadAPITrafTelefoniaLocal2()"
   ]
  },
  {
   "cell_type": "code",
   "execution_count": null,
   "id": "fa4f2162",
   "metadata": {
    "ExecuteTime": {
     "end_time": "2022-08-03T19:20:00.167600Z",
     "start_time": "2022-08-03T19:20:00.040672Z"
    }
   },
   "outputs": [],
   "source": [
    "TrafTelLocal['Segmento']=None\n",
    "TrafTelLocal['Segmento']=np.where(TrafTelLocal.id_segmento.isin(['101','102','103','104','105','106','108']),'Residenciales',TrafTelLocal['Segmento'])\n",
    "TrafTelLocal['Segmento']=np.where(TrafTelLocal.id_segmento.isin(['107','109']),'Corporativo',TrafTelLocal['Segmento'])\n",
    "TrafTelLocalAgg=TrafTelLocal.groupby(['periodo','Segmento'])['trafico'].sum().reset_index()\n",
    "fig = px.line(TrafTelLocalAgg, x=\"periodo\", y=\"trafico\", color='Segmento')\n",
    "fig.show()"
   ]
  },
  {
   "cell_type": "code",
   "execution_count": null,
   "id": "1462f6f6",
   "metadata": {
    "ExecuteTime": {
     "end_time": "2022-08-25T16:47:33.674707Z",
     "start_time": "2022-08-25T16:47:29.263202Z"
    }
   },
   "outputs": [],
   "source": [
    "def ReadAPITrafTelefoniaLocal():\n",
    "    resourceid_tl_traf = 'bb2b4afe-f098-4c5d-819a-cba76337c3a9'\n",
    "    consulta_anno='2018,2019,2020,2021'\n",
    "    consulta_tl_traf='https://postdata.gov.co/api/action/datastore/search.json?resource_id=' + resourceid_tl_traf + ''\\\n",
    "                        '&filters[anno]=' + consulta_anno + ''\\\n",
    "                        '&fields[]=anno&fields[]=trimestre&fields[]=id_empresa&fields[]=empresa&fields[]=empresa'\\\n",
    "                        '&group_by=anno,trimestre,id_empresa,empresa'\\\n",
    "                        '&sum=trafico' \n",
    "    response_tl_traf = urlopen(consulta_tl_traf + '&limit=10000000') # Se obtiene solo un registro para obtener el total de registros en la respuesta\n",
    "    json_tl_traf = json.loads(response_tl_traf.read())\n",
    "    TL_TRAF = pd.DataFrame(json_tl_traf['result']['records'])\n",
    "    TL_TRAF.sum_trafico = TL_TRAF.sum_trafico.astype('int64')\n",
    "    TL_TRAF['modalidad']='Local'\n",
    "    TL_TRAF['periodo']=TL_TRAF['anno']+'-T'+TL_TRAF['trimestre']\n",
    "    TL_TRAF = TL_TRAF.rename(columns={'sum_trafico':'trafico'})\n",
    "    return TL_TRAF\n",
    "def ReadAPITrafTelefoniaLDN():\n",
    "    resourceid_tl_traf = '786ced6d-5e4a-41d2-90f8-5f2a56fc50e1'\n",
    "    consulta_anno='2018,2019,2020,2021'\n",
    "    consulta_tl_traf='https://postdata.gov.co/api/action/datastore/search.json?resource_id=' + resourceid_tl_traf + ''\\\n",
    "                        '&filters[anno]=' + consulta_anno + ''\\\n",
    "                        '&fields[]=anno&fields[]=trimestre&fields[]=id_empresa&fields[]=empresa&fields[]=empresa'\\\n",
    "                        '&group_by=anno,trimestre,id_empresa,empresa'\\\n",
    "                        '&sum=trafico' \n",
    "    response_tl_traf = urlopen(consulta_tl_traf + '&limit=10000000') # Se obtiene solo un registro para obtener el total de registros en la respuesta\n",
    "    json_tl_traf = json.loads(response_tl_traf.read())\n",
    "    TL_TRAF = pd.DataFrame(json_tl_traf['result']['records'])\n",
    "    TL_TRAF.sum_trafico = TL_TRAF.sum_trafico.astype('int64')\n",
    "    TL_TRAF['modalidad']='Larga distancia nacional'\n",
    "    TL_TRAF['periodo']=TL_TRAF['anno']+'-T'+TL_TRAF['trimestre']\n",
    "    TL_TRAF = TL_TRAF.rename(columns={'sum_trafico':'trafico'})\n",
    "    return TL_TRAF\n",
    "def ReadAPITrafTelefoniaLDI():\n",
    "    resourceid_tl_traf = 'ae33862d-954e-493c-8a4a-37b3443ec1c6'\n",
    "    consulta_anno='2018,2019,2020,2021'\n",
    "    consulta_tl_traf='https://postdata.gov.co/api/action/datastore/search.json?resource_id=' + resourceid_tl_traf + ''\\\n",
    "                        '&filters[anno]=' + consulta_anno + ''\\\n",
    "                        '&fields[]=anno&fields[]=trimestre&fields[]=id_empresa&fields[]=empresa&fields[]=empresa'\\\n",
    "                        '&group_by=anno,trimestre,id_empresa,empresa'\\\n",
    "                        '&sum=trafico' \n",
    "    response_tl_traf = urlopen(consulta_tl_traf + '&limit=10000000') # Se obtiene solo un registro para obtener el total de registros en la respuesta\n",
    "    json_tl_traf = json.loads(response_tl_traf.read())\n",
    "    TL_TRAF = pd.DataFrame(json_tl_traf['result']['records'])\n",
    "    TL_TRAF.sum_trafico = TL_TRAF.sum_trafico.astype('int64')\n",
    "    TL_TRAF['modalidad']='Larga distancia internacional'\n",
    "    TL_TRAF['periodo']=TL_TRAF['anno']+'-T'+TL_TRAF['trimestre']\n",
    "    TL_TRAF = TL_TRAF.rename(columns={'sum_trafico':'trafico'})\n",
    "    return TL_TRAF\n",
    "TraficoTelefoniaLocal=ReadAPITrafTelefoniaLocal()\n",
    "TraficoTelefoniaLDN=ReadAPITrafTelefoniaLDN()\n",
    "TraficoTelefoniaLDI=ReadAPITrafTelefoniaLDI()\n",
    "TraficoTelefoniaFija=pd.concat([TraficoTelefoniaLocal,TraficoTelefoniaLDN,TraficoTelefoniaLDI]).sort_values(by=['periodo'])"
   ]
  },
  {
   "cell_type": "code",
   "execution_count": null,
   "id": "0ca749b6",
   "metadata": {
    "ExecuteTime": {
     "end_time": "2022-08-25T16:50:16.183404Z",
     "start_time": "2022-08-25T16:50:16.158401Z"
    }
   },
   "outputs": [],
   "source": [
    "TraficoTelefoniaFijaAgg"
   ]
  },
  {
   "cell_type": "code",
   "execution_count": null,
   "id": "0a237a63",
   "metadata": {
    "ExecuteTime": {
     "end_time": "2022-08-25T16:47:43.572516Z",
     "start_time": "2022-08-25T16:47:43.458583Z"
    }
   },
   "outputs": [],
   "source": [
    "TraficoTelefoniaFijaAgg=TraficoTelefoniaFija.groupby(['anno','modalidad'])['trafico'].sum().reset_index()\n",
    "fig = px.line(TraficoTelefoniaFijaAgg, x=\"anno\", y=\"trafico\", color='modalidad')\n",
    "fig.show()"
   ]
  },
  {
   "cell_type": "code",
   "execution_count": null,
   "id": "367bc901",
   "metadata": {
    "ExecuteTime": {
     "end_time": "2022-08-03T19:21:37.742494Z",
     "start_time": "2022-08-03T19:21:37.719509Z"
    }
   },
   "outputs": [],
   "source": [
    "def ReadAPITrafTelefoniaLDI2():\n",
    "    resourceid_tl_traf = 'ae33862d-954e-493c-8a4a-37b3443ec1c6'\n",
    "    consulta_anno='2018,2019,2020,2021'\n",
    "    consulta_tl_traf='https://postdata.gov.co/api/action/datastore/search.json?resource_id=' + resourceid_tl_traf + ''\\\n",
    "                        '&filters[anno]=' + consulta_anno + ''\\\n",
    "                        '&fields[]=anno&fields[]=trimestre&fields[]=id_empresa&fields[]=empresa&fields[]=empresa&fields[]=id_servicio'\\\n",
    "                        '&group_by=anno,trimestre,id_empresa,empresa,id_servicio'\\\n",
    "                        '&sum=trafico' \n",
    "    response_tl_traf = urlopen(consulta_tl_traf + '&limit=10000000') # Se obtiene solo un registro para obtener el total de registros en la respuesta\n",
    "    json_tl_traf = json.loads(response_tl_traf.read())\n",
    "    TL_TRAF = pd.DataFrame(json_tl_traf['result']['records'])\n",
    "    TL_TRAF.sum_trafico = TL_TRAF.sum_trafico.astype('int64')\n",
    "    TL_TRAF['modalidad']='Larga distancia internacional'\n",
    "    TL_TRAF['periodo']=TL_TRAF['anno']+'-T'+TL_TRAF['trimestre']\n",
    "    TL_TRAF = TL_TRAF.rename(columns={'sum_trafico':'trafico'})\n",
    "    return TL_TRAF"
   ]
  },
  {
   "cell_type": "code",
   "execution_count": null,
   "id": "1932edb6",
   "metadata": {
    "ExecuteTime": {
     "end_time": "2022-08-03T19:21:39.317005Z",
     "start_time": "2022-08-03T19:21:38.342602Z"
    }
   },
   "outputs": [],
   "source": [
    "TLDI2=ReadAPITrafTelefoniaLDI2()"
   ]
  },
  {
   "cell_type": "code",
   "execution_count": null,
   "id": "22fe6483",
   "metadata": {
    "ExecuteTime": {
     "end_time": "2022-08-03T19:21:39.348970Z",
     "start_time": "2022-08-03T19:21:39.321983Z"
    }
   },
   "outputs": [],
   "source": [
    "TLDI2Agg=TLDI2.groupby(['periodo','id_servicio'])['trafico'].sum().reset_index()"
   ]
  },
  {
   "cell_type": "code",
   "execution_count": null,
   "id": "00d3ffa2",
   "metadata": {
    "ExecuteTime": {
     "end_time": "2022-08-03T19:21:39.689878Z",
     "start_time": "2022-08-03T19:21:39.585940Z"
    },
    "scrolled": false
   },
   "outputs": [],
   "source": [
    "fig = px.line(TLDI2Agg, x=\"periodo\", y=\"trafico\", color='id_servicio')\n",
    "fig.show()"
   ]
  },
  {
   "cell_type": "markdown",
   "id": "1218d80a",
   "metadata": {},
   "source": [
    "## Ingresos"
   ]
  },
  {
   "cell_type": "code",
   "execution_count": null,
   "id": "cc47b3c6",
   "metadata": {
    "ExecuteTime": {
     "end_time": "2022-08-25T21:35:37.718923Z",
     "start_time": "2022-08-25T21:35:35.649674Z"
    }
   },
   "outputs": [],
   "source": [
    "def ReadAPIIngTL():\n",
    "    resourceid_tl_ing = 'f923f3bc-0628-44cc-beed-ca98b8bc3679'\n",
    "    consulta_anno='2018,2019,2020,2021'\n",
    "    consulta_tl_ing = 'https://www.postdata.gov.co/api/action/datastore/search.json?resource_id=' + resourceid_tl_ing + ''\\\n",
    "                        '&filters[anno]=' + consulta_anno + ''\\\n",
    "                        '&fields[]=anno&fields[]=trimestre&fields[]=id_empresa&fields[]=empresa'\\\n",
    "                        '&group_by=anno,trimestre,id_empresa,empresa'\\\n",
    "                        '&sum=ingresos' \n",
    "    response_tl_ing = urlopen(consulta_tl_ing + '&limit=10000000') # Se obtiene solo un registro para obtener el total de registros en la respuesta\n",
    "    json_tl_ing = json.loads(response_tl_ing.read())\n",
    "    TL_ING = pd.DataFrame(json_tl_ing['result']['records'])\n",
    "    TL_ING.sum_ingresos = TL_ING.sum_ingresos.astype('int64')\n",
    "    TL_ING = TL_ING.rename(columns={'sum_ingresos':'ingresos'})\n",
    "    TL_ING['periodo']=TL_ING['anno']+'-T'+TL_ING['trimestre']\n",
    "    TL_ING['modalidad']='Local'\n",
    "    return TL_ING  \n",
    "def ReadAPIIngTLDN():\n",
    "    resourceid_tl_ing = '535bae3e-87d2-46df-b9f4-b73cdbc9fceb'\n",
    "    consulta_anno='2018,2019,2020,2021'\n",
    "    consulta_tl_ing = 'https://www.postdata.gov.co/api/action/datastore/search.json?resource_id=' + resourceid_tl_ing + ''\\\n",
    "                        '&filters[anno]=' + consulta_anno + ''\\\n",
    "                        '&fields[]=anno&fields[]=trimestre&fields[]=id_empresa&fields[]=empresa'\\\n",
    "                        '&group_by=anno,trimestre,id_empresa,empresa'\\\n",
    "                        '&sum=ingresos' \n",
    "    response_tl_ing = urlopen(consulta_tl_ing + '&limit=10000000') # Se obtiene solo un registro para obtener el total de registros en la respuesta\n",
    "    json_tl_ing = json.loads(response_tl_ing.read())\n",
    "    TL_ING = pd.DataFrame(json_tl_ing['result']['records'])\n",
    "    TL_ING.sum_ingresos = TL_ING.sum_ingresos.astype('int64')\n",
    "    TL_ING = TL_ING.rename(columns={'sum_ingresos':'ingresos'})\n",
    "    TL_ING['periodo']=TL_ING['anno']+'-T'+TL_ING['trimestre']\n",
    "    TL_ING['modalidad']='Larga distancia nacional'\n",
    "    return TL_ING \n",
    "def ReadAPIIngTLDI():\n",
    "    resourceid_tl_ing = '878678cb-89c8-4b55-a60d-316870c3e896'\n",
    "    consulta_anno='2018,2019,2020,2021'\n",
    "    consulta_tl_ing = 'https://www.postdata.gov.co/api/action/datastore/search.json?resource_id=' + resourceid_tl_ing + ''\\\n",
    "                        '&filters[anno]=' + consulta_anno + ''\\\n",
    "                        '&fields[]=anno&fields[]=trimestre&fields[]=id_empresa&fields[]=empresa'\\\n",
    "                        '&group_by=anno,trimestre,id_empresa,empresa'\\\n",
    "                        '&sum=ingresos' \n",
    "    response_tl_ing = urlopen(consulta_tl_ing + '&limit=10000000') # Se obtiene solo un registro para obtener el total de registros en la respuesta\n",
    "    json_tl_ing = json.loads(response_tl_ing.read())\n",
    "    TL_ING = pd.DataFrame(json_tl_ing['result']['records'])\n",
    "    TL_ING.sum_ingresos = TL_ING.sum_ingresos.astype('int64')\n",
    "    TL_ING = TL_ING.rename(columns={'sum_ingresos':'ingresos'})\n",
    "    TL_ING['periodo']=TL_ING['anno']+'-T'+TL_ING['trimestre']\n",
    "    TL_ING['modalidad']='Larga distancia internacional'\n",
    "    return TL_ING \n",
    "IngresosTelefoniaLocal=ReadAPIIngTL()\n",
    "IngresosTelefoniaLDN=ReadAPIIngTLDN()\n",
    "IngresosTelefoniaLDI=ReadAPIIngTLDI()\n",
    "IngresosTelefoniaFija=pd.concat([IngresosTelefoniaLocal,IngresosTelefoniaLDN,IngresosTelefoniaLDI])"
   ]
  },
  {
   "cell_type": "code",
   "execution_count": null,
   "id": "a3b1c4d5",
   "metadata": {
    "ExecuteTime": {
     "end_time": "2022-08-25T21:36:45.290753Z",
     "start_time": "2022-08-25T21:36:45.271766Z"
    }
   },
   "outputs": [],
   "source": [
    "IngresosTelefoniaFija.groupby(['periodo'])['ingresos'].sum().reset_index().to_csv('bla1.csv',index=False)"
   ]
  },
  {
   "cell_type": "code",
   "execution_count": null,
   "id": "85a21564",
   "metadata": {
    "ExecuteTime": {
     "end_time": "2022-08-03T19:29:14.401336Z",
     "start_time": "2022-08-03T19:29:14.379349Z"
    }
   },
   "outputs": [],
   "source": [
    "def ReadAPIIngTLocal():\n",
    "    resourceid_tl_ing = 'f923f3bc-0628-44cc-beed-ca98b8bc3679'\n",
    "    consulta_anno='2018,2019,2020,2021'\n",
    "    consulta_tl_ing = 'https://www.postdata.gov.co/api/action/datastore/search.json?resource_id=' + resourceid_tl_ing + ''\\\n",
    "                        '&filters[anno]=' + consulta_anno + ''\\\n",
    "                        '&fields[]=anno&fields[]=trimestre&fields[]=id_empresa&fields[]=empresa&fields[]=id_segmento'\\\n",
    "                        '&group_by=anno,trimestre,id_empresa,empresa,id_segmento'\\\n",
    "                        '&sum=ingresos' \n",
    "    response_tl_ing = urlopen(consulta_tl_ing + '&limit=10000000') # Se obtiene solo un registro para obtener el total de registros en la respuesta\n",
    "    json_tl_ing = json.loads(response_tl_ing.read())\n",
    "    TL_ING = pd.DataFrame(json_tl_ing['result']['records'])\n",
    "    TL_ING.sum_ingresos = TL_ING.sum_ingresos.astype('int64')\n",
    "    TL_ING = TL_ING.rename(columns={'sum_ingresos':'ingresos'})\n",
    "    TL_ING['periodo']=TL_ING['anno']+'-T'+TL_ING['trimestre']\n",
    "    TL_ING['modalidad']='Local'\n",
    "    return TL_ING  \n"
   ]
  },
  {
   "cell_type": "code",
   "execution_count": null,
   "id": "cda033df",
   "metadata": {
    "ExecuteTime": {
     "end_time": "2022-08-12T20:46:00.684621Z",
     "start_time": "2022-08-12T20:46:00.540654Z"
    },
    "scrolled": false
   },
   "outputs": [],
   "source": [
    "IngresosTelefoniaFijaAgg=IngresosTelefoniaFija.groupby(['periodo','modalidad'])['ingresos'].sum().reset_index()\n",
    "fig = px.line(IngresosTelefoniaFijaAgg, x=\"periodo\", y=\"ingresos\", color='modalidad')\n",
    "fig.show()"
   ]
  },
  {
   "cell_type": "code",
   "execution_count": null,
   "id": "40767a1c",
   "metadata": {
    "ExecuteTime": {
     "end_time": "2022-07-31T18:32:01.269387Z",
     "start_time": "2022-07-31T18:32:01.142951Z"
    }
   },
   "outputs": [],
   "source": [
    "PruebIngTL=pd.read_csv('TF_INGRESOS.csv',delimiter=';')\n",
    "PruebIngTL['PERIODO']=PruebIngTL['ANNO'].astype('str')+'-T'+PruebIngTL['TRIMESTRE'].astype('str')\n",
    "PruebIngTL['INGRESOS']=PruebIngTL['INGRESOS'].str.replace(',','.').astype('float')\n",
    "PruebIngTLAgg=PruebIngTL.groupby(['PERIODO'])['INGRESOS'].sum().reset_index()\n",
    "PruebIngTLAgg=PruebIngTLAgg[PruebIngTLAgg['PERIODO']>'2017-T4']\n",
    "fig = px.line(PruebIngTLAgg, x=\"PERIODO\", y=\"INGRESOS\")\n",
    "fig.show()"
   ]
  },
  {
   "cell_type": "markdown",
   "id": "fe727690",
   "metadata": {},
   "source": [
    "## Ingresos por líneas"
   ]
  },
  {
   "cell_type": "code",
   "execution_count": null,
   "id": "5f9bdb9d",
   "metadata": {
    "ExecuteTime": {
     "end_time": "2022-08-22T15:43:54.792775Z",
     "start_time": "2022-08-22T15:43:54.768770Z"
    }
   },
   "outputs": [],
   "source": [
    "IngresosTelefoniaFijaEmp=IngresosTelefoniaFija[(IngresosTelefoniaFija['anno']>'2019')].groupby(['anno','periodo','modalidad','empresa','id_empresa'])['ingresos'].sum().reset_index()\n",
    "IngresosTelefoniaFijaLocEmp=IngresosTelefoniaFijaEmp[IngresosTelefoniaFijaEmp['modalidad']=='Local'].drop(columns={'modalidad'},axis=1)\n",
    "IngresosTelefoniaFijaLocEmp"
   ]
  },
  {
   "cell_type": "code",
   "execution_count": null,
   "id": "df8fda42",
   "metadata": {
    "ExecuteTime": {
     "end_time": "2022-08-22T15:41:20.448195Z",
     "start_time": "2022-08-22T15:41:20.411236Z"
    }
   },
   "outputs": [],
   "source": [
    "LineasTelefoníaLocalEmp=LineasTelefoníaLocal[(LineasTelefoníaLocal['trimestre']=='4')&(LineasTelefoníaLocal['anno']>'2019')].groupby(['anno','periodo','empresa','id_empresa'])['lineas'].sum().reset_index()\n",
    "LineasTelefoníaLocalEmp"
   ]
  },
  {
   "cell_type": "code",
   "execution_count": null,
   "id": "7b874945",
   "metadata": {
    "ExecuteTime": {
     "end_time": "2022-08-22T15:45:05.806149Z",
     "start_time": "2022-08-22T15:45:05.782162Z"
    }
   },
   "outputs": [],
   "source": [
    "IngresosPorLineaTelefoniaLocEmp=LineasTelefoníaLocalEmp.merge(IngresosTelefoniaFijaLocEmp, left_on=['anno','periodo','empresa','id_empresa'],right_on=['anno','periodo','empresa','id_empresa'])\n",
    "IngresosPorLineaTelefoniaLocEmp"
   ]
  },
  {
   "cell_type": "markdown",
   "id": "ecdae05a",
   "metadata": {},
   "source": [
    "# TV por suscripción"
   ]
  },
  {
   "cell_type": "markdown",
   "id": "04842921",
   "metadata": {},
   "source": [
    "## Suscriptores"
   ]
  },
  {
   "cell_type": "code",
   "execution_count": null,
   "id": "2d6aa1e1",
   "metadata": {
    "ExecuteTime": {
     "end_time": "2023-04-17T17:04:38.516893Z",
     "start_time": "2023-04-17T17:04:35.703492Z"
    }
   },
   "outputs": [],
   "source": [
    "def ReadApiTVSUSSus():\n",
    "    resourceid = '0c4b69a7-734d-432c-9d9b-9dc600d50391'\n",
    "    consulta_anno='2018,2019,2020,2021'\n",
    "    consulta='https://www.postdata.gov.co/api/action/datastore/search.json?resource_id=' + resourceid + ''\\\n",
    "             '&filters[mes_del_trimestre]=3&filters[anno]=' + consulta_anno + ''\\\n",
    "             '&fields[]=anno&fields[]=trimestre&fields[]=id_empresa&fields[]=empresa&fields[]=id_tecnologia&fields[]=tecnologia'\\\n",
    "             '&group_by=anno,trimestre,id_empresa,empresa,id_tecnologia,tecnologia'\\\n",
    "             '&sum=suscriptores' \n",
    "    response_base = urlopen(consulta + '&limit=10000000') \n",
    "    json_base = json.loads(response_base.read())\n",
    "    TV_SUS = pd.DataFrame(json_base['result']['records'])\n",
    "    TV_SUS.sum_suscriptores = TV_SUS.sum_suscriptores.astype('int64')\n",
    "    TV_SUS = TV_SUS.rename(columns={'sum_suscriptores':'suscriptores'})\n",
    "    TV_SUS['periodo']=TV_SUS['anno']+'-T'+TV_SUS['trimestre']\n",
    "    return TV_SUS \n",
    "SuscriptoresTVSus=ReadApiTVSUSSus()    "
   ]
  },
  {
   "cell_type": "code",
   "execution_count": null,
   "id": "3a856fea",
   "metadata": {
    "ExecuteTime": {
     "end_time": "2023-01-25T22:30:46.293906Z",
     "start_time": "2023-01-25T22:30:43.202847Z"
    }
   },
   "outputs": [],
   "source": [
    "SuscriptoresTVSus=ReadApiTVSUSSus()"
   ]
  },
  {
   "cell_type": "code",
   "execution_count": null,
   "id": "17899206",
   "metadata": {
    "ExecuteTime": {
     "end_time": "2022-08-25T16:20:23.903037Z",
     "start_time": "2022-08-25T16:20:23.874057Z"
    }
   },
   "outputs": [],
   "source": [
    "SuscriptoresTVSus.groupby(['anno','trimestre'])['suscriptores'].sum().reset_index()"
   ]
  },
  {
   "cell_type": "code",
   "execution_count": null,
   "id": "1c939459",
   "metadata": {
    "ExecuteTime": {
     "end_time": "2022-08-08T15:20:18.810316Z",
     "start_time": "2022-08-08T15:20:18.772341Z"
    }
   },
   "outputs": [],
   "source": [
    "SuscriptoresTVSusAgg=SuscriptoresTVSus.groupby(['anno','trimestre','id_empresa','desc_empresa'])['suscriptores'].sum().reset_index()\n",
    "SuscriptoresTVSusAgg=SuscriptoresTVSusAgg[(SuscriptoresTVSusAgg['anno']=='2021')&(SuscriptoresTVSusAgg['trimestre']=='4')].sort_values(by='suscriptores',ascending=False)\n",
    "SuscriptoresTVSusAgg['part']=100*SuscriptoresTVSusAgg['suscriptores']/SuscriptoresTVSusAgg['suscriptores'].sum()\n",
    "SuscriptoresTVSusAgg"
   ]
  },
  {
   "cell_type": "markdown",
   "id": "a5f6a078",
   "metadata": {},
   "source": [
    "## Ingresos"
   ]
  },
  {
   "cell_type": "code",
   "execution_count": null,
   "id": "87b20a38",
   "metadata": {
    "ExecuteTime": {
     "start_time": "2023-02-15T19:36:33.874Z"
    }
   },
   "outputs": [],
   "source": [
    "def ReadApiTVSUSIng():\n",
    "    resourceid = '1033b0f2-8107-4e04-ae33-8b12882b762d'\n",
    "    consulta_anno='2018,2019,2020,2021'\n",
    "    consulta='https://www.postdata.gov.co/api/action/datastore/search.json?resource_id=' + resourceid + ''\\\n",
    "             '&filters[anno]=' + consulta_anno + ''\\\n",
    "             '&fields[]=anno&fields[]=trimestre&fields[]=id_empresa&fields[]=empresa&fields[]=id_concepto&fields[]=concepto'\\\n",
    "             '&group_by=anno,trimestre,id_empresa,empresa'\\\n",
    "             '&sum[]=ingresos' \n",
    "    response_base = urlopen(consulta + '&limit=10000000') \n",
    "    json_base = json.loads(response_base.read())\n",
    "    TVSUS_ING = pd.DataFrame(json_base['result']['records'])\n",
    "    TVSUS_ING.sum_ingresos = TVSUS_ING.sum_ingresos.astype('float').astype('int64')\n",
    "    TVSUS_ING = TVSUS_ING.rename(columns={'sum_ingresos':'ingresos'})\n",
    "    TVSUS_ING['periodo']=TVSUS_ING['anno']+'-T'+TVSUS_ING['trimestre']\n",
    "    return TVSUS_ING\n",
    "IngresosTVSus=ReadApiTVSUSIng()"
   ]
  },
  {
   "cell_type": "code",
   "execution_count": null,
   "id": "d61a76a9",
   "metadata": {
    "ExecuteTime": {
     "end_time": "2023-01-26T14:40:34.445451Z",
     "start_time": "2023-01-26T14:40:33.488876Z"
    }
   },
   "outputs": [],
   "source": [
    "def ReadApiTVSUSIng():\n",
    "    resourceid = '1033b0f2-8107-4e04-ae33-8b12882b762d'\n",
    "    consulta_anno='2018,2019,2020,2021'\n",
    "    consulta='https://www.postdata.gov.co/api/action/datastore/search.json?resource_id=' + resourceid + ''\\\n",
    "             '&filters[anno]=' + consulta_anno + ''\\\n",
    "             '&fields[]=anno&fields[]=trimestre&fields[]=id_empresa&fields[]=empresa&fields[]=id_concepto&fields[]=concepto'\\\n",
    "             '&group_by=anno,trimestre,id_empresa,empresa'\\\n",
    "             '&sum[]=ingresos_brutos_operacionales&sum[]=ingr_brutos_pauta_publicitaria' \n",
    "    response_base = urlopen(consulta + '&limit=10000000') \n",
    "    json_base = json.loads(response_base.read())\n",
    "    TVSUS_ING = pd.DataFrame(json_base['result']['records'])\n",
    "    TVSUS_ING.sum_ingresos_brutos_operacionales = TVSUS_ING.sum_ingresos_brutos_operacionales.astype('float').astype('int64')\n",
    "    TVSUS_ING.sum_ingr_brutos_pauta_publicitaria = TVSUS_ING.sum_ingr_brutos_pauta_publicitaria.astype('float').astype('int64')\n",
    "    TVSUS_ING = TVSUS_ING.rename(columns={'sum_ingresos_brutos_operacionales':'ingresos_brutos_operacionales','sum_ingr_brutos_pauta_publicitaria':'ingresos_pauta_publicitaria'})\n",
    "    TVSUS_ING['ingresos']=TVSUS_ING['ingresos_brutos_operacionales']+TVSUS_ING['ingresos_pauta_publicitaria']\n",
    "    TVSUS_ING['periodo']=TVSUS_ING['anno']+'-T'+TVSUS_ING['trimestre']\n",
    "    return TVSUS_ING\n",
    "IngresosTVSus=ReadApiTVSUSIng()"
   ]
  },
  {
   "cell_type": "code",
   "execution_count": null,
   "id": "87fd4f95",
   "metadata": {
    "ExecuteTime": {
     "end_time": "2022-08-08T15:21:33.559433Z",
     "start_time": "2022-08-08T15:21:33.528451Z"
    }
   },
   "outputs": [],
   "source": [
    "IngresosTVSusAgg=IngresosTVSus.groupby(['anno','trimestre','id_empresa','empresa'])['ingresos'].sum().reset_index()\n",
    "IngresosTVSusAgg=IngresosTVSusAgg[(IngresosTVSusAgg['anno']=='2021')&(IngresosTVSusAgg['trimestre']=='4')].sort_values(by='ingresos',ascending=False)\n",
    "IngresosTVSusAgg['part']=100*IngresosTVSusAgg['ingresos']/IngresosTVSusAgg['ingresos'].sum()\n",
    "IngresosTVSusAgg"
   ]
  },
  {
   "cell_type": "markdown",
   "id": "333c59ee",
   "metadata": {},
   "source": [
    "# TV Comunitaria"
   ]
  },
  {
   "cell_type": "markdown",
   "id": "41e4fd98",
   "metadata": {},
   "source": [
    "## Asociados"
   ]
  },
  {
   "cell_type": "code",
   "execution_count": null,
   "id": "dcd8656c",
   "metadata": {},
   "outputs": [],
   "source": [
    "&fields[]=trimestre&fields[]=id_empresa&fields[]=empresa&fields[]=id_departamento&fields[]=departamento"
   ]
  },
  {
   "cell_type": "code",
   "execution_count": null,
   "id": "ffa646c2",
   "metadata": {
    "ExecuteTime": {
     "end_time": "2022-10-06T23:45:45.305959Z",
     "start_time": "2022-10-06T23:45:43.826337Z"
    }
   },
   "outputs": [],
   "source": [
    "resourceid = '6a80e055-0a5c-427e-a6d8-fcb3526dbcd5'\n",
    "consulta_anno='2019,2020,2021'\n",
    "consulta='https://www.postdata.gov.co/api/action/datastore/search.json?resource_id=' + resourceid + ''\\\n",
    "         '&filters[mes_del_trimestre]=3&filters[anno]=' + consulta_anno + ''\\\n",
    "         '&fields[]=anno&fields[]=trimestre&fields[]=id_empresa&fields[]=empresa&fields[]=id_departamento&fields[]=departamento'\\\n",
    "         '&group_by=anno,trimestre,id_empresa,empresa,id_departamento,departamento'\\\n",
    "         '&sum=total_asociados' \n",
    "response_base = urlopen(consulta + '&limit=10000000') \n",
    "json_base = json.loads(response_base.read())\n",
    "#TV_COM = pd.DataFrame(json_base['result']['records'])\n",
    "#TV_COM.sum_total_asociados = TV_COM.sum_total_asociados.astype('int64')\n",
    "#TV_COM = TV_COM.rename(columns={'sum_total_asociados':'asociados'})"
   ]
  },
  {
   "cell_type": "code",
   "execution_count": null,
   "id": "664adb52",
   "metadata": {
    "ExecuteTime": {
     "end_time": "2022-10-06T23:45:46.324089Z",
     "start_time": "2022-10-06T23:45:46.050643Z"
    }
   },
   "outputs": [],
   "source": [
    "json_base"
   ]
  },
  {
   "cell_type": "code",
   "execution_count": null,
   "id": "8da17620",
   "metadata": {
    "ExecuteTime": {
     "end_time": "2022-10-06T23:45:55.351483Z",
     "start_time": "2022-10-06T23:45:53.819606Z"
    }
   },
   "outputs": [],
   "source": [
    "def ReadApiTVComunitariaAsociados():\n",
    "    resourceid = '6a80e055-0a5c-427e-a6d8-fcb3526dbcd5'\n",
    "    consulta_anno='2019,2020,2021'\n",
    "    consulta='https://www.postdata.gov.co/api/action/datastore/search.json?resource_id=' + resourceid + ''\\\n",
    "             '&filters[mes_del_trimestre]=3&filters[anno]=' + consulta_anno + ''\\\n",
    "             '&fields[]=anno&fields[]=trimestre&fields[]=id_empresa&fields[]=empresa&fields[]=id_departamento&fields[]=departamento'\\\n",
    "             '&group_by=anno,trimestre,id_empresa,empresa,id_departamento,departamento'\\\n",
    "             '&sum=total_asociados' \n",
    "    response_base = urlopen(consulta + '&limit=10000000') \n",
    "    json_base = json.loads(response_base.read())\n",
    "    TV_COM = pd.DataFrame(json_base['result']['records'])\n",
    "    TV_COM.sum_total_asociados = TV_COM.sum_total_asociados.astype('int64')\n",
    "    TV_COM = TV_COM.rename(columns={'sum_total_asociados':'asociados'})\n",
    "    return TV_COM  \n",
    "AsociadosTVComunitaria=ReadApiTVComunitariaAsociados()"
   ]
  },
  {
   "cell_type": "code",
   "execution_count": null,
   "id": "14c49621",
   "metadata": {
    "ExecuteTime": {
     "end_time": "2022-08-08T22:05:07.939102Z",
     "start_time": "2022-08-08T22:05:07.915117Z"
    }
   },
   "outputs": [],
   "source": [
    "AsociadosTVComunitaria['periodo']=AsociadosTVComunitaria['anno']+'-T'+AsociadosTVComunitaria['trimestre']\n",
    "AsociadosTVComunitariaAgg=AsociadosTVComunitaria.groupby(['periodo'])['asociados'].sum().reset_index()"
   ]
  },
  {
   "cell_type": "code",
   "execution_count": null,
   "id": "d0ddbbd8",
   "metadata": {
    "ExecuteTime": {
     "end_time": "2022-08-08T22:05:28.411424Z",
     "start_time": "2022-08-08T22:05:28.320475Z"
    }
   },
   "outputs": [],
   "source": [
    "fig = px.line(AsociadosTVComunitariaAgg, x=\"periodo\", y=\"asociados\")\n",
    "fig.show()"
   ]
  },
  {
   "cell_type": "code",
   "execution_count": null,
   "id": "35086d07",
   "metadata": {
    "ExecuteTime": {
     "end_time": "2022-10-06T23:54:02.483418Z",
     "start_time": "2022-10-06T23:54:01.922793Z"
    }
   },
   "outputs": [],
   "source": [
    "resourceid = '359d8eff-6891-4b4d-b04d-0948b002a651'\n",
    "consulta_anno='2019,2020,2021'\n",
    "consulta='https://www.postdata.gov.co/api/action/datastore/search.json?resource_id=' + resourceid + ''\\\n",
    "         '&filters[anno]=' + consulta_anno + ''\\\n",
    "         '&fields[]=anno&fields[]=trimestre&fields[]=mes_del_trimestre&fields[]=id_empresa&fields[]=empresa'\\\n",
    "         '&group_by=anno,trimestre,mes_del_trimestre,id_empresa,desc_empresa'\\\n",
    "         '&sum[]=ingresos_totales&sum[]=ingr_brutos_pauta_publicitaria&sum[]=ingresos_brutos_operacionales' \n",
    "response_base = urlopen(consulta + '&limit=10000000') \n",
    "json_base = json.loads(response_base.read())\n",
    "json_base"
   ]
  },
  {
   "cell_type": "markdown",
   "id": "be00085c",
   "metadata": {},
   "source": [
    "## Ingresos"
   ]
  },
  {
   "cell_type": "code",
   "execution_count": null,
   "id": "dca8486c",
   "metadata": {
    "ExecuteTime": {
     "end_time": "2022-10-06T23:54:50.505156Z",
     "start_time": "2022-10-06T23:54:45.480917Z"
    }
   },
   "outputs": [],
   "source": [
    "def ReadApiTVComunitariaIngresos():\n",
    "    resourceid = '359d8eff-6891-4b4d-b04d-0948b002a651'\n",
    "    consulta_anno='2019,2020,2021'\n",
    "    consulta='https://www.postdata.gov.co/api/action/datastore/search.json?resource_id=' + resourceid + ''\\\n",
    "             '&filters[anno]=' + consulta_anno + ''\\\n",
    "             '&fields[]=anno&fields[]=trimestre&fields[]=mes_del_trimestre&fields[]=id_empresa&fields[]=empresa'\\\n",
    "             '&group_by=anno,trimestre,mes_del_trimestre,id_empresa,empresa'\\\n",
    "             '&sum[]=ingresos_totales&sum[]=ingr_brutos_pauta_publicitaria&sum[]=ingresos_brutos_operacionales' \n",
    "    response_base = urlopen(consulta + '&limit=10000000') \n",
    "    json_base = json.loads(response_base.read())\n",
    "    TV_COM = pd.DataFrame(json_base['result']['records'])\n",
    "    TV_COM.sum_ingresos_totales = TV_COM.sum_ingresos_totales.astype('int64')\n",
    "    TV_COM.sum_ingr_brutos_pauta_publicitaria = TV_COM.sum_ingr_brutos_pauta_publicitaria.astype('int64')\n",
    "    TV_COM.sum_ingresos_brutos_operacionales = TV_COM.sum_ingresos_brutos_operacionales.astype('int64')\n",
    "    TV_COM.trimestre=TV_COM.trimestre.astype('int64')\n",
    "    TV_COM.mes_del_trimestre=TV_COM.mes_del_trimestre.astype('int64')\n",
    "    TV_COM = TV_COM.rename(columns={'sum_ingresos_totales':'Ing Total',\n",
    "                                   'sum_ingr_brutos_pauta_publicitaria':'Ing Pauta publicitaria',\n",
    "                                   'sum_ingresos_brutos_operacionales':'Ing Brutos operacionales'})\n",
    "    return TV_COM  \n",
    "IngresosTVComunitariaIng=ReadApiTVComunitariaIngresos()"
   ]
  },
  {
   "cell_type": "code",
   "execution_count": null,
   "id": "7aaff57d",
   "metadata": {
    "ExecuteTime": {
     "end_time": "2022-08-08T21:55:45.337994Z",
     "start_time": "2022-08-08T21:55:45.304999Z"
    },
    "scrolled": false
   },
   "outputs": [],
   "source": [
    "IngresosTVComunitariaIng['mes']=((IngresosTVComunitariaIng['trimestre'])*3-2)+(IngresosTVComunitariaIng['mes_del_trimestre']-1)\n",
    "IngresosTVComunitariaIng['periodo']=IngresosTVComunitariaIng['anno']+'-T'+IngresosTVComunitariaIng['trimestre'].astype('str')"
   ]
  },
  {
   "cell_type": "code",
   "execution_count": null,
   "id": "4796a665",
   "metadata": {
    "ExecuteTime": {
     "end_time": "2022-08-08T21:56:15.828180Z",
     "start_time": "2022-08-08T21:56:15.809174Z"
    }
   },
   "outputs": [],
   "source": [
    "IngresosTVComunitariaIng.columns"
   ]
  },
  {
   "cell_type": "code",
   "execution_count": null,
   "id": "fec21e2c",
   "metadata": {
    "ExecuteTime": {
     "end_time": "2022-08-08T21:56:41.176184Z",
     "start_time": "2022-08-08T21:56:41.153197Z"
    }
   },
   "outputs": [],
   "source": [
    "IngresosTVComunitariaIng['Ing Total']=IngresosTVComunitariaIng['Ing Pauta publicitaria']+IngresosTVComunitariaIng['Ing Brutos operacionales']\n",
    "IngresosTVComunitariaIng"
   ]
  },
  {
   "cell_type": "code",
   "execution_count": null,
   "id": "7f5732c3",
   "metadata": {
    "ExecuteTime": {
     "end_time": "2022-08-08T21:57:42.043739Z",
     "start_time": "2022-08-08T21:57:42.000767Z"
    }
   },
   "outputs": [],
   "source": [
    "IngresosTVComunitariaIng2=pd.melt(IngresosTVComunitariaIng,id_vars=['periodo','id_empresa','empresa'],value_vars=['Ing Total','Ing Pauta publicitaria',\n",
    "                                                                    'Ing Brutos operacionales'],var_name='modalidad', value_name='ingresos')\n",
    "IngresosTVComunitariaIng2Agg=IngresosTVComunitariaIng2.groupby(['periodo','modalidad'])['ingresos'].sum().reset_index()"
   ]
  },
  {
   "cell_type": "code",
   "execution_count": null,
   "id": "232a562e",
   "metadata": {
    "ExecuteTime": {
     "end_time": "2022-08-08T21:57:56.230330Z",
     "start_time": "2022-08-08T21:57:54.295058Z"
    }
   },
   "outputs": [],
   "source": [
    "fig = px.line(IngresosTVComunitariaIng2Agg, x=\"periodo\", y=\"ingresos\", color='modalidad')\n",
    "fig.show()"
   ]
  },
  {
   "cell_type": "markdown",
   "id": "24feb35c",
   "metadata": {},
   "source": [
    "# Correo"
   ]
  },
  {
   "cell_type": "code",
   "execution_count": null,
   "id": "f7e9e2ce",
   "metadata": {
    "ExecuteTime": {
     "end_time": "2022-09-01T16:04:37.903404Z",
     "start_time": "2022-09-01T16:04:35.716086Z"
    }
   },
   "outputs": [],
   "source": [
    "def ReadApiCorreoEnviosIngresos():\n",
    "    resourceid = '3709bd6a-ee6b-4bc7-b711-9ebc64a89898'\n",
    "    consulta_anno='2018,2019,2020,2021'\n",
    "    consulta='https://www.postdata.gov.co/api/action/datastore/search.json?resource_id=' + resourceid + ''\\\n",
    "             '&filters[anno]=' + consulta_anno + ''\\\n",
    "             '&fields[]=anno&fields[]=trimestre&fields[]=ambito&fields[]=tipo_envio'\\\n",
    "             '&group_by=anno,trimestre,ambito,tipo_envio'\\\n",
    "             '&sum[]=ingresos&sum[]=numero_total_envios' \n",
    "    response_base = urlopen(consulta + '&limit=10000000') \n",
    "    json_base = json.loads(response_base.read())\n",
    "    Correo = pd.DataFrame(json_base['result']['records'])\n",
    "    Correo['periodo']=Correo['anno']+'-T'+Correo['trimestre']\n",
    "    Correo.sum_ingresos = Correo.sum_ingresos.astype('int64')\n",
    "    Correo.sum_numero_total_envios = Correo.sum_numero_total_envios.astype('int64')\n",
    "    Correo = Correo.rename(columns={'sum_numero_total_envios':'Envíos','sum_ingresos':'Ingresos'})\n",
    "    Correo['tipo_envio']=Correo['tipo_envio'].replace({'Envíos Individuales':'Individuales','Envíos Masivos':'Masivos'})\n",
    "    return Correo  \n",
    "IngresosyEnviosCorreo=ReadApiCorreoEnviosIngresos()"
   ]
  },
  {
   "cell_type": "code",
   "execution_count": null,
   "id": "eac47c3f",
   "metadata": {
    "ExecuteTime": {
     "end_time": "2022-09-01T16:04:52.377085Z",
     "start_time": "2022-09-01T16:04:52.336095Z"
    }
   },
   "outputs": [],
   "source": [
    "IngresosyEnviosCorreo"
   ]
  },
  {
   "cell_type": "code",
   "execution_count": null,
   "id": "a4b946e7",
   "metadata": {
    "ExecuteTime": {
     "end_time": "2022-09-01T16:05:30.393423Z",
     "start_time": "2022-09-01T16:05:30.367440Z"
    }
   },
   "outputs": [],
   "source": [
    "IngresosyEnviosCorreo[IngresosyEnviosCorreo['anno']>'2019'].groupby(['anno','ambito','tipo_envio'])['Ingresos'].sum().reset_index()"
   ]
  },
  {
   "cell_type": "markdown",
   "id": "e9ce1b09",
   "metadata": {},
   "source": [
    "# Mensajería Expresa"
   ]
  },
  {
   "cell_type": "code",
   "execution_count": null,
   "id": "66b923c9",
   "metadata": {
    "ExecuteTime": {
     "end_time": "2022-08-25T21:24:40.588540Z",
     "start_time": "2022-08-25T21:24:38.730282Z"
    }
   },
   "outputs": [],
   "source": [
    "def ReadApiMExpresaEnviosIngresos():\n",
    "    resourceid = '8b901e29-4fcd-465f-b006-fd73bd01215f'\n",
    "    consulta_anno='2018,2019,2020,2021'\n",
    "    consulta='https://www.postdata.gov.co/api/action/datastore/search.json?resource_id=' + resourceid + ''\\\n",
    "             '&filters[anno]=' + consulta_anno + ''\\\n",
    "             '&fields[]=anno&fields[]=trimestre&fields[]=ambito&fields[]=tipo_envio&fields[]=id_empresa&fields[]=empresa'\\\n",
    "             '&group_by=anno,trimestre,ambito,tipo_envio,id_empresa,empresa'\\\n",
    "             '&sum[]=ingresos&sum[]=numero_total_envios' \n",
    "    response_base = urlopen(consulta + '&limit=10000000') \n",
    "    json_base = json.loads(response_base.read())\n",
    "    MExpresa = pd.DataFrame(json_base['result']['records'])\n",
    "    MExpresa['periodo']=MExpresa['anno']+'-T'+MExpresa['trimestre']\n",
    "    MExpresa.sum_ingresos = MExpresa.sum_ingresos.astype('int64')\n",
    "    MExpresa.sum_numero_total_envios = MExpresa.sum_numero_total_envios.astype('int64')\n",
    "    MExpresa = MExpresa.rename(columns={'sum_numero_total_envios':'Envíos','sum_ingresos':'Ingresos'})\n",
    "    MExpresa['tipo_envio']=MExpresa['tipo_envio'].replace({'Envíos Individuales':'Individuales','Envíos Masivos':'Masivos'})\n",
    "    return MExpresa  \n",
    "IngresosyEnviosMExpresa=ReadApiMExpresaEnviosIngresos()"
   ]
  },
  {
   "cell_type": "code",
   "execution_count": null,
   "id": "2748dc30",
   "metadata": {
    "ExecuteTime": {
     "end_time": "2022-08-25T21:24:42.559642Z",
     "start_time": "2022-08-25T21:24:42.544651Z"
    }
   },
   "outputs": [],
   "source": [
    "IngresosyEnviosMExpresa.groupby(['anno'])['Envíos'].sum().reset_index()"
   ]
  },
  {
   "cell_type": "code",
   "execution_count": null,
   "id": "4ae26056",
   "metadata": {
    "ExecuteTime": {
     "end_time": "2022-08-05T13:53:20.988261Z",
     "start_time": "2022-08-05T13:53:18.949742Z"
    }
   },
   "outputs": [],
   "source": [
    "IngresosyEnviosMExpresaAgg=IngresosyEnviosMExpresa.groupby(['periodo','tipo_envio'])['Envíos'].sum().reset_index()\n",
    "fig = px.line(IngresosyEnviosMExpresaAgg, x=\"periodo\", y=\"Envíos\", color='tipo_envio')\n",
    "fig.show()"
   ]
  },
  {
   "cell_type": "markdown",
   "id": "6603995b",
   "metadata": {},
   "source": [
    "# Giros"
   ]
  },
  {
   "cell_type": "code",
   "execution_count": null,
   "id": "93f34ac1",
   "metadata": {
    "ExecuteTime": {
     "end_time": "2022-08-25T21:25:44.646849Z",
     "start_time": "2022-08-25T21:25:43.983820Z"
    }
   },
   "outputs": [],
   "source": [
    "def ReadApiGirosIngresos():\n",
    "    resourceid = 'cbb58f7a-0d33-4667-a8df-8f7a707d0893'\n",
    "    consulta_anno='2018,2019,2020,2021'\n",
    "    consulta='https://www.postdata.gov.co/api/action/datastore/search.json?resource_id=' + resourceid + ''\\\n",
    "             '&filters[anno]=' + consulta_anno + ''\\\n",
    "             '&fields[]=anno&fields[]=trimestre&fields[]=ambito&fields[]=tipo_giro&fields[]=id_empresa&fields[]=empresa'\\\n",
    "             '&group_by=anno,trimestre,ambito,tipo_giro,id_empresa,empresa'\\\n",
    "             '&sum[]=ingresos&sum[]=valor_total_giros&sum[]=numero_giros' \n",
    "    response_base = urlopen(consulta + '&limit=10000000') \n",
    "    json_base = json.loads(response_base.read())\n",
    "    Giros = pd.DataFrame(json_base['result']['records'])\n",
    "    Giros['periodo']=Giros['anno']+'-T'+Giros['trimestre']\n",
    "    Giros.sum_ingresos = Giros.sum_ingresos.astype('int64')\n",
    "    Giros.sum_valor_total_giros = Giros.sum_valor_total_giros.astype('int64')\n",
    "    Giros.sum_numero_giros = Giros.sum_numero_giros.astype('int64')\n",
    "    Giros = Giros.rename(columns={'sum_valor_total_giros':'Valor total giros','sum_ingresos':'Ingresos'})\n",
    "    Giros['tipo_giro']=Giros['tipo_giro'].replace({'Giros Nacionales':'Nacionales','Giros Internacionales':'Internacionales'})\n",
    "    Giros=Giros.rename(columns={'sum_numero_giros':'Giros'})\n",
    "    return Giros  \n",
    "IngresosGiros=ReadApiGirosIngresos()"
   ]
  },
  {
   "cell_type": "code",
   "execution_count": null,
   "id": "7091a80c",
   "metadata": {
    "ExecuteTime": {
     "end_time": "2022-08-25T21:25:45.432783Z",
     "start_time": "2022-08-25T21:25:45.406782Z"
    }
   },
   "outputs": [],
   "source": [
    "IngresosGiros.groupby(['anno'])['Giros'].sum().reset_index()"
   ]
  },
  {
   "cell_type": "code",
   "execution_count": null,
   "id": "545cd4b6",
   "metadata": {
    "ExecuteTime": {
     "end_time": "2022-08-03T02:46:43.376680Z",
     "start_time": "2022-08-03T02:46:43.360689Z"
    }
   },
   "outputs": [],
   "source": [
    "IngresosPorValorGiroEmp=IngresosGiros[IngresosGiros['ambito']=='Nacional'].groupby(['periodo','empresa','id_empresa']).agg({'Ingresos':'sum','Valor total giros':'sum'}).reset_index()\n",
    "IngresosPorValorGiroEmp['Tasa media de comisión']=round(100*IngresosPorValorGiroEmp['Ingresos']/IngresosPorValorGiroEmp['Valor total giros'],3)"
   ]
  },
  {
   "cell_type": "code",
   "execution_count": null,
   "id": "440e2174",
   "metadata": {
    "ExecuteTime": {
     "end_time": "2022-08-03T02:46:46.275230Z",
     "start_time": "2022-08-03T02:46:46.181292Z"
    }
   },
   "outputs": [],
   "source": [
    "fig = px.line(IngresosPorValorGiroEmp, x=\"periodo\", y=\"Tasa media de comisión\", color='empresa')\n",
    "fig.show()"
   ]
  },
  {
   "cell_type": "code",
   "execution_count": null,
   "id": "6eb80abc",
   "metadata": {
    "ExecuteTime": {
     "end_time": "2022-08-02T23:51:45.955196Z",
     "start_time": "2022-08-02T23:51:45.894212Z"
    }
   },
   "outputs": [],
   "source": [
    "IngresosGirosNac=IngresosGiros.groupby(['anno','ambito','tipo_giro']).agg({'Ingresos':'sum','Valor total giros':'sum'}).reset_index()\n",
    "IngresosGirosNac=IngresosGirosNac.rename(columns={'tipo_giro':'tipo_envio'})"
   ]
  },
  {
   "cell_type": "code",
   "execution_count": null,
   "id": "f15b51aa",
   "metadata": {
    "ExecuteTime": {
     "end_time": "2022-08-02T23:52:21.964067Z",
     "start_time": "2022-08-02T23:52:21.936087Z"
    }
   },
   "outputs": [],
   "source": [
    "IngresosGirosNac[IngresosGirosNac['tipo_envio']=='Giros Nacionales']"
   ]
  },
  {
   "cell_type": "code",
   "execution_count": null,
   "id": "5a19532d",
   "metadata": {},
   "outputs": [],
   "source": [
    "['rgb(122, 68, 242)','rgb(0, 128, 255)','rgb(102,204,0)']"
   ]
  },
  {
   "cell_type": "code",
   "execution_count": null,
   "id": "6f2b9552",
   "metadata": {
    "ExecuteTime": {
     "end_time": "2022-08-03T00:13:46.896698Z",
     "start_time": "2022-08-03T00:13:46.881073Z"
    }
   },
   "outputs": [],
   "source": [
    "def PlotlyBarras2(df,column,modalidad,unidad,escalamiento,titulo,colores):\n",
    "    fig = make_subplots(rows=1, cols=1) \n",
    "    maxdf=df[column].max()/escalamiento+(df[column].max()/escalamiento)*0.5    \n",
    "    for i,elem in enumerate(df[modalidad].unique().tolist()):\n",
    "        fig.add_trace(go.Bar(x=df[df[modalidad]==elem]['anno'],y=df[df[modalidad]==elem][column]/escalamiento\n",
    "                             ,marker_color=colores[i],\n",
    "                            name=elem))      \n",
    "    fig.update_layout(barmode='group')\n",
    "    fig.update_xaxes(tickangle=0, tickfont=dict(family='Boston', color='black', size=16),title_text=None,row=1, col=1,\n",
    "    zeroline=True,linecolor = \"rgba(192, 192, 192, 0.8)\",zerolinewidth=2)\n",
    "    fig.update_yaxes(tickfont=dict(family='Boston', color='black', size=16),titlefont_size=18, title_text=unidad, row=1, col=1)\n",
    "    fig.update_layout(height=550,legend_title=None)\n",
    "    fig.update_layout(font_color=\"Black\",title_font_family=\"NexaBlack\",title_font_color=\"Black\",titlefont_size=20,\n",
    "    title={\n",
    "    'text': titulo,\n",
    "    'y':0.95,\n",
    "    'x':0.5,\n",
    "    'xanchor': 'center',\n",
    "    'yanchor': 'top'})        \n",
    "    fig.update_layout(legend=dict(orientation=\"h\",y=1.05,xanchor='center',x=0.5,font_size=12),showlegend=True)\n",
    "    fig.update_layout(paper_bgcolor='rgba(0,0,0,0)',plot_bgcolor='rgba(0,0,0,0)',yaxis_tickformat='d')\n",
    "    fig.update_yaxes(showgrid=True, gridwidth=1, gridcolor='rgba(192, 192, 192, 0.8)')\n",
    "    return fig"
   ]
  },
  {
   "cell_type": "code",
   "execution_count": null,
   "id": "2ef0518d",
   "metadata": {
    "ExecuteTime": {
     "end_time": "2022-08-03T00:13:47.350172Z",
     "start_time": "2022-08-03T00:13:47.286206Z"
    }
   },
   "outputs": [],
   "source": [
    "PlotlyBarras2(IngresosGirosNac[IngresosGirosNac['tipo_envio']=='Giros Internacionales'],'Ingresos','ambito','Millones de pesos',1e6,'Ingresos de giros internacionales<br>por ámbito',['rgb(0, 128, 255)','rgb(102,204,0)'])"
   ]
  },
  {
   "cell_type": "code",
   "execution_count": null,
   "id": "2968f826",
   "metadata": {
    "ExecuteTime": {
     "end_time": "2022-08-03T00:15:15.344903Z",
     "start_time": "2022-08-03T00:15:15.263947Z"
    }
   },
   "outputs": [],
   "source": [
    "PlotlyBarras2(IngresosGirosNac[IngresosGirosNac['tipo_envio']=='Giros Nacionales'],'Ingresos','ambito','Millones de pesos',1e6,'Ingresos de giros internacionales<br>por ámbito',['rgb(0, 128, 255)','rgb(102,204,0)'])"
   ]
  },
  {
   "cell_type": "code",
   "execution_count": null,
   "id": "a223b32d",
   "metadata": {
    "ExecuteTime": {
     "end_time": "2022-08-02T23:55:43.172601Z",
     "start_time": "2022-08-02T23:55:43.080543Z"
    }
   },
   "outputs": [],
   "source": [
    "fig = px.bar(IngresosGirosNac[IngresosGirosNac['tipo_envio']=='Giros Internacionales'], x=\"anno\", y=\"Ingresos\",color='ambito')\n",
    "fig.show()"
   ]
  },
  {
   "cell_type": "markdown",
   "id": "5b4b8094",
   "metadata": {},
   "source": [
    "# OTT"
   ]
  },
  {
   "cell_type": "code",
   "execution_count": null,
   "id": "5aef2dff",
   "metadata": {
    "ExecuteTime": {
     "end_time": "2022-08-03T20:01:48.977943Z",
     "start_time": "2022-08-03T20:01:48.642300Z"
    }
   },
   "outputs": [],
   "source": [
    "OTT=pd.read_csv('https://raw.githubusercontent.com/postdatacrc/Reporte-de-industria/main/Datos_Sin_API/OTT.csv',delimiter=';')"
   ]
  },
  {
   "cell_type": "code",
   "execution_count": null,
   "id": "5794d36b",
   "metadata": {
    "ExecuteTime": {
     "end_time": "2022-08-03T20:16:34.195684Z",
     "start_time": "2022-08-03T20:16:34.170716Z"
    }
   },
   "outputs": [],
   "source": [
    "OTT['periodo']=OTT['periodo'].replace({r'Q':'-T'},regex=True)\n",
    "OTT['penetracion']=OTT['penetracion'].replace({r'%':''},regex=True).astype('float')\n",
    "OTTAgg=OTT[(OTT['concepto']=='Penetracion modelo de negocio')&(OTT['periodo'].isin(['2018-T4','2019-T4','2020-T4','2021-T4']))].groupby(['periodo','modelo_negocio'])['penetracion'].sum().reset_index()\n",
    "OTT2=OTTAgg[OTTAgg['modelo_negocio'].isin(['AVOD','FVOD'])]\n",
    "OTTAgg2=OTT2.groupby(['periodo'])['penetracion'].sum().reset_index()\n",
    "OTTAgg2['modelo_negocio']='FVOD-AVOD'\n",
    "OTTdf=pd.concat([OTTAgg,OTTAgg2])\n",
    "OTTdf=OTTdf[OTTdf['modelo_negocio'].isin(['AVOD','FVOD'])==False]"
   ]
  },
  {
   "cell_type": "code",
   "execution_count": null,
   "id": "e54bc97f",
   "metadata": {
    "ExecuteTime": {
     "end_time": "2022-08-03T20:10:13.856311Z",
     "start_time": "2022-08-03T20:10:13.694401Z"
    }
   },
   "outputs": [],
   "source": [
    "fig = px.bar(OTTdf, x='modelo_negocio',y='penetracion', color='periodo', height=400,color_discrete_sequence=['rgb(122, 68, 242)','rgb(0, 128, 255)','rgb(102, 204,0)','#ffbf00'])\n",
    "fig.update_layout(barmode='group')\n",
    "fig.update_xaxes(tickangle=0, tickfont=dict(family='Boston', color='black', size=16),title_text=None,row=1, col=1,\n",
    "zeroline=True,linecolor = \"rgba(192, 192, 192, 0.8)\",zerolinewidth=2)\n",
    "fig.update_yaxes(tickfont=dict(family='Boston', color='black', size=16),titlefont_size=18, title_text='Porcentaje', row=1, col=1)\n",
    "fig.update_layout(height=550,legend_title=None)\n",
    "fig.update_layout(font_color=\"Black\",title_font_family=\"NexaBlack\",title_font_color=\"Black\",titlefont_size=20,\n",
    "title={\n",
    "'text': 'Penetración suscriptores OTT por modelo de servicio',\n",
    "'y':0.98,\n",
    "'x':0.5,\n",
    "'xanchor': 'center',\n",
    "'yanchor': 'top'})        \n",
    "fig.update_layout(legend=dict(orientation=\"h\",y=1.05,xanchor='center',x=0.5,font_size=12),showlegend=True)\n",
    "fig.update_layout(paper_bgcolor='rgba(0,0,0,0)',plot_bgcolor='rgba(0,0,0,0)',yaxis_tickformat='d')\n",
    "fig.update_yaxes(showgrid=True, gridwidth=1, gridcolor='rgba(192, 192, 192, 0.8)')\n",
    "fig.show()"
   ]
  },
  {
   "cell_type": "code",
   "execution_count": null,
   "id": "e6d22ed5",
   "metadata": {
    "ExecuteTime": {
     "end_time": "2022-08-03T20:29:38.690896Z",
     "start_time": "2022-08-03T20:29:38.668909Z"
    }
   },
   "outputs": [],
   "source": [
    "OTTMotivos=OTT[OTT['concepto']=='Motivos cutterss']\n",
    "OTTMotivos=OTTMotivos.rename(columns={'modelo_negocio':'motivos'})\n",
    "Motivos21T4=OTTMotivos[OTTMotivos['periodo']=='2021-T4'].sort_values(by='penetracion',ascending=False)['motivos'].values.tolist()[0:5]\n",
    "OTTMotivos=OTTMotivos[OTTMotivos['motivos'].isin(Motivos21T4)]\n",
    "OTTMotivos['penetracion']=OTTMotivos['penetracion']*100\n",
    "reshape_motivos={'Es muy caro.':'Servicio muy caro','No lo estaba utilizando.':'No lo utilizaba',\n",
    "                'Estaba obligado a pagar por muchos canales que luego no miraba realmente.':'Obligado a pagar<br>canales que no<br>miraba',\n",
    "                'Puedo ver los mismos contenidos en internet y gratis.':'Mismo contenigo gratis<br>en internet',\n",
    "                'El servicio al cliente es muy malo.':'Pésimo servicio al cliente'}\n",
    "OTTMotivos['motivos']=OTTMotivos['motivos'].replace(reshape_motivos)"
   ]
  },
  {
   "cell_type": "code",
   "execution_count": null,
   "id": "e55b5255",
   "metadata": {
    "ExecuteTime": {
     "end_time": "2022-08-03T20:29:48.660921Z",
     "start_time": "2022-08-03T20:29:48.533015Z"
    }
   },
   "outputs": [],
   "source": [
    "fig = px.bar(OTTMotivos, x='penetracion',y='motivos',orientation='h',color='periodo', height=400,color_discrete_sequence=['rgb(122, 68, 242)','rgb(0, 128, 255)','rgb(102, 204,0)','#ffbf00'])\n",
    "fig.update_layout(barmode='group')\n",
    "fig.update_xaxes(tickangle=0, tickfont=dict(family='Boston', color='black', size=16),title_text='Porcentaje',row=1, col=1,\n",
    "zeroline=True,linecolor = \"rgba(192, 192, 192, 0.8)\",zerolinewidth=2)\n",
    "fig.update_yaxes(tickfont=dict(family='Boston', color='black', size=16),titlefont_size=18, title_text=None, row=1, col=1)\n",
    "fig.update_layout(height=550,legend_title=None)\n",
    "fig.update_layout(font_color=\"Black\",title_font_family=\"NexaBlack\",title_font_color=\"Black\",titlefont_size=20,\n",
    "title={\n",
    "'text': 'Motivos más comunes de cancelación del servicio',\n",
    "'y':0.98,\n",
    "'x':0.5,\n",
    "'xanchor': 'center',\n",
    "'yanchor': 'top'})        \n",
    "fig.update_layout(legend=dict(orientation=\"v\",y=0.8,x=0.8,font_size=14),showlegend=True)\n",
    "fig.update_layout(paper_bgcolor='rgba(0,0,0,0)',plot_bgcolor='rgba(0,0,0,0)',yaxis_tickformat='d')\n",
    "fig.update_yaxes(showgrid=True, gridwidth=1, gridcolor='rgba(192, 192, 192, 0.8)')\n",
    "fig.show()"
   ]
  },
  {
   "cell_type": "code",
   "execution_count": null,
   "id": "5cdfef21",
   "metadata": {},
   "outputs": [],
   "source": [
    "['Es muy caro.']"
   ]
  },
  {
   "cell_type": "markdown",
   "id": "d38dc47b",
   "metadata": {},
   "source": [
    "# Radio"
   ]
  },
  {
   "cell_type": "markdown",
   "id": "a9206a4e",
   "metadata": {},
   "source": [
    "## Ingresos"
   ]
  },
  {
   "cell_type": "code",
   "execution_count": null,
   "id": "ccff5172",
   "metadata": {
    "ExecuteTime": {
     "end_time": "2022-08-03T13:12:26.766800Z",
     "start_time": "2022-08-03T13:12:26.484704Z"
    }
   },
   "outputs": [],
   "source": [
    "IngresosRadio=pd.read_csv('https://raw.githubusercontent.com/postdatacrc/Reporte-de-industria/main/Datos_Sin_API/radio_ingresos.csv',delimiter=';',encoding='latin-1')"
   ]
  },
  {
   "cell_type": "code",
   "execution_count": null,
   "id": "68627212",
   "metadata": {
    "ExecuteTime": {
     "end_time": "2022-08-03T13:36:17.168115Z",
     "start_time": "2022-08-03T13:36:17.144135Z"
    }
   },
   "outputs": [],
   "source": [
    "IngresosRadio['ingresos ordinarios']=IngresosRadio['ingresos ordinarios'].astype('int64')\n",
    "IngresosRadio['anno']=IngresosRadio['anno'].astype('str')\n",
    "IngresosRadio=IngresosRadio.rename(columns={'empresa  ':'empresa'})\n",
    "IngresosRadio.columns"
   ]
  },
  {
   "cell_type": "markdown",
   "id": "602c30db",
   "metadata": {},
   "source": [
    "## Número de empresas"
   ]
  },
  {
   "cell_type": "code",
   "execution_count": null,
   "id": "985132cb",
   "metadata": {
    "ExecuteTime": {
     "end_time": "2022-08-03T18:06:36.811178Z",
     "start_time": "2022-08-03T18:06:36.454955Z"
    }
   },
   "outputs": [],
   "source": [
    "NumeroEmisoras=pd.read_csv('https://raw.githubusercontent.com/postdatacrc/Reporte-de-industria/main/Datos_Sin_API/listado_emisoras_radio.csv',delimiter=';',encoding='latin-1')\n",
    "NumeroEmisoras=NumeroEmisoras.rename(columns={'CLASE DE\\nEMISORA':'CLASE DE EMISORA'})"
   ]
  },
  {
   "cell_type": "code",
   "execution_count": null,
   "id": "d230d066",
   "metadata": {
    "ExecuteTime": {
     "end_time": "2022-08-03T18:06:37.211141Z",
     "start_time": "2022-08-03T18:06:37.195144Z"
    }
   },
   "outputs": [],
   "source": [
    "NumeroEmisoras['DEPARTAMENTO']=NumeroEmisoras['DEPARTAMENTO'].replace({'ARCHIPIELAGO DE SAN ANDRÉS. PROVIDENCIA Y SANTA CATALINA':'SAN ANDRÉS Y PROV.',\n",
    "                                                                      'NORTE DE\\nSANTANDER':'N.SANTANDER','NORTE DE SANTANDER':'N.SANTANDER'})"
   ]
  },
  {
   "cell_type": "code",
   "execution_count": null,
   "id": "a2dd175d",
   "metadata": {
    "ExecuteTime": {
     "end_time": "2022-08-03T18:15:04.023812Z",
     "start_time": "2022-08-03T18:15:03.983791Z"
    }
   },
   "outputs": [],
   "source": [
    "NumeroEmisorasDepComerciales=NumeroEmisoras[NumeroEmisoras['CLASE DE EMISORA']=='COMERCIAL'].groupby(['DEPARTAMENTO','BANDA'])['CODIGO EMISORA'].nunique().reset_index()\n",
    "NumeroEmisorasDepComerciales=NumeroEmisorasDepComerciales.rename(columns={'CODIGO EMISORA':'Número empresas'})\n",
    "NumeroEmisorasDepComunitarias=NumeroEmisoras[NumeroEmisoras['CLASE DE EMISORA']=='COMUNITARIA'].groupby(['DEPARTAMENTO','BANDA'])['CODIGO EMISORA'].nunique().reset_index()\n",
    "NumeroEmisorasDepComunitarias=NumeroEmisorasDepComunitarias.rename(columns={'CODIGO EMISORA':'Número empresas'})"
   ]
  },
  {
   "cell_type": "code",
   "execution_count": null,
   "id": "d3073ff2",
   "metadata": {
    "ExecuteTime": {
     "end_time": "2022-08-03T18:07:41.423027Z",
     "start_time": "2022-08-03T18:07:41.207046Z"
    }
   },
   "outputs": [],
   "source": [
    "fig = px.bar(NumeroEmisorasDepComerciales, x=\"DEPARTAMENTO\", y='Número empresas',color='BANDA',color_discrete_sequence=['rgb(122, 68, 242)','rgb(0, 128, 255)'])\n",
    "fig.update_xaxes(tickangle=-45, tickfont=dict(family='Times', color='black', size=12),title_text=None,row=1, col=1,\n",
    "zeroline=True,linecolor = \"rgba(192, 192, 192, 0.8)\",zerolinewidth=2)\n",
    "fig.update_yaxes(tickfont=dict(family='Boston', color='black', size=16),titlefont_size=18, title_text='', row=1, col=1)\n",
    "fig.update_layout(height=550,legend_title=None)\n",
    "fig.update_layout(font_color=\"Black\",title_font_family=\"NexaBlack\",title_font_color=\"Black\",titlefont_size=20,\n",
    "title={\n",
    "'text': 'Número de emisoras comerciales por departamento y banda',\n",
    "'y':0.95,\n",
    "'x':0.5,\n",
    "'xanchor': 'center',\n",
    "'yanchor': 'top'})        \n",
    "fig.update_layout(legend=dict(orientation=\"h\",y=1,xanchor='center',x=0.5,font_size=12),showlegend=True)\n",
    "fig.update_layout(paper_bgcolor='rgba(0,0,0,0)',plot_bgcolor='rgba(0,0,0,0)',yaxis_tickformat='d')\n",
    "fig.update_yaxes(showgrid=True, gridwidth=1, gridcolor='rgba(192, 192, 192, 0.8)')\n",
    "fig.show()"
   ]
  },
  {
   "cell_type": "code",
   "execution_count": null,
   "id": "e7f852ef",
   "metadata": {
    "ExecuteTime": {
     "end_time": "2022-08-03T18:15:13.535126Z",
     "start_time": "2022-08-03T18:15:13.351121Z"
    }
   },
   "outputs": [],
   "source": [
    "fig = px.bar(NumeroEmisorasDepComunitarias, x=\"DEPARTAMENTO\", y='Número empresas',color='BANDA',color_discrete_sequence=['rgb(0, 128, 255)'])\n",
    "fig.update_xaxes(tickangle=-45, tickfont=dict(family='Times', color='black', size=12),title_text=None,row=1, col=1,\n",
    "zeroline=True,linecolor = \"rgba(192, 192, 192, 0.8)\",zerolinewidth=2)\n",
    "fig.update_yaxes(tickfont=dict(family='Boston', color='black', size=16),titlefont_size=18, title_text='', row=1, col=1)\n",
    "fig.update_layout(height=550,legend_title=None)\n",
    "fig.update_layout(font_color=\"Black\",title_font_family=\"NexaBlack\",title_font_color=\"Black\",titlefont_size=20,\n",
    "title={\n",
    "'text': 'Número de emisoras comunitarias por departamento y banda',\n",
    "'y':0.95,\n",
    "'x':0.5,\n",
    "'xanchor': 'center',\n",
    "'yanchor': 'top'})        \n",
    "fig.update_layout(legend=dict(orientation=\"h\",y=0.95,xanchor='center',x=0.5,font_size=12),showlegend=True)\n",
    "fig.update_layout(paper_bgcolor='rgba(0,0,0,0)',plot_bgcolor='rgba(0,0,0,0)',yaxis_tickformat='d')\n",
    "fig.update_yaxes(showgrid=True, gridwidth=1, gridcolor='rgba(192, 192, 192, 0.8)')\n",
    "fig.show()"
   ]
  },
  {
   "cell_type": "code",
   "execution_count": null,
   "id": "c923fc8b",
   "metadata": {
    "ExecuteTime": {
     "end_time": "2022-08-03T15:33:44.596326Z",
     "start_time": "2022-08-03T15:33:44.573516Z"
    }
   },
   "outputs": [],
   "source": [
    "NumeroEmisorasAgg=NumeroEmisoras.groupby(['CLASE DE EMISORA','BANDA'])['CODIGO EMISORA'].nunique().reset_index()\n",
    "NumeroEmisorasAgg=NumeroEmisorasAgg.rename(columns={'CODIGO EMISORA':'Número emisoras'})\n",
    "NumeroEmisorasAgg.loc[NumeroEmisorasAgg['CLASE DE EMISORA']=='COMUNITARIA','BANDA']=None\n",
    "NumeroEmisorasAgg['CLASE DE EMISORA']=NumeroEmisorasAgg['CLASE DE EMISORA'].replace({'INTERÉS PÚBLICO':'INTERÉS<br>PÚBLICO'})"
   ]
  },
  {
   "cell_type": "code",
   "execution_count": null,
   "id": "3f8cd1f6",
   "metadata": {
    "ExecuteTime": {
     "end_time": "2022-08-03T15:54:49.504041Z",
     "start_time": "2022-08-03T15:54:49.479978Z"
    }
   },
   "outputs": [],
   "source": [
    "NumeroEmisorasAgg"
   ]
  },
  {
   "cell_type": "code",
   "execution_count": null,
   "id": "aaec16a4",
   "metadata": {
    "ExecuteTime": {
     "end_time": "2022-08-03T18:19:52.019568Z",
     "start_time": "2022-08-03T18:19:51.859583Z"
    }
   },
   "outputs": [],
   "source": [
    "fig = px.sunburst(NumeroEmisorasAgg, path=['CLASE DE EMISORA', 'BANDA'], values='Número emisoras',color='CLASE DE EMISORA',\n",
    "                  color_discrete_map={'COMUNITARIA':'rgb(122, 68, 242)','COMERCIAL':'rgb(0, 128, 255)','INTERÉS<br>PÚBLICO':'rgb(102,204,0)'\n",
    "                                     },hover_data=['CLASE DE EMISORA','BANDA','Número emisoras'])\n",
    "fig.update_layout(height=550,legend_title=None)\n",
    "fig.update_layout(font_color=\"Black\",title_font_family=\"NexaBlack\",title_font_color=\"Black\",titlefont_size=20,\n",
    "title={\n",
    "'text':'<b>Participación en el número de emisoras por clase de emisora y banda (2021)',\n",
    "'y':0.9,\n",
    "'x':0.5,\n",
    "'xanchor': 'center',\n",
    "'yanchor': 'top'})      \n",
    "fig.update_layout(\n",
    "    margin = dict(t=10, l=10, r=10, b=10))\n",
    "fig.show()"
   ]
  },
  {
   "cell_type": "code",
   "execution_count": null,
   "id": "4c491f7a",
   "metadata": {
    "ExecuteTime": {
     "end_time": "2022-08-03T14:48:47.951157Z",
     "start_time": "2022-08-03T14:48:47.864187Z"
    }
   },
   "outputs": [],
   "source": [
    "fig = px.bar(NumeroEmisorasAgg, x=\"DEPARTAMENTO\", y=\"CLASE DE EMISORA\", color=\"BANDA\")\n",
    "fig.show()"
   ]
  },
  {
   "cell_type": "markdown",
   "id": "e2e4b982",
   "metadata": {},
   "source": [
    "# TV abierta"
   ]
  },
  {
   "cell_type": "code",
   "execution_count": null,
   "id": "7d1cb8be",
   "metadata": {
    "ExecuteTime": {
     "end_time": "2022-08-03T20:39:25.750095Z",
     "start_time": "2022-08-03T20:39:25.016194Z"
    }
   },
   "outputs": [],
   "source": [
    "TVabierta=pd.read_csv('https://raw.githubusercontent.com/postdatacrc/Reporte-de-industria/main/Datos_Sin_API/tv_abierta.csv',delimiter=';')"
   ]
  },
  {
   "cell_type": "code",
   "execution_count": null,
   "id": "0369b560",
   "metadata": {
    "ExecuteTime": {
     "end_time": "2022-08-03T21:47:09.248927Z",
     "start_time": "2022-08-03T21:47:09.226939Z"
    }
   },
   "outputs": [],
   "source": [
    "TVabierta=TVabierta.dropna()\n",
    "TVabierta=TVabierta[TVabierta['ingresos']>0]\n",
    "TVabierta['anno']=TVabierta['anno'].astype('str')\n",
    "TVabierta=TVabierta.rename(columns={'nit':'id_empresa','razon social':'empresa'})   \n",
    "TVabiertaNac=TVabierta.groupby(['anno','modalidad'])['ingresos'].sum().reset_index()"
   ]
  },
  {
   "cell_type": "code",
   "execution_count": null,
   "id": "f55f3446",
   "metadata": {
    "ExecuteTime": {
     "end_time": "2022-08-03T21:04:37.034304Z",
     "start_time": "2022-08-03T21:04:37.015314Z"
    }
   },
   "outputs": [],
   "source": [
    "TVabiertaNac['modalidad'].unique()"
   ]
  },
  {
   "cell_type": "code",
   "execution_count": null,
   "id": "7ad3432d",
   "metadata": {
    "ExecuteTime": {
     "end_time": "2022-08-03T21:25:45.340118Z",
     "start_time": "2022-08-03T21:25:45.224986Z"
    }
   },
   "outputs": [],
   "source": [
    "fig=make_subplots(rows=1,cols=2)\n",
    "Color_Modalidad={'TELEVISIÓN LOCAL CON ÁNIMO DE LUCRO':'rgb(122, 68, 242)','TELEVISIÓN LOCAL SIN ÁNIMO DE LUCRO':'rgb(0, 128, 255)',\n",
    "                'TELEVISIÓN NACIONAL (Concesión)':'rgb(102,204,0)','TELEVISIÓN NACIONAL PRIVADA':'#ffbf00'}\n",
    "for modalidad in ['TELEVISIÓN NACIONAL PRIVADA']:\n",
    "    df=TVabiertaNac[TVabiertaNac['modalidad']==modalidad]\n",
    "    fig.add_trace(go.Bar(x=df['anno'],y=df['ingresos']/1e9,name=modalidad,marker_color=Color_Modalidad[modalidad]),row=1,col=2)\n",
    "    \n",
    "for modalidad in ['TELEVISIÓN LOCAL CON ÁNIMO DE LUCRO','TELEVISIÓN LOCAL SIN ÁNIMO DE LUCRO','TELEVISIÓN NACIONAL (Concesión)']:\n",
    "    df=TVabiertaNac[TVabiertaNac['modalidad']==modalidad]\n",
    "    fig.add_trace(go.Bar(x=df['anno'],y=df['ingresos']/1e6,name=modalidad,marker_color=Color_Modalidad[modalidad]),row=1,col=1)\n",
    "    \n",
    "fig.update_layout(barmode='group')\n",
    "fig.update_yaxes(title_text='Miles de Millones de pesos',row=1,col=2)\n",
    "fig.update_yaxes(title_text='Millones de pesos',row=1,col=1)\n",
    "fig.update_xaxes(tickangle=0, tickfont=dict(family='Boston', color='black', size=16),title_text=None,\n",
    "zeroline=True,linecolor = \"rgba(192, 192, 192, 0.8)\",zerolinewidth=2)\n",
    "fig.update_yaxes(tickfont=dict(family='Boston', color='black', size=16),titlefont_size=18)\n",
    "fig.update_layout(height=550,legend_title=None)\n",
    "fig.update_layout(font_color=\"Black\",title_font_family=\"NexaBlack\",title_font_color=\"Black\",titlefont_size=20,\n",
    "title={\n",
    "'text': 'Ingresos de televisión abierta por modalidad',\n",
    "'y':0.95,\n",
    "'x':0.5,\n",
    "'xanchor': 'center',\n",
    "'yanchor': 'top'})        \n",
    "fig.update_layout(legend=dict(orientation=\"h\",y=1.12,x=0.1,font_size=12),showlegend=True)\n",
    "fig.update_layout(paper_bgcolor='rgba(0,0,0,0)',plot_bgcolor='rgba(0,0,0,0)',yaxis_tickformat='d')\n",
    "fig.update_yaxes(showgrid=True, gridwidth=1, gridcolor='rgba(192, 192, 192, 0.8)')\n",
    "fig.show()    "
   ]
  },
  {
   "cell_type": "code",
   "execution_count": null,
   "id": "4b04eab6",
   "metadata": {
    "ExecuteTime": {
     "end_time": "2022-08-03T21:17:45.979632Z",
     "start_time": "2022-08-03T21:17:45.916669Z"
    }
   },
   "outputs": [],
   "source": [
    "fig=make_subplots(rows=1,cols=1)\n",
    "for modalidad in ['TELEVISIÓN LOCAL CON ÁNIMO DE LUCRO','TELEVISIÓN LOCAL SIN ÁNIMO DE LUCRO','TELEVISIÓN NACIONAL (Concesión)']:\n",
    "    df=TVabiertaNac[TVabiertaNac['modalidad']==modalidad]\n",
    "    fig.add_trace(go.Bar(x=df['anno'],y=df['ingresos'],name=modalidad,marker_color=Color_Modalidad[modalidad]))   \n",
    "fig.show()    "
   ]
  },
  {
   "cell_type": "code",
   "execution_count": null,
   "id": "cae414d2",
   "metadata": {
    "ExecuteTime": {
     "end_time": "2022-08-03T20:58:30.381800Z",
     "start_time": "2022-08-03T20:58:30.282857Z"
    }
   },
   "outputs": [],
   "source": [
    "fig = px.bar(TVabiertaNac, x=\"anno\", y=\"ingresos\", color=\"modalidad\")\n",
    "fig.update_layout(barmode='group')\n",
    "fig.show()"
   ]
  },
  {
   "cell_type": "code",
   "execution_count": null,
   "id": "3f9ba381",
   "metadata": {
    "ExecuteTime": {
     "end_time": "2022-08-03T21:55:05.161317Z",
     "start_time": "2022-08-03T21:55:05.143309Z"
    }
   },
   "outputs": [],
   "source": [
    "TVPublica.columns"
   ]
  },
  {
   "cell_type": "code",
   "execution_count": null,
   "id": "42fac7e6",
   "metadata": {},
   "outputs": [],
   "source": [
    "IngresosTelMovil2=pd.melt(IngresosTelMovil,id_vars=['periodo','id_empresa','empresa'],value_vars=['ingresos_totales','ingresos_prepago',\n",
    "                                                                    'ingresos_pospago'],var_name='modalidad', value_name='ingresos')\n"
   ]
  },
  {
   "cell_type": "code",
   "execution_count": null,
   "id": "29a8fc62",
   "metadata": {
    "ExecuteTime": {
     "end_time": "2022-08-03T22:10:38.744721Z",
     "start_time": "2022-08-03T22:10:38.628808Z"
    }
   },
   "outputs": [],
   "source": [
    "TVPublica=pd.read_csv('https://raw.githubusercontent.com/postdatacrc/Reporte-de-industria/main/Datos_Sin_API/tv_publica.csv',delimiter=';')\n",
    "TVPublica=TVPublica.fillna(0)\n",
    "TVPublica=TVPublica.rename(columns={'Operador':'empresa'})\n",
    "TVPublicaAgg=TVPublica.groupby(['anno','empresa']).agg({'Oper_TV(%)':'sum','Otros_servicios(%)':'sum','Transferencias(%)':'sum'}).reset_index()\n",
    "TVPublicaAgg[['Oper_TV(%)','Otros_servicios(%)','Transferencias(%)']]=TVPublicaAgg[['Oper_TV(%)','Otros_servicios(%)','Transferencias(%)']]*100\n",
    "TVPublicaAgg=TVPublicaAgg.rename(columns={'Oper_TV(%)':'Operativo TV','Otros_servicios(%)':'Otros servicios','Transferencias(%)':'Transferencias'})\n",
    "TVPublicaAgg2=pd.melt(TVPublicaAgg,id_vars=['anno','empresa'],value_vars=['Operativo TV','Otros servicios','Transferencias'],\n",
    "                     var_name='ambito',value_name='Porcentaje')\n",
    "TVPublicaAgg2=TVPublicaAgg2[TVPublicaAgg2['anno'].isin([2020,2021])]"
   ]
  },
  {
   "cell_type": "code",
   "execution_count": null,
   "id": "118082d6",
   "metadata": {
    "ExecuteTime": {
     "end_time": "2022-08-03T22:18:45.665228Z",
     "start_time": "2022-08-03T22:18:45.632238Z"
    }
   },
   "outputs": [],
   "source": [
    "TVPublicaAgg"
   ]
  },
  {
   "cell_type": "code",
   "execution_count": null,
   "id": "b34c7912",
   "metadata": {
    "ExecuteTime": {
     "end_time": "2022-08-03T22:17:34.545332Z",
     "start_time": "2022-08-03T22:17:34.457342Z"
    }
   },
   "outputs": [],
   "source": [
    "color_ambitoTVPu={'Operativo TV':'rgb(178,102,255)','Otros servicios':'rgb(102,255,102)',\n",
    "             'Transferencias':'rgb(102,178,255)'}\n",
    "fig = make_subplots(rows=1,cols=1)\n",
    "for ambito in TVPublicaAgg2['ambito'].unique().tolist():\n",
    "    df2=TVPublicaAgg2[TVPublicaAgg2['ambito']==ambito]    \n",
    "    X=[df2['empresa'].tolist(),df2['anno'].tolist()]\n",
    "    fig.add_trace(go.Bar(x=X,y=TVPublicaAgg2[TVPublicaAgg2['ambito']==ambito]['Porcentaje'],name=ambito,marker_color=color_ambitoTVPu[ambito]))\n",
    "fig.update_layout(barmode='stack')\n",
    "fig.update_xaxes(tickangle=0, tickfont=dict(family='Boston', color='black', size=14),title_text=None,row=1, col=1,\n",
    "zeroline=True,linecolor = \"rgba(192, 192, 192, 0.8)\",zerolinewidth=2)\n",
    "fig.update_yaxes(tickfont=dict(family='Boston', color='black', size=16),titlefont_size=18, title_text='Porcentaje', row=1, col=1)\n",
    "fig.update_layout(height=550,legend_title=None)\n",
    "fig.update_layout(font_color=\"Black\",title_font_family=\"NexaBlack\",title_font_color=\"Black\",titlefont_size=20,\n",
    "title={\n",
    "'text': 'Composición de ingresos de los canales públicos nacionales, regionales y locales',\n",
    "'y':0.92,\n",
    "'x':0.5,\n",
    "'xanchor': 'center',\n",
    "'yanchor': 'top'})        \n",
    "fig.update_layout(legend=dict(orientation=\"h\",y=1.05,xanchor='center',x=0.5,font_size=12),showlegend=True)\n",
    "fig.update_layout(paper_bgcolor='rgba(0,0,0,0)',plot_bgcolor='rgba(0,0,0,0)',yaxis_tickformat='d')\n",
    "fig.update_yaxes(showgrid=True, gridwidth=1, gridcolor='rgba(192, 192, 192, 0.8)')\n",
    "fig.show()"
   ]
  },
  {
   "cell_type": "markdown",
   "id": "c5368663",
   "metadata": {},
   "source": [
    "# Comparación internacional"
   ]
  },
  {
   "cell_type": "code",
   "execution_count": null,
   "id": "8867176b",
   "metadata": {
    "ExecuteTime": {
     "end_time": "2022-08-17T15:49:19.718262Z",
     "start_time": "2022-08-17T15:49:19.298091Z"
    }
   },
   "outputs": [],
   "source": [
    "GlobalData=pd.read_csv('https://raw.githubusercontent.com/postdatacrc/Reporte-de-industria/main/Datos_Sin_API/GlobalData.csv',delimiter=';')\n",
    "GlobalData=GlobalData.iloc[:,:6]\n",
    "GlobalData=GlobalData.rename(columns={'Country':'País'})\n",
    "GlobalData['País']=GlobalData['País'].replace({'Brazil':'Brasil','Dominican Republic':'República Dominicana'})"
   ]
  },
  {
   "cell_type": "code",
   "execution_count": null,
   "id": "20593edd",
   "metadata": {
    "ExecuteTime": {
     "end_time": "2022-08-17T15:49:20.140729Z",
     "start_time": "2022-08-17T15:49:20.104749Z"
    }
   },
   "outputs": [],
   "source": [
    "GlobalData2=pd.melt(GlobalData,id_vars=['País','Variable'],value_vars=['2018A','2019A','2020A','2021A'],var_name='Año',value_name='Accesos')\n",
    "GlobalData2['Año']=GlobalData2['Año'].replace('\\D','',regex=True)\n",
    "GlobalData2['Accesos']=GlobalData2['Accesos'].str.replace(',','.').astype('float')\n",
    "GlobalData2=GlobalData2[GlobalData2['País'].isin(['Costa Rica','República Dominicana','El Salvador',\n",
    "                                      'Guatemala','Honduras','Mexico','Nicaragua','Panama'])==False]"
   ]
  },
  {
   "cell_type": "code",
   "execution_count": null,
   "id": "0a7a1850",
   "metadata": {
    "ExecuteTime": {
     "end_time": "2022-08-16T23:39:24.191181Z",
     "start_time": "2022-08-16T23:39:24.167164Z"
    }
   },
   "outputs": [],
   "source": [
    "GlobalData2['Variable'].unique()"
   ]
  },
  {
   "cell_type": "code",
   "execution_count": null,
   "id": "9632ca3b",
   "metadata": {
    "ExecuteTime": {
     "end_time": "2022-08-16T17:23:55.297694Z",
     "start_time": "2022-08-16T17:23:55.278689Z"
    }
   },
   "outputs": [],
   "source": [
    "Colores_pais={'Argentina':'rgb(116,172,223)','Bolivia':'rgb(212,43,30)','Brasil':'rgb(0,188,152)','Chile':'rgb(215,42,31)'\n",
    "              ,'Colombia':'rgb(255,205,0)','Costa Rica':'rgb(0,43,127)','República Dominicana':'rgb(0,45,98)',\n",
    "             'Ecuador':'rgb(255,221,0)','El Salvador':'rgb(0,71,171)','Guatemala':'rgb(0,163,230)',\n",
    "             'Honduras':'rgb(2,190,230)','Mexico':'rgb(0,104,71)','Nicaragua':'rgb(0,103,198)',\n",
    "             'Panama':'rgb(218,18,26)','Peru':'rgb(217,16,35)','Uruguay':'rgb(0,56,168)','Paraguay':'rgb(221,0,35)'}"
   ]
  },
  {
   "cell_type": "code",
   "execution_count": null,
   "id": "8bed4f9b",
   "metadata": {
    "ExecuteTime": {
     "end_time": "2022-08-16T17:23:55.823402Z",
     "start_time": "2022-08-16T17:23:55.806394Z"
    }
   },
   "outputs": [],
   "source": [
    "GlobalData2['Variable'].unique()"
   ]
  },
  {
   "cell_type": "code",
   "execution_count": null,
   "id": "ce8d4642",
   "metadata": {
    "ExecuteTime": {
     "end_time": "2022-08-16T17:23:57.272317Z",
     "start_time": "2022-08-16T17:23:57.067437Z"
    }
   },
   "outputs": [],
   "source": [
    "TelFijaInt=GlobalData2[GlobalData2['Variable']=='Telefonía fija']\n",
    "fig=px.bar(TelFijaInt,x='Año',y='Lineas',color='País',)\n",
    "fig.show()"
   ]
  },
  {
   "cell_type": "code",
   "execution_count": null,
   "id": "25505a53",
   "metadata": {
    "ExecuteTime": {
     "end_time": "2022-08-16T17:24:01.713686Z",
     "start_time": "2022-08-16T17:24:01.605748Z"
    }
   },
   "outputs": [],
   "source": [
    "#dict(color=Colores_pais[pais])\n",
    "fig=make_subplots(rows=1,cols=1)\n",
    "for pais in TelFijaInt['País'].unique().tolist():\n",
    "    df=TelFijaInt[TelFijaInt['País']==pais]\n",
    "    fig.add_trace(go.Bar(x=df['Año'],y=df['Lineas'],marker_color=Colores_pais[pais],name=pais))\n",
    "fig.update_layout(barmode='stack')    \n",
    "fig.show()    "
   ]
  },
  {
   "cell_type": "code",
   "execution_count": null,
   "id": "d8b39224",
   "metadata": {
    "ExecuteTime": {
     "end_time": "2022-08-16T17:24:06.979283Z",
     "start_time": "2022-08-16T17:24:06.967294Z"
    }
   },
   "outputs": [],
   "source": [
    "TelFijaInt['Lineas_log10']=TelFijaInt['Lineas'].apply(lambda x:np.log10(x))"
   ]
  },
  {
   "cell_type": "code",
   "execution_count": null,
   "id": "eb6637ff",
   "metadata": {
    "ExecuteTime": {
     "end_time": "2022-08-16T23:43:41.359499Z",
     "start_time": "2022-08-16T23:43:41.287456Z"
    }
   },
   "outputs": [],
   "source": [
    "fig=make_subplots(rows=1,cols=1)\n",
    "for pais in TelFijaInt['País'].unique().tolist():\n",
    "    df=TelFijaInt[TelFijaInt['País']==pais]\n",
    "    fig.add_trace(go.Scatter(x=df['Año'],y=df['Lineas'],marker=dict(color=Colores_pais[pais]),name=pais,\n",
    "                            mode='lines+markers',text=df['Lineas'],hovertemplate ='<br><b>País</b>:<br><extra></extra>'+pais+\n",
    "        '<br><b>Accesos</b>: %{text}<br>'))\n",
    "fig.update_layout(barmode='stack')    \n",
    "fig.show()   "
   ]
  },
  {
   "cell_type": "code",
   "execution_count": null,
   "id": "7173900f",
   "metadata": {
    "ExecuteTime": {
     "end_time": "2022-08-16T14:24:33.611481Z",
     "start_time": "2022-08-16T14:24:33.523482Z"
    }
   },
   "outputs": [],
   "source": [
    "fig=make_subplots(rows=1,cols=1)\n",
    "for pais in TelFijaInt['País'].unique().tolist():\n",
    "    df=TelFijaInt[TelFijaInt['País']==pais]\n",
    "    fig.add_trace(go.Scatter(x=df['Año'],y=df['País'],marker_size=df['Lineas_log10']*5,marker=dict(color=Colores_pais[pais]),name=pais,\n",
    "                            mode='markers',text=df['Lineas'],hovertemplate ='<br><b>País</b>:<br><extra></extra>'+pais+\n",
    "        '<br><b>Accesos</b>: %{text}<br>'))\n",
    "fig.update_layout(barmode='stack')    \n",
    "fig.show()   "
   ]
  },
  {
   "cell_type": "code",
   "execution_count": null,
   "id": "664c02ee",
   "metadata": {
    "ExecuteTime": {
     "end_time": "2022-08-16T14:15:12.401000Z",
     "start_time": "2022-08-16T14:15:12.337004Z"
    }
   },
   "outputs": [],
   "source": [
    "fig=make_subplots(rows=1,cols=1)\n",
    "for anno in TelFijaInt['Año'].unique().tolist():\n",
    "    df=TelFijaInt[TelFijaInt['Año']==anno]\n",
    "    fig.add_trace(go.Scatter(y=df['País'],x=df['Lineas'],name=anno\n",
    "                            ))\n",
    "fig.update_layout(barmode='stack')    \n",
    "fig.show()   "
   ]
  },
  {
   "cell_type": "code",
   "execution_count": null,
   "id": "ecdfc79e",
   "metadata": {
    "ExecuteTime": {
     "end_time": "2022-08-17T15:49:28.598393Z",
     "start_time": "2022-08-17T15:49:28.523418Z"
    }
   },
   "outputs": [],
   "source": [
    "TelMovilInt2=GlobalData2[GlobalData2['Variable'].isin(['Telefonía móvil','Población'])]\n",
    "TelMovilInt2=pd.pivot(TelMovilInt2,index=['País','Año'],columns='Variable',values='Accesos').reset_index()\n",
    "TelMovilInt2['Penetración']=round(100*TelMovilInt2['Telefonía móvil']/TelMovilInt2['Población'],2)\n",
    "TelMovilInt2"
   ]
  },
  {
   "cell_type": "markdown",
   "id": "86c6a14f",
   "metadata": {},
   "source": [
    "# IPC"
   ]
  },
  {
   "cell_type": "code",
   "execution_count": null,
   "id": "968d7d3a",
   "metadata": {
    "ExecuteTime": {
     "end_time": "2022-08-22T15:53:12.644044Z",
     "start_time": "2022-08-22T15:53:12.621981Z"
    }
   },
   "outputs": [],
   "source": [
    "def trim(x):\n",
    "    if x in ['1','2','3']:\n",
    "        return '1'\n",
    "    if x in ['4','5','6']:\n",
    "        return '2'\n",
    "    if x in ['7','8','9']:\n",
    "        return '3'\n",
    "    if x in ['10','11','12']:\n",
    "        return '4'    \n",
    "    else:\n",
    "        pass"
   ]
  },
  {
   "cell_type": "code",
   "execution_count": null,
   "id": "d44a445a",
   "metadata": {
    "ExecuteTime": {
     "end_time": "2022-08-22T15:53:12.928323Z",
     "start_time": "2022-08-22T15:53:12.647041Z"
    }
   },
   "outputs": [],
   "source": [
    "IPC=pd.read_csv('https://raw.githubusercontent.com/postdatacrc/Reporte-de-industria/main/Datos_Sin_API/IPC.csv',delimiter=';')\n",
    "IPC=IPC.fillna(0)\n",
    "IPC['anno']=IPC['anno'].astype('int64').astype('str')\n",
    "IPC['mes']=IPC['mes'].astype('int64').astype('str')\n",
    "IPC['subclase-cod']=IPC['subclase-cod'].astype('int64').astype('str')\n",
    "IPC['fecha']=IPC['anno']+'-'+IPC['mes'].str.zfill(2)\n",
    "IPC['trimestre']=IPC['mes'].apply(trim)\n",
    "IPC['periodo']=IPC['anno']+'-T'+IPC['trimestre']\n",
    "IPCTrim=IPC.groupby(['periodo','anno','trimestre','subclase-cod'])['indice2021'].mean().reset_index()\n",
    "IPCAnu=IPC.groupby(['anno','subclase-cod'])['indice2021'].mean().reset_index()"
   ]
  },
  {
   "cell_type": "code",
   "execution_count": null,
   "id": "9225437b",
   "metadata": {
    "ExecuteTime": {
     "end_time": "2022-08-22T15:53:16.031648Z",
     "start_time": "2022-08-22T15:53:16.006662Z"
    }
   },
   "outputs": [],
   "source": [
    "IPCTrimMov=IPCTrim[IPCTrim['subclase-cod']=='8310400'].drop(columns={'subclase-cod'})\n",
    "IPCAnuTot=IPCAnu[IPCAnu['subclase-cod']=='0'].drop(columns={'subclase-cod'})\n",
    "IPCAnuTot"
   ]
  },
  {
   "cell_type": "code",
   "execution_count": null,
   "id": "a47dcab4",
   "metadata": {
    "ExecuteTime": {
     "end_time": "2022-08-22T15:53:35.780255Z",
     "start_time": "2022-08-22T15:53:35.761272Z"
    }
   },
   "outputs": [],
   "source": [
    "IPCTrimMov"
   ]
  },
  {
   "cell_type": "markdown",
   "id": "3b5e472b",
   "metadata": {},
   "source": [
    "# Bla"
   ]
  },
  {
   "cell_type": "code",
   "execution_count": null,
   "id": "f38769e7",
   "metadata": {},
   "outputs": [],
   "source": [
    "data={'Modalidad'=[\"PIB (2019=100)\",\"Crecimiento PIB Ocupados (2019=100)\",\"Tasa de ocupacion\",\n",
    "\"Ingresos quintil 1 (2019=100)\",\n",
    "\"Ingresos quintil 2 (2019=100)\",\n",
    "\"Ingresos quintil 3 (2019=100)\",\n",
    "\"Ingresos quintil 4 (2019=100)\",\n",
    "\"Ingresos quintil 5 (2019=100)\",\n",
    "\"Inflacion Total\",\n",
    "\"Inflacion servicios comunicaciones\"\n",
    "],'2019'=[100.0\n",
    "3.2\n",
    "100.0\n",
    "56.6\n",
    "100.0\n",
    "100.0\n",
    "100.0\n",
    "100.0\n",
    "100.0\n",
    "3.8\n",
    "4.0\n",
    "],\n",
    "'2020'=[\n",
    "93.0\n",
    "-7.0\n",
    "89.0\n",
    "49.8\n",
    "54.7\n",
    "75.0\n",
    "80.9\n",
    "85.9\n",
    "90.0\n",
    "1-6\n",
    "0.6  \n",
    "],\n",
    "'2021'=[102.9\n",
    "10.7\n",
    "94,6\n",
    "52,3\n",
    "83,8\n",
    "87,2\n",
    "89,9\n",
    "93,1\n",
    "93,1\n",
    "5,6\n",
    "-12,0\n",
    "]}"
   ]
  }
 ],
 "metadata": {
  "kernelspec": {
   "display_name": "Python 3 (ipykernel)",
   "language": "python",
   "name": "python3"
  },
  "language_info": {
   "codemirror_mode": {
    "name": "ipython",
    "version": 3
   },
   "file_extension": ".py",
   "mimetype": "text/x-python",
   "name": "python",
   "nbconvert_exporter": "python",
   "pygments_lexer": "ipython3",
   "version": "3.9.7"
  },
  "toc": {
   "base_numbering": 1,
   "nav_menu": {},
   "number_sections": true,
   "sideBar": true,
   "skip_h1_title": false,
   "title_cell": "Table of Contents",
   "title_sidebar": "Contents",
   "toc_cell": false,
   "toc_position": {
    "height": "calc(100% - 180px)",
    "left": "10px",
    "top": "150px",
    "width": "303.542px"
   },
   "toc_section_display": true,
   "toc_window_display": true
  }
 },
 "nbformat": 4,
 "nbformat_minor": 5
}
